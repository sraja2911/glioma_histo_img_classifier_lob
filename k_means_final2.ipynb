{
 "cells": [
  {
   "cell_type": "code",
   "execution_count": 1,
   "metadata": {},
   "outputs": [],
   "source": [
    "from __future__ import print_function\n",
    "\n",
    "import histomicstk as htk\n",
    "\n",
    "import numpy as np\n",
    "import scipy as sp\n",
    "\n",
    "import skimage.io\n",
    "import skimage.measure\n",
    "import skimage.color\n",
    "\n",
    "import matplotlib.pyplot as plt\n",
    "import matplotlib.patches as mpatches\n",
    "%matplotlib inline\n",
    "\n",
    "#Some nice default configuration for plots\n",
    "plt.rcParams['figure.figsize'] = 15, 15\n",
    "plt.rcParams['image.cmap'] = 'gray'\n",
    "titlesize = 24\n"
   ]
  },
  {
   "cell_type": "code",
   "execution_count": 2,
   "metadata": {},
   "outputs": [
    {
     "name": "stdout",
     "output_type": "stream",
     "text": [
      "Requirement already satisfied: histomicstk in ./.local/lib/python3.6/site-packages (1.0.0.dev11)\n",
      "Requirement already satisfied: tensorflow>=1.11 in ./.local/lib/python3.6/site-packages (from histomicstk) (1.13.1)\n",
      "Requirement already satisfied: nimfa>=1.3.2 in ./.local/lib/python3.6/site-packages (from histomicstk) (1.3.4)\n",
      "Requirement already satisfied: scipy>=0.19.0 in ./.local/lib/python3.6/site-packages (from histomicstk) (1.3.0)\n",
      "Requirement already satisfied: pandas>=0.19.2 in ./.local/lib/python3.6/site-packages (from histomicstk) (0.24.2)\n",
      "Requirement already satisfied: numpy>=1.12.1 in ./.local/lib/python3.6/site-packages (from histomicstk) (1.16.3)\n",
      "Requirement already satisfied: distributed>=1.21.6 in ./.local/lib/python3.6/site-packages (from histomicstk) (1.28.1)\n",
      "Requirement already satisfied: large-image-source-pil in ./.local/lib/python3.6/site-packages (from histomicstk) (1.0.0.dev44)\n",
      "Requirement already satisfied: scikit-image>=0.14.2 in ./.local/lib/python3.6/site-packages (from histomicstk) (0.15.0)\n",
      "Requirement already satisfied: scikit-learn>=0.18.1 in ./.local/lib/python3.6/site-packages (from histomicstk) (0.21.1)\n",
      "Requirement already satisfied: large-image-source-openslide in ./.local/lib/python3.6/site-packages (from histomicstk) (1.0.0.dev44)\n",
      "Requirement already satisfied: ctk-cli>=1.5 in ./.local/lib/python3.6/site-packages (from histomicstk) (1.5)\n",
      "Requirement already satisfied: tornado in /usr/local/lib/python3.6/dist-packages (from histomicstk) (6.0.2)\n",
      "Requirement already satisfied: dask>=1.1.0 in ./.local/lib/python3.6/site-packages (from histomicstk) (1.2.2)\n",
      "Requirement already satisfied: large-image-source-tiff in ./.local/lib/python3.6/site-packages (from histomicstk) (1.0.0.dev44)\n",
      "Requirement already satisfied: h5py>=2.7.1 in ./.local/lib/python3.6/site-packages (from histomicstk) (2.9.0)\n",
      "Requirement already satisfied: keras>=2.0.8 in ./.local/lib/python3.6/site-packages (from histomicstk) (2.2.4)\n",
      "Requirement already satisfied: tensorflow-estimator<1.14.0rc0,>=1.13.0 in ./.local/lib/python3.6/site-packages (from tensorflow>=1.11->histomicstk) (1.13.0)\n",
      "Requirement already satisfied: tensorboard<1.14.0,>=1.13.0 in ./.local/lib/python3.6/site-packages (from tensorflow>=1.11->histomicstk) (1.13.1)\n",
      "Requirement already satisfied: grpcio>=1.8.6 in ./.local/lib/python3.6/site-packages (from tensorflow>=1.11->histomicstk) (1.20.1)\n",
      "Requirement already satisfied: absl-py>=0.1.6 in ./.local/lib/python3.6/site-packages (from tensorflow>=1.11->histomicstk) (0.7.1)\n",
      "Requirement already satisfied: astor>=0.6.0 in ./.local/lib/python3.6/site-packages (from tensorflow>=1.11->histomicstk) (0.7.1)\n",
      "Requirement already satisfied: protobuf>=3.6.1 in ./.local/lib/python3.6/site-packages (from tensorflow>=1.11->histomicstk) (3.7.1)\n",
      "Requirement already satisfied: wheel>=0.26 in /usr/lib/python3/dist-packages (from tensorflow>=1.11->histomicstk) (0.30.0)\n",
      "Requirement already satisfied: termcolor>=1.1.0 in ./.local/lib/python3.6/site-packages (from tensorflow>=1.11->histomicstk) (1.1.0)\n",
      "Requirement already satisfied: gast>=0.2.0 in ./.local/lib/python3.6/site-packages (from tensorflow>=1.11->histomicstk) (0.2.2)\n",
      "Requirement already satisfied: keras-preprocessing>=1.0.5 in ./.local/lib/python3.6/site-packages (from tensorflow>=1.11->histomicstk) (1.0.9)\n",
      "Requirement already satisfied: keras-applications>=1.0.6 in ./.local/lib/python3.6/site-packages (from tensorflow>=1.11->histomicstk) (1.0.7)\n",
      "Requirement already satisfied: six>=1.10.0 in /usr/lib/python3/dist-packages (from tensorflow>=1.11->histomicstk) (1.11.0)\n",
      "Requirement already satisfied: pytz>=2011k in /usr/lib/python3/dist-packages (from pandas>=0.19.2->histomicstk) (2018.3)\n",
      "Requirement already satisfied: python-dateutil>=2.5.0 in /usr/local/lib/python3.6/dist-packages (from pandas>=0.19.2->histomicstk) (2.8.0)\n",
      "Requirement already satisfied: psutil>=5.0 in ./.local/lib/python3.6/site-packages (from distributed>=1.21.6->histomicstk) (5.6.2)\n",
      "Requirement already satisfied: click>=6.6 in ./.local/lib/python3.6/site-packages (from distributed>=1.21.6->histomicstk) (7.0)\n",
      "Requirement already satisfied: sortedcontainers!=2.0.0,!=2.0.1 in ./.local/lib/python3.6/site-packages (from distributed>=1.21.6->histomicstk) (2.1.0)\n",
      "Requirement already satisfied: msgpack in ./.local/lib/python3.6/site-packages (from distributed>=1.21.6->histomicstk) (0.6.1)\n",
      "Requirement already satisfied: tblib in ./.local/lib/python3.6/site-packages (from distributed>=1.21.6->histomicstk) (1.4.0)\n",
      "Requirement already satisfied: cloudpickle>=0.2.2 in ./.local/lib/python3.6/site-packages (from distributed>=1.21.6->histomicstk) (1.1.1)\n",
      "Requirement already satisfied: toolz>=0.7.4 in ./.local/lib/python3.6/site-packages (from distributed>=1.21.6->histomicstk) (0.9.0)\n",
      "Requirement already satisfied: zict>=0.1.3 in ./.local/lib/python3.6/site-packages (from distributed>=1.21.6->histomicstk) (0.1.4)\n",
      "Requirement already satisfied: pyyaml in /usr/lib/python3/dist-packages (from distributed>=1.21.6->histomicstk) (3.12)\n",
      "Requirement already satisfied: large-image>=1.0.0.dev0 in ./.local/lib/python3.6/site-packages (from large-image-source-pil->histomicstk) (1.0.0.dev44)\n",
      "Requirement already satisfied: matplotlib!=3.0.0,>=2.0.0 in ./.local/lib/python3.6/site-packages (from scikit-image>=0.14.2->histomicstk) (3.0.3)\n",
      "Requirement already satisfied: PyWavelets>=0.4.0 in ./.local/lib/python3.6/site-packages (from scikit-image>=0.14.2->histomicstk) (1.0.3)\n",
      "Requirement already satisfied: pillow>=4.3.0 in /usr/lib/python3/dist-packages (from scikit-image>=0.14.2->histomicstk) (5.1.0)\n",
      "Requirement already satisfied: imageio>=2.0.1 in ./.local/lib/python3.6/site-packages (from scikit-image>=0.14.2->histomicstk) (2.5.0)\n",
      "Requirement already satisfied: networkx>=2.0 in ./.local/lib/python3.6/site-packages (from scikit-image>=0.14.2->histomicstk) (2.3)\n",
      "Requirement already satisfied: joblib>=0.11 in ./.local/lib/python3.6/site-packages (from scikit-learn>=0.18.1->histomicstk) (0.13.2)\n",
      "Requirement already satisfied: openslide-python>=1.1.0 in ./.local/lib/python3.6/site-packages (from large-image-source-openslide->histomicstk) (1.1.1)\n",
      "Requirement already satisfied: libtiff>=0.4.1 in ./.local/lib/python3.6/site-packages (from large-image-source-tiff->histomicstk) (0.4.2)\n",
      "Requirement already satisfied: mock>=2.0.0 in ./.local/lib/python3.6/site-packages (from tensorflow-estimator<1.14.0rc0,>=1.13.0->tensorflow>=1.11->histomicstk) (3.0.5)\n",
      "Requirement already satisfied: markdown>=2.6.8 in ./.local/lib/python3.6/site-packages (from tensorboard<1.14.0,>=1.13.0->tensorflow>=1.11->histomicstk) (3.1)\n",
      "Requirement already satisfied: werkzeug>=0.11.15 in ./.local/lib/python3.6/site-packages (from tensorboard<1.14.0,>=1.13.0->tensorflow>=1.11->histomicstk) (0.15.4)\n",
      "Requirement already satisfied: setuptools in /usr/lib/python3/dist-packages (from protobuf>=3.6.1->tensorflow>=1.11->histomicstk) (39.0.1)\n",
      "Requirement already satisfied: heapdict in ./.local/lib/python3.6/site-packages (from zict>=0.1.3->distributed>=1.21.6->histomicstk) (1.0.0)\n",
      "Requirement already satisfied: cachetools>=3.0.0 in ./.local/lib/python3.6/site-packages (from large-image>=1.0.0.dev0->large-image-source-pil->histomicstk) (3.1.0)\n",
      "Requirement already satisfied: cycler>=0.10 in ./.local/lib/python3.6/site-packages (from matplotlib!=3.0.0,>=2.0.0->scikit-image>=0.14.2->histomicstk) (0.10.0)\n",
      "Requirement already satisfied: pyparsing!=2.0.4,!=2.1.2,!=2.1.6,>=2.0.1 in ./.local/lib/python3.6/site-packages (from matplotlib!=3.0.0,>=2.0.0->scikit-image>=0.14.2->histomicstk) (2.4.0)\n",
      "Requirement already satisfied: kiwisolver>=1.0.1 in ./.local/lib/python3.6/site-packages (from matplotlib!=3.0.0,>=2.0.0->scikit-image>=0.14.2->histomicstk) (1.1.0)\n",
      "Requirement already satisfied: decorator>=4.3.0 in /usr/local/lib/python3.6/dist-packages (from networkx>=2.0->scikit-image>=0.14.2->histomicstk) (4.4.0)\n"
     ]
    }
   ],
   "source": [
    "!pip install  histomicstk --user"
   ]
  },
  {
   "cell_type": "code",
   "execution_count": 3,
   "metadata": {},
   "outputs": [
    {
     "data": {
      "image/png": "[encoded data removed]",
      "text/plain": [
       "<Figure size 432x288 with 1 Axes>"
      ]
     },
     "metadata": {
      "needs_background": "light"
     },
     "output_type": "display_data"
    }
   ],
   "source": [
    "inputImageFile = ('/home/gutmanlab/Downloads/papers/colon.jpeg')  # H&E.png\n",
    "\n",
    "imInput = skimage.io.imread(inputImageFile)[:, :, :3]\n",
    "\n",
    "plt.imshow(imInput)\n",
    "_ = plt.title('Input Image', fontsize=16)"
   ]
  },
  {
   "cell_type": "code",
   "execution_count": 4,
   "metadata": {},
   "outputs": [
    {
     "data": {
      "text/plain": [
       "(194, 259, 3)"
      ]
     },
     "execution_count": 4,
     "metadata": {},
     "output_type": "execute_result"
    }
   ],
   "source": [
    "imInput.shape"
   ]
  },
  {
   "cell_type": "code",
   "execution_count": 5,
   "metadata": {},
   "outputs": [
    {
     "data": {
      "text/plain": [
       "(50246, 3)"
      ]
     },
     "execution_count": 5,
     "metadata": {},
     "output_type": "execute_result"
    }
   ],
   "source": [
    "x, y, z = imInput.shape\n",
    "\n",
    "image_2d = imInput.reshape(x*y, z)\n",
    "\n",
    "image_2d.shape"
   ]
  },
  {
   "cell_type": "code",
   "execution_count": 6,
   "metadata": {},
   "outputs": [
    {
     "data": {
      "text/plain": [
       "Array([[180, 255, 216],\n",
       "       [180, 255, 216],\n",
       "       [180, 255, 216],\n",
       "       ...,\n",
       "       [114,  15, 158],\n",
       "       [161,  39, 122],\n",
       "       [ 89,  71, 170]], dtype=uint8)"
      ]
     },
     "execution_count": 6,
     "metadata": {},
     "output_type": "execute_result"
    }
   ],
   "source": [
    "image_2d"
   ]
  },
  {
   "cell_type": "code",
   "execution_count": 7,
   "metadata": {},
   "outputs": [],
   "source": [
    "from sklearn import cluster"
   ]
  },
  {
   "cell_type": "code",
   "execution_count": 8,
   "metadata": {},
   "outputs": [],
   "source": [
    "kmeans_cluster = cluster.KMeans(n_clusters=3)\n",
    "\n",
    "kmeans_cluster.fit(image_2d)\n",
    "\n",
    "cluster_centers = kmeans_cluster.cluster_centers_\n",
    "\n",
    "cluster_labels = kmeans_cluster.labels_"
   ]
  },
  {
   "cell_type": "code",
   "execution_count": 9,
   "metadata": {},
   "outputs": [
    {
     "data": {
      "text/plain": [
       "array([[205.27367862, 236.94804398, 231.31112292],\n",
       "       [199.13355415, 143.15305293, 217.46028373],\n",
       "       [144.10171744,  76.77663055, 181.58321407]])"
      ]
     },
     "execution_count": 9,
     "metadata": {},
     "output_type": "execute_result"
    }
   ],
   "source": [
    "cluster_centers "
   ]
  },
  {
   "cell_type": "code",
   "execution_count": 10,
   "metadata": {},
   "outputs": [
    {
     "data": {
      "text/plain": [
       "array([0, 0, 0, ..., 2, 2, 2], dtype=int32)"
      ]
     },
     "execution_count": 10,
     "metadata": {},
     "output_type": "execute_result"
    }
   ],
   "source": [
    "cluster_labels "
   ]
  },
  {
   "cell_type": "code",
   "execution_count": 11,
   "metadata": {},
   "outputs": [
    {
     "data": {
      "text/plain": [
       "(50246,)"
      ]
     },
     "execution_count": 11,
     "metadata": {},
     "output_type": "execute_result"
    }
   ],
   "source": [
    "cluster_labels.shape"
   ]
  },
  {
   "cell_type": "code",
   "execution_count": 12,
   "metadata": {},
   "outputs": [],
   "source": [
    "cluster_labels4d=tuple(zip(*zip(*image_2d),cluster_labels))"
   ]
  },
  {
   "cell_type": "code",
   "execution_count": 13,
   "metadata": {},
   "outputs": [
    {
     "data": {
      "text/plain": [
       "50246"
      ]
     },
     "execution_count": 13,
     "metadata": {},
     "output_type": "execute_result"
    }
   ],
   "source": [
    "len(cluster_labels4d)"
   ]
  },
  {
   "cell_type": "code",
   "execution_count": null,
   "metadata": {},
   "outputs": [],
   "source": [
    "np.savetxt('/home/gutmanlab/Downloads/papers/kmeans_data.csv', cluster_labels4d, delimiter=',')"
   ]
  },
  {
   "cell_type": "code",
   "execution_count": null,
   "metadata": {},
   "outputs": [],
   "source": [
    "import cv2"
   ]
  },
  {
   "cell_type": "code",
   "execution_count": null,
   "metadata": {},
   "outputs": [],
   "source": [
    "np.savetxt('/home/gutmanlab/Downloads/papers/df1.csv', image_2d, delimiter=',')"
   ]
  },
  {
   "cell_type": "code",
   "execution_count": null,
   "metadata": {},
   "outputs": [],
   "source": [
    "np.savetxt('/home/gutmanlab/Downloads/papers/df1_cluster_labels.csv', cluster_labels, delimiter=',')"
   ]
  },
  {
   "cell_type": "code",
   "execution_count": 15,
   "metadata": {},
   "outputs": [],
   "source": [
    "import pandas as pd"
   ]
  },
  {
   "cell_type": "code",
   "execution_count": 50,
   "metadata": {},
   "outputs": [],
   "source": [
    "df = pd.read_csv('/home/gutmanlab/Downloads/papers/kmeans_data150.csv',names=['RED','GREEN','BLUE','CLUSTER_NO'])\n"
   ]
  },
  {
   "cell_type": "code",
   "execution_count": 51,
   "metadata": {},
   "outputs": [],
   "source": [
    "from sklearn.preprocessing import StandardScaler\n",
    "features = ['RED','GREEN','BLUE']\n",
    "# Separating out the features\n",
    "x = df.loc[:, features].values\n",
    "# Separating out the target\n",
    "y = df.loc[:,['CLUSTER_NO']].values\n",
    "# Standardizing the features\n",
    "x = StandardScaler().fit_transform(x)\n"
   ]
  },
  {
   "cell_type": "code",
   "execution_count": 52,
   "metadata": {},
   "outputs": [
    {
     "data": {
      "text/plain": [
       "array([[-4.75983043e-01,  8.73025474e-01,  1.25411912e-02],\n",
       "       [-4.75983043e-01,  8.73025474e-01,  1.25411912e-02],\n",
       "       [-4.75983043e-01,  8.73025474e-01,  1.25411912e-02],\n",
       "       [-4.75983043e-01,  8.73025474e-01,  1.25411912e-02],\n",
       "       [-4.75983043e-01,  8.73025474e-01,  1.25411912e-02],\n",
       "       [-4.75983043e-01,  8.73025474e-01,  1.25411912e-02],\n",
       "       [-4.75983043e-01,  8.73025474e-01,  1.25411912e-02],\n",
       "       [-4.75983043e-01,  8.73025474e-01,  1.25411912e-02],\n",
       "       [-3.05827046e-01,  8.58166309e-01, -3.00988589e-01],\n",
       "       [-5.78076641e-01,  8.58166309e-01, -4.05498516e-01],\n",
       "       [-6.12107841e-01,  8.73025474e-01, -3.00988589e-01],\n",
       "       [-3.73889445e-01,  8.73025474e-01, -1.96478662e-01],\n",
       "       [-3.73889445e-01,  8.73025474e-01, -4.57753479e-01],\n",
       "       [-7.48232639e-01,  7.39292989e-01, -1.08481304e+00],\n",
       "       [-1.02048223e+00,  8.28447979e-01, -1.13706800e+00],\n",
       "       [-1.05451343e+00,  8.73025474e-01, -7.19028296e-01],\n",
       "       [-5.44045442e-01,  8.58166309e-01, -3.97137722e-02],\n",
       "       [-5.44045442e-01,  8.58166309e-01, -3.97137722e-02],\n",
       "       [-5.44045442e-01,  8.58166309e-01, -3.97137722e-02],\n",
       "       [-5.44045442e-01,  8.58166309e-01, -3.97137722e-02],\n",
       "       [-5.44045442e-01,  8.58166309e-01, -3.97137722e-02],\n",
       "       [-5.44045442e-01,  8.58166309e-01, -3.97137722e-02],\n",
       "       [-5.44045442e-01,  8.58166309e-01, -3.97137722e-02],\n",
       "       [-5.44045442e-01,  8.58166309e-01, -3.97137722e-02],\n",
       "       [-5.78076641e-01,  8.73025474e-01, -2.48733626e-01],\n",
       "       [-5.78076641e-01,  8.73025474e-01, -2.48733626e-01],\n",
       "       [-5.78076641e-01,  8.73025474e-01, -2.48733626e-01],\n",
       "       [-5.78076641e-01,  8.73025474e-01, -2.48733626e-01],\n",
       "       [-5.78076641e-01,  8.73025474e-01, -2.48733626e-01],\n",
       "       [-5.78076641e-01,  8.73025474e-01, -2.48733626e-01],\n",
       "       [-5.78076641e-01,  8.73025474e-01, -2.48733626e-01],\n",
       "       [-5.78076641e-01,  8.73025474e-01, -2.48733626e-01],\n",
       "       [-8.16295038e-01,  8.73025474e-01,  6.47961546e-02],\n",
       "       [-7.48232639e-01,  8.73025474e-01,  6.47961546e-02],\n",
       "       [-6.80170240e-01,  8.73025474e-01,  1.25411912e-02],\n",
       "       [-6.12107841e-01,  8.28447979e-01,  1.25411912e-02],\n",
       "       [-5.78076641e-01,  7.54152154e-01, -1.44223699e-01],\n",
       "       [-4.41951844e-01,  6.64997164e-01, -1.44223699e-01],\n",
       "       [-3.73889445e-01,  6.35278834e-01, -1.96478662e-01],\n",
       "       [-3.73889445e-01,  6.05560504e-01, -1.44223699e-01],\n",
       "       [-5.44045442e-01,  8.58166309e-01,  1.25411912e-02],\n",
       "       [-5.44045442e-01,  8.58166309e-01,  1.25411912e-02],\n",
       "       [-5.44045442e-01,  8.58166309e-01,  1.25411912e-02],\n",
       "       [-5.44045442e-01,  8.58166309e-01,  1.25411912e-02],\n",
       "       [-5.44045442e-01,  8.58166309e-01,  1.25411912e-02],\n",
       "       [-5.44045442e-01,  8.58166309e-01,  1.25411912e-02],\n",
       "       [-5.44045442e-01,  8.58166309e-01,  1.25411912e-02],\n",
       "       [-5.44045442e-01,  8.58166309e-01,  1.25411912e-02],\n",
       "       [-5.10014242e-01,  8.73025474e-01,  6.47961546e-02],\n",
       "       [-5.10014242e-01,  8.73025474e-01,  6.47961546e-02],\n",
       "       [-5.10014242e-01,  8.73025474e-01,  6.47961546e-02],\n",
       "       [-5.10014242e-01,  8.73025474e-01,  6.47961546e-02],\n",
       "       [-5.10014242e-01,  8.73025474e-01,  6.47961546e-02],\n",
       "       [-5.10014242e-01,  8.73025474e-01,  6.47961546e-02],\n",
       "       [-5.10014242e-01,  8.73025474e-01,  6.47961546e-02],\n",
       "       [-5.10014242e-01,  8.73025474e-01,  6.47961546e-02],\n",
       "       [-2.03733447e-01,  7.83870484e-01,  1.17051118e-01],\n",
       "       [-2.03733447e-01,  7.83870484e-01,  1.17051118e-01],\n",
       "       [-2.37764647e-01,  7.69011319e-01,  6.47961546e-02],\n",
       "       [-2.37764647e-01,  7.69011319e-01,  6.47961546e-02],\n",
       "       [-2.37764647e-01,  7.69011319e-01,  6.47961546e-02],\n",
       "       [-2.71795846e-01,  7.54152154e-01,  1.25411912e-02],\n",
       "       [-2.71795846e-01,  7.54152154e-01,  1.25411912e-02],\n",
       "       [-2.71795846e-01,  7.54152154e-01,  1.25411912e-02],\n",
       "       [ 1.87216972e+00,  7.39292989e-01,  6.91855715e-01],\n",
       "       [ 1.70201372e+00,  4.42109689e-01,  1.16215039e+00],\n",
       "       [-2.71795846e-01, -6.27750191e-01, -6.14518369e-01],\n",
       "       [-1.25870063e+00, -1.29641262e+00, -1.08481304e+00],\n",
       "       [ 2.38672145e-01, -1.01408848e+00,  9.00875569e-01],\n",
       "       [ 1.15751453e+00, -1.05866598e+00,  7.44110679e-01],\n",
       "       [ 9.53327334e-01, -1.44500427e+00, -1.34608786e+00],\n",
       "       [ 1.29363933e+00, -1.38556761e+00, -1.71187260e+00],\n",
       "       [-2.44979261e+00, -1.32613095e+00, -8.23538223e-01],\n",
       "       [-9.52419835e-01, -1.05866598e+00, -1.60736267e+00],\n",
       "       [ 2.07635692e+00,  8.54897293e-02,  2.05048476e+00],\n",
       "       [-4.41951844e-01, -1.53415926e+00, -6.66773333e-01],\n",
       "       [-1.22466943e+00, -1.54901842e+00,  1.25411912e-02],\n",
       "       [-3.05827046e-01, -3.60285221e-01,  1.37117024e+00],\n",
       "       [ 8.17202536e-01, -1.85244257e-02, -3.97137722e-02],\n",
       "       [ 8.85264935e-01, -1.07679416e-01, -1.65961764e+00],\n",
       "       [ 3.74796943e-01,  1.74644719e-01, -1.44223699e-01],\n",
       "       [ 1.25960813e+00,  5.01546349e-01,  1.68470002e+00],\n",
       "       [ 1.63395132e+00,  2.19222214e-01,  1.42342520e+00],\n",
       "       [-6.76086496e-02, -9.10074326e-01, -1.45059778e+00],\n",
       "       [ 1.87216972e+00, -4.82427557e-02,  2.05048476e+00],\n",
       "       [ 3.40765744e-01, -9.69510986e-01,  2.73816008e-01],\n",
       "       [-3.05827046e-01, -1.57873675e+00, -1.13706800e+00],\n",
       "       [-1.22466943e+00, -1.90563838e+00, -1.76412756e+00],\n",
       "       [ 1.08945213e+00, -7.31764346e-01, -1.44223699e-01],\n",
       "       [ 1.29363933e+00, -1.32613095e+00, -7.71283260e-01],\n",
       "       [ 7.15108938e-01, -1.56387759e+00, -5.62263406e-01],\n",
       "       [-1.39482543e+00, -1.97993421e+00, -1.55510771e+00],\n",
       "       [-8.50326237e-01, -1.32613095e+00,  7.44110679e-01],\n",
       "       [ 1.29363933e+00, -9.84370151e-01,  2.05048476e+00],\n",
       "       [ 5.78984140e-01, -1.59359592e+00, -8.23538223e-01],\n",
       "       [ 6.13015339e-01, -1.56387759e+00, -1.65961764e+00],\n",
       "       [-1.25870063e+00, -1.56387759e+00, -1.39834282e+00],\n",
       "       [ 4.53749326e-04, -9.84370151e-01, -9.19687356e-02],\n",
       "       [ 1.56588892e+00, -8.95215161e-01,  7.96365642e-01],\n",
       "       [ 1.59992012e+00, -1.37070844e+00, -4.05498516e-01],\n",
       "       [ 1.22557693e+00, -1.20725763e+00, -4.05498516e-01],\n",
       "       [-4.07920644e-01, -1.45986343e+00, -1.13706800e+00],\n",
       "       [ 2.72703345e-01, -1.40042677e+00,  4.30580898e-01],\n",
       "       [ 1.25960813e+00, -1.41528594e+00,  1.00538550e+00],\n",
       "       [ 4.53749326e-04, -9.54651821e-01,  1.17051118e-01],\n",
       "       [ 2.38672145e-01, -1.96834406e-01,  3.78325935e-01],\n",
       "       [ 1.94023212e+00,  8.73025474e-01,  2.05048476e+00],\n",
       "       [ 2.07635692e+00, -7.46623511e-01, -7.71283260e-01],\n",
       "       [ 1.42976413e+00, -1.37070844e+00, -5.62263406e-01],\n",
       "       [ 1.36170173e+00, -1.62331425e+00,  1.69306081e-01],\n",
       "       [ 8.17202536e-01, -1.13296180e+00,  6.91855715e-01],\n",
       "       [ 1.73604492e+00, -9.69510986e-01,  5.87345788e-01],\n",
       "       [ 1.32767053e+00, -6.27750191e-01, -2.96599172e+00],\n",
       "       [ 2.07635692e+00, -1.37397746e-01,  2.05048476e+00],\n",
       "       [ 1.39573293e+00, -1.35584928e+00,  1.10989542e+00],\n",
       "       [ 1.32767053e+00, -1.08838431e+00, -3.33177647e+00],\n",
       "       [ 4.42859342e-01, -4.19721881e-01, -1.39834282e+00],\n",
       "       [-2.61994861e+00, -2.02451170e+00, -7.71283260e-01],\n",
       "       [-3.47072859e+00, -1.89077922e+00, -3.48854136e+00],\n",
       "       [ 6.13015339e-01,  8.73025474e-01,  1.21440535e+00],\n",
       "       [ 1.53185772e+00,  2.48940544e-01, -1.96478662e-01],\n",
       "       [ 3.74796943e-01,  8.73025474e-01,  1.99822980e+00],\n",
       "       [ 1.08945213e+00,  8.28447979e-01,  1.94597484e+00],\n",
       "       [ 2.38672145e-01,  7.69011319e-01,  2.05048476e+00],\n",
       "       [-3.39858245e-01,  8.73025474e-01,  2.05048476e+00],\n",
       "       [ 8.51233736e-01,  8.73025474e-01,  9.00875569e-01],\n",
       "       [ 1.05542093e+00,  8.73025474e-01, -4.05498516e-01],\n",
       "       [ 1.59992012e+00,  5.16405514e-01,  2.05048476e+00],\n",
       "       [-1.83723102e+00, -1.20725763e+00,  1.69306081e-01],\n",
       "       [ 1.36578547e-01, -1.20725763e+00,  1.69306081e-01],\n",
       "       [ 3.06734544e-01, -1.65303258e+00, -4.05498516e-01],\n",
       "       [ 1.19154573e+00, -9.84370151e-01, -1.50285275e+00],\n",
       "       [-4.07920644e-01, -1.96507504e+00, -1.65961764e+00],\n",
       "       [ 1.22557693e+00, -1.56387759e+00,  1.25411912e-02],\n",
       "       [-3.73889445e-01, -1.84620172e+00,  6.39600752e-01],\n",
       "       [-1.97335582e+00, -1.51930009e+00, -1.03255808e+00],\n",
       "       [-1.83723102e+00,  1.74644719e-01,  2.73816008e-01],\n",
       "       [ 2.07635692e+00,  6.50137999e-01,  1.63244506e+00],\n",
       "       [-6.12107841e-01,  8.73025474e-01,  3.26070972e-01],\n",
       "       [-4.41951844e-01,  8.28447979e-01,  1.68470002e+00],\n",
       "       [ 4.53749326e-04,  5.16405514e-01,  1.63244506e+00],\n",
       "       [-5.10014242e-01,  8.73025474e-01,  9.00875569e-01],\n",
       "       [ 1.05542093e+00,  5.75842174e-01,  4.30580898e-01],\n",
       "       [-2.37764647e-01,  5.90701339e-01,  7.44110679e-01],\n",
       "       [ 2.72703345e-01, -1.81975241e-01, -3.00988589e-01],\n",
       "       [-5.10014242e-01, -4.94017706e-01, -4.05498516e-01],\n",
       "       [ 4.76890542e-01, -8.35778501e-01,  3.78325935e-01],\n",
       "       [ 1.08945213e+00, -8.20919336e-01,  8.48620605e-01],\n",
       "       [ 1.32767053e+00,  1.15208059e-01,  2.05048476e+00],\n",
       "       [-2.37764647e-01, -2.85989396e-01, -2.48733626e-01]])"
      ]
     },
     "execution_count": 52,
     "metadata": {},
     "output_type": "execute_result"
    }
   ],
   "source": [
    "x"
   ]
  },
  {
   "cell_type": "code",
   "execution_count": 53,
   "metadata": {},
   "outputs": [],
   "source": [
    "from sklearn.decomposition import PCA\n",
    "pca = PCA(n_components=2)\n",
    "principalComponents = pca.fit_transform(x)\n",
    "principalDf = pd.DataFrame(data = principalComponents, columns = ['principal component 1', 'principal component 2'])"
   ]
  },
  {
   "cell_type": "code",
   "execution_count": 56,
   "metadata": {},
   "outputs": [
    {
     "data": {
      "text/html": [
       "<div>\n",
       "<style scoped>\n",
       "    .dataframe tbody tr th:only-of-type {\n",
       "        vertical-align: middle;\n",
       "    }\n",
       "\n",
       "    .dataframe tbody tr th {\n",
       "        vertical-align: top;\n",
       "    }\n",
       "\n",
       "    .dataframe thead th {\n",
       "        text-align: right;\n",
       "    }\n",
       "</style>\n",
       "<table border=\"1\" class=\"dataframe\">\n",
       "  <thead>\n",
       "    <tr style=\"text-align: right;\">\n",
       "      <th></th>\n",
       "      <th>principal component 1</th>\n",
       "      <th>principal component 2</th>\n",
       "    </tr>\n",
       "  </thead>\n",
       "  <tbody>\n",
       "    <tr>\n",
       "      <th>0</th>\n",
       "      <td>-0.159583</td>\n",
       "      <td>-0.963706</td>\n",
       "    </tr>\n",
       "    <tr>\n",
       "      <th>1</th>\n",
       "      <td>-0.159583</td>\n",
       "      <td>-0.963706</td>\n",
       "    </tr>\n",
       "    <tr>\n",
       "      <th>2</th>\n",
       "      <td>-0.159583</td>\n",
       "      <td>-0.963706</td>\n",
       "    </tr>\n",
       "    <tr>\n",
       "      <th>3</th>\n",
       "      <td>-0.159583</td>\n",
       "      <td>-0.963706</td>\n",
       "    </tr>\n",
       "    <tr>\n",
       "      <th>4</th>\n",
       "      <td>-0.159583</td>\n",
       "      <td>-0.963706</td>\n",
       "    </tr>\n",
       "    <tr>\n",
       "      <th>5</th>\n",
       "      <td>-0.159583</td>\n",
       "      <td>-0.963706</td>\n",
       "    </tr>\n",
       "    <tr>\n",
       "      <th>6</th>\n",
       "      <td>-0.159583</td>\n",
       "      <td>-0.963706</td>\n",
       "    </tr>\n",
       "    <tr>\n",
       "      <th>7</th>\n",
       "      <td>-0.159583</td>\n",
       "      <td>-0.963706</td>\n",
       "    </tr>\n",
       "    <tr>\n",
       "      <th>8</th>\n",
       "      <td>-0.003005</td>\n",
       "      <td>-0.831539</td>\n",
       "    </tr>\n",
       "    <tr>\n",
       "      <th>9</th>\n",
       "      <td>0.210057</td>\n",
       "      <td>-1.014920</td>\n",
       "    </tr>\n",
       "    <tr>\n",
       "      <th>10</th>\n",
       "      <td>0.142237</td>\n",
       "      <td>-1.050799</td>\n",
       "    </tr>\n",
       "    <tr>\n",
       "      <th>11</th>\n",
       "      <td>-0.053957</td>\n",
       "      <td>-0.890570</td>\n",
       "    </tr>\n",
       "    <tr>\n",
       "      <th>12</th>\n",
       "      <td>0.141333</td>\n",
       "      <td>-0.885972</td>\n",
       "    </tr>\n",
       "    <tr>\n",
       "      <th>13</th>\n",
       "      <td>0.854729</td>\n",
       "      <td>-1.031633</td>\n",
       "    </tr>\n",
       "    <tr>\n",
       "      <th>14</th>\n",
       "      <td>0.989299</td>\n",
       "      <td>-1.281257</td>\n",
       "    </tr>\n",
       "    <tr>\n",
       "      <th>15</th>\n",
       "      <td>0.673988</td>\n",
       "      <td>-1.344427</td>\n",
       "    </tr>\n",
       "    <tr>\n",
       "      <th>16</th>\n",
       "      <td>-0.080217</td>\n",
       "      <td>-0.998204</td>\n",
       "    </tr>\n",
       "    <tr>\n",
       "      <th>17</th>\n",
       "      <td>-0.080217</td>\n",
       "      <td>-0.998204</td>\n",
       "    </tr>\n",
       "    <tr>\n",
       "      <th>18</th>\n",
       "      <td>-0.080217</td>\n",
       "      <td>-0.998204</td>\n",
       "    </tr>\n",
       "    <tr>\n",
       "      <th>19</th>\n",
       "      <td>-0.080217</td>\n",
       "      <td>-0.998204</td>\n",
       "    </tr>\n",
       "    <tr>\n",
       "      <th>20</th>\n",
       "      <td>-0.080217</td>\n",
       "      <td>-0.998204</td>\n",
       "    </tr>\n",
       "    <tr>\n",
       "      <th>21</th>\n",
       "      <td>-0.080217</td>\n",
       "      <td>-0.998204</td>\n",
       "    </tr>\n",
       "    <tr>\n",
       "      <th>22</th>\n",
       "      <td>-0.080217</td>\n",
       "      <td>-0.998204</td>\n",
       "    </tr>\n",
       "    <tr>\n",
       "      <th>23</th>\n",
       "      <td>-0.080217</td>\n",
       "      <td>-0.998204</td>\n",
       "    </tr>\n",
       "    <tr>\n",
       "      <th>24</th>\n",
       "      <td>0.086311</td>\n",
       "      <td>-1.028566</td>\n",
       "    </tr>\n",
       "    <tr>\n",
       "      <th>25</th>\n",
       "      <td>0.086311</td>\n",
       "      <td>-1.028566</td>\n",
       "    </tr>\n",
       "    <tr>\n",
       "      <th>26</th>\n",
       "      <td>0.086311</td>\n",
       "      <td>-1.028566</td>\n",
       "    </tr>\n",
       "    <tr>\n",
       "      <th>27</th>\n",
       "      <td>0.086311</td>\n",
       "      <td>-1.028566</td>\n",
       "    </tr>\n",
       "    <tr>\n",
       "      <th>28</th>\n",
       "      <td>0.086311</td>\n",
       "      <td>-1.028566</td>\n",
       "    </tr>\n",
       "    <tr>\n",
       "      <th>29</th>\n",
       "      <td>0.086311</td>\n",
       "      <td>-1.028566</td>\n",
       "    </tr>\n",
       "    <tr>\n",
       "      <th>...</th>\n",
       "      <td>...</td>\n",
       "      <td>...</td>\n",
       "    </tr>\n",
       "    <tr>\n",
       "      <th>120</th>\n",
       "      <td>-0.722548</td>\n",
       "      <td>0.863237</td>\n",
       "    </tr>\n",
       "    <tr>\n",
       "      <th>121</th>\n",
       "      <td>-2.065490</td>\n",
       "      <td>-0.419831</td>\n",
       "    </tr>\n",
       "    <tr>\n",
       "      <th>122</th>\n",
       "      <td>-2.360950</td>\n",
       "      <td>0.099954</td>\n",
       "    </tr>\n",
       "    <tr>\n",
       "      <th>123</th>\n",
       "      <td>-1.991069</td>\n",
       "      <td>-0.437151</td>\n",
       "    </tr>\n",
       "    <tr>\n",
       "      <th>124</th>\n",
       "      <td>-1.750314</td>\n",
       "      <td>-0.906956</td>\n",
       "    </tr>\n",
       "    <tr>\n",
       "      <th>125</th>\n",
       "      <td>-1.481431</td>\n",
       "      <td>-0.076385</td>\n",
       "    </tr>\n",
       "    <tr>\n",
       "      <th>126</th>\n",
       "      <td>-0.606194</td>\n",
       "      <td>0.085518</td>\n",
       "    </tr>\n",
       "    <tr>\n",
       "      <th>127</th>\n",
       "      <td>-2.554073</td>\n",
       "      <td>0.674035</td>\n",
       "    </tr>\n",
       "    <tr>\n",
       "      <th>128</th>\n",
       "      <td>1.318088</td>\n",
       "      <td>-0.368365</td>\n",
       "    </tr>\n",
       "    <tr>\n",
       "      <th>129</th>\n",
       "      <td>0.339727</td>\n",
       "      <td>0.974486</td>\n",
       "    </tr>\n",
       "    <tr>\n",
       "      <th>130</th>\n",
       "      <td>0.882189</td>\n",
       "      <td>1.426978</td>\n",
       "    </tr>\n",
       "    <tr>\n",
       "      <th>131</th>\n",
       "      <td>0.968078</td>\n",
       "      <td>1.558333</td>\n",
       "    </tr>\n",
       "    <tr>\n",
       "      <th>132</th>\n",
       "      <td>2.311829</td>\n",
       "      <td>1.191472</td>\n",
       "    </tr>\n",
       "    <tr>\n",
       "      <th>133</th>\n",
       "      <td>0.074848</td>\n",
       "      <td>1.979420</td>\n",
       "    </tr>\n",
       "    <tr>\n",
       "      <th>134</th>\n",
       "      <td>0.523836</td>\n",
       "      <td>1.087069</td>\n",
       "    </tr>\n",
       "    <tr>\n",
       "      <th>135</th>\n",
       "      <td>2.421909</td>\n",
       "      <td>-0.211197</td>\n",
       "    </tr>\n",
       "    <tr>\n",
       "      <th>136</th>\n",
       "      <td>0.628754</td>\n",
       "      <td>-1.382711</td>\n",
       "    </tr>\n",
       "    <tr>\n",
       "      <th>137</th>\n",
       "      <td>-2.536916</td>\n",
       "      <td>0.907543</td>\n",
       "    </tr>\n",
       "    <tr>\n",
       "      <th>138</th>\n",
       "      <td>-0.326457</td>\n",
       "      <td>-1.061833</td>\n",
       "    </tr>\n",
       "    <tr>\n",
       "      <th>139</th>\n",
       "      <td>-1.406587</td>\n",
       "      <td>-0.937316</td>\n",
       "    </tr>\n",
       "    <tr>\n",
       "      <th>140</th>\n",
       "      <td>-1.448800</td>\n",
       "      <td>-0.406782</td>\n",
       "    </tr>\n",
       "    <tr>\n",
       "      <th>141</th>\n",
       "      <td>-0.806699</td>\n",
       "      <td>-1.002490</td>\n",
       "    </tr>\n",
       "    <tr>\n",
       "      <th>142</th>\n",
       "      <td>-1.099675</td>\n",
       "      <td>0.288549</td>\n",
       "    </tr>\n",
       "    <tr>\n",
       "      <th>143</th>\n",
       "      <td>-0.699599</td>\n",
       "      <td>-0.607654</td>\n",
       "    </tr>\n",
       "    <tr>\n",
       "      <th>144</th>\n",
       "      <td>0.170290</td>\n",
       "      <td>0.324157</td>\n",
       "    </tr>\n",
       "    <tr>\n",
       "      <th>145</th>\n",
       "      <td>0.774394</td>\n",
       "      <td>0.022117</td>\n",
       "    </tr>\n",
       "    <tr>\n",
       "      <th>146</th>\n",
       "      <td>-0.149494</td>\n",
       "      <td>0.930155</td>\n",
       "    </tr>\n",
       "    <tr>\n",
       "      <th>147</th>\n",
       "      <td>-0.811216</td>\n",
       "      <td>1.327739</td>\n",
       "    </tr>\n",
       "    <tr>\n",
       "      <th>148</th>\n",
       "      <td>-2.241676</td>\n",
       "      <td>0.782767</td>\n",
       "    </tr>\n",
       "    <tr>\n",
       "      <th>149</th>\n",
       "      <td>0.430262</td>\n",
       "      <td>0.052159</td>\n",
       "    </tr>\n",
       "  </tbody>\n",
       "</table>\n",
       "<p>150 rows × 2 columns</p>\n",
       "</div>"
      ],
      "text/plain": [
       "     principal component 1  principal component 2\n",
       "0                -0.159583              -0.963706\n",
       "1                -0.159583              -0.963706\n",
       "2                -0.159583              -0.963706\n",
       "3                -0.159583              -0.963706\n",
       "4                -0.159583              -0.963706\n",
       "5                -0.159583              -0.963706\n",
       "6                -0.159583              -0.963706\n",
       "7                -0.159583              -0.963706\n",
       "8                -0.003005              -0.831539\n",
       "9                 0.210057              -1.014920\n",
       "10                0.142237              -1.050799\n",
       "11               -0.053957              -0.890570\n",
       "12                0.141333              -0.885972\n",
       "13                0.854729              -1.031633\n",
       "14                0.989299              -1.281257\n",
       "15                0.673988              -1.344427\n",
       "16               -0.080217              -0.998204\n",
       "17               -0.080217              -0.998204\n",
       "18               -0.080217              -0.998204\n",
       "19               -0.080217              -0.998204\n",
       "20               -0.080217              -0.998204\n",
       "21               -0.080217              -0.998204\n",
       "22               -0.080217              -0.998204\n",
       "23               -0.080217              -0.998204\n",
       "24                0.086311              -1.028566\n",
       "25                0.086311              -1.028566\n",
       "26                0.086311              -1.028566\n",
       "27                0.086311              -1.028566\n",
       "28                0.086311              -1.028566\n",
       "29                0.086311              -1.028566\n",
       "..                     ...                    ...\n",
       "120              -0.722548               0.863237\n",
       "121              -2.065490              -0.419831\n",
       "122              -2.360950               0.099954\n",
       "123              -1.991069              -0.437151\n",
       "124              -1.750314              -0.906956\n",
       "125              -1.481431              -0.076385\n",
       "126              -0.606194               0.085518\n",
       "127              -2.554073               0.674035\n",
       "128               1.318088              -0.368365\n",
       "129               0.339727               0.974486\n",
       "130               0.882189               1.426978\n",
       "131               0.968078               1.558333\n",
       "132               2.311829               1.191472\n",
       "133               0.074848               1.979420\n",
       "134               0.523836               1.087069\n",
       "135               2.421909              -0.211197\n",
       "136               0.628754              -1.382711\n",
       "137              -2.536916               0.907543\n",
       "138              -0.326457              -1.061833\n",
       "139              -1.406587              -0.937316\n",
       "140              -1.448800              -0.406782\n",
       "141              -0.806699              -1.002490\n",
       "142              -1.099675               0.288549\n",
       "143              -0.699599              -0.607654\n",
       "144               0.170290               0.324157\n",
       "145               0.774394               0.022117\n",
       "146              -0.149494               0.930155\n",
       "147              -0.811216               1.327739\n",
       "148              -2.241676               0.782767\n",
       "149               0.430262               0.052159\n",
       "\n",
       "[150 rows x 2 columns]"
      ]
     },
     "execution_count": 56,
     "metadata": {},
     "output_type": "execute_result"
    }
   ],
   "source": [
    "principalDf"
   ]
  },
  {
   "cell_type": "code",
   "execution_count": 54,
   "metadata": {},
   "outputs": [],
   "source": [
    "finalDf = pd.concat([principalDf, df[['CLUSTER_NO']]], axis = 1)"
   ]
  },
  {
   "cell_type": "code",
   "execution_count": 55,
   "metadata": {},
   "outputs": [
    {
     "name": "stderr",
     "output_type": "stream",
     "text": [
      "/home/gutmanlab/.local/lib/python3.6/site-packages/pandas/core/ops.py:1649: FutureWarning:\n",
      "\n",
      "elementwise comparison failed; returning scalar instead, but in the future will perform elementwise comparison\n",
      "\n"
     ]
    },
    {
     "data": {
      "image/png": "[encoded data removed]",
      "text/plain": [
       "<Figure size 576x576 with 1 Axes>"
      ]
     },
     "metadata": {
      "needs_background": "light"
     },
     "output_type": "display_data"
    }
   ],
   "source": [
    "fig = plt.figure(figsize = (8,8))\n",
    "ax = fig.add_subplot(1,1,1) \n",
    "ax.set_xlabel('Principal Component 1', fontsize = 15)\n",
    "ax.set_ylabel('Principal Component 2', fontsize = 15)\n",
    "ax.set_title('2 component PCA', fontsize = 20)\n",
    "targets = ['0','1','2']\n",
    "colors = ['r', 'g', 'b']\n",
    "for target, color in zip(targets,colors):\n",
    "    indicesToKeep = finalDf['CLUSTER_NO'] == target\n",
    "    ax.scatter(finalDf.loc[indicesToKeep, 'principal component 1']\n",
    "               , finalDf.loc[indicesToKeep, 'principal component 2']\n",
    "               , c = color\n",
    "               , s = 50)\n",
    "ax.legend(targets)\n",
    "ax.grid()\n"
   ]
  },
  {
   "cell_type": "code",
   "execution_count": null,
   "metadata": {},
   "outputs": [],
   "source": [
    "pca.explained_variance_ratio_"
   ]
  },
  {
   "cell_type": "code",
   "execution_count": 22,
   "metadata": {},
   "outputs": [
    {
     "data": {
      "text/html": [
       "<div>\n",
       "<style scoped>\n",
       "    .dataframe tbody tr th:only-of-type {\n",
       "        vertical-align: middle;\n",
       "    }\n",
       "\n",
       "    .dataframe tbody tr th {\n",
       "        vertical-align: top;\n",
       "    }\n",
       "\n",
       "    .dataframe thead th {\n",
       "        text-align: right;\n",
       "    }\n",
       "</style>\n",
       "<table border=\"1\" class=\"dataframe\">\n",
       "  <thead>\n",
       "    <tr style=\"text-align: right;\">\n",
       "      <th></th>\n",
       "      <th>RED</th>\n",
       "      <th>GREEN</th>\n",
       "      <th>BLUE</th>\n",
       "      <th>CLUSTER_NO</th>\n",
       "    </tr>\n",
       "  </thead>\n",
       "  <tbody>\n",
       "    <tr>\n",
       "      <th>145</th>\n",
       "      <td>179</td>\n",
       "      <td>163</td>\n",
       "      <td>208</td>\n",
       "      <td>1</td>\n",
       "    </tr>\n",
       "    <tr>\n",
       "      <th>146</th>\n",
       "      <td>208</td>\n",
       "      <td>140</td>\n",
       "      <td>223</td>\n",
       "      <td>1</td>\n",
       "    </tr>\n",
       "    <tr>\n",
       "      <th>147</th>\n",
       "      <td>226</td>\n",
       "      <td>141</td>\n",
       "      <td>232</td>\n",
       "      <td>1</td>\n",
       "    </tr>\n",
       "    <tr>\n",
       "      <th>148</th>\n",
       "      <td>233</td>\n",
       "      <td>204</td>\n",
       "      <td>255</td>\n",
       "      <td>0</td>\n",
       "    </tr>\n",
       "    <tr>\n",
       "      <th>149</th>\n",
       "      <td>187</td>\n",
       "      <td>177</td>\n",
       "      <td>211</td>\n",
       "      <td>1</td>\n",
       "    </tr>\n",
       "  </tbody>\n",
       "</table>\n",
       "</div>"
      ],
      "text/plain": [
       "     RED  GREEN  BLUE  CLUSTER_NO\n",
       "145  179    163   208           1\n",
       "146  208    140   223           1\n",
       "147  226    141   232           1\n",
       "148  233    204   255           0\n",
       "149  187    177   211           1"
      ]
     },
     "execution_count": 22,
     "metadata": {},
     "output_type": "execute_result"
    }
   ],
   "source": [
    "df1 = pd.read_csv(\n",
    "    filepath_or_buffer='/home/gutmanlab/Downloads/papers/kmeans_data150.csv', \n",
    "    header=None, \n",
    "    sep=',')\n",
    "\n",
    "df1.columns=['RED', 'GREEN', 'BLUE', 'CLUSTER_NO']\n",
    "df1.dropna(how=\"all\", inplace=True) # drops the empty line at file-end\n",
    "\n",
    "df1.tail()"
   ]
  },
  {
   "cell_type": "code",
   "execution_count": 23,
   "metadata": {},
   "outputs": [],
   "source": [
    "X1 = df1.iloc[:,0:3].values\n",
    "y1 = df1.iloc[:,3].values"
   ]
  },
  {
   "cell_type": "code",
   "execution_count": 25,
   "metadata": {},
   "outputs": [
    {
     "ename": "ModuleNotFoundError",
     "evalue": "No module named 'plotly'",
     "output_type": "error",
     "traceback": [
      "\u001b[0;31m---------------------------------------------------------------------------\u001b[0m",
      "\u001b[0;31mModuleNotFoundError\u001b[0m                       Traceback (most recent call last)",
      "\u001b[0;32m<ipython-input-25-7d47108660f6>\u001b[0m in \u001b[0;36m<module>\u001b[0;34m\u001b[0m\n\u001b[1;32m      2\u001b[0m \u001b[0;32mimport\u001b[0m \u001b[0mnumpy\u001b[0m \u001b[0;32mas\u001b[0m \u001b[0mnp\u001b[0m\u001b[0;34m\u001b[0m\u001b[0;34m\u001b[0m\u001b[0m\n\u001b[1;32m      3\u001b[0m \u001b[0;32mimport\u001b[0m \u001b[0mscipy\u001b[0m \u001b[0;32mas\u001b[0m \u001b[0msp\u001b[0m\u001b[0;34m\u001b[0m\u001b[0;34m\u001b[0m\u001b[0m\n\u001b[0;32m----> 4\u001b[0;31m \u001b[0;32mimport\u001b[0m \u001b[0mplotly\u001b[0m\u001b[0;34m.\u001b[0m\u001b[0mplotly\u001b[0m \u001b[0;32mas\u001b[0m \u001b[0mpy\u001b[0m\u001b[0;34m\u001b[0m\u001b[0;34m\u001b[0m\u001b[0m\n\u001b[0m",
      "\u001b[0;31mModuleNotFoundError\u001b[0m: No module named 'plotly'"
     ]
    }
   ],
   "source": [
    "import pandas as pd\n",
    "import numpy as np\n",
    "import scipy as sp\n",
    "import plotly.plotly as py"
   ]
  },
  {
   "cell_type": "code",
   "execution_count": 27,
   "metadata": {},
   "outputs": [
    {
     "name": "stdout",
     "output_type": "stream",
     "text": [
      "Collecting plotly\n",
      "\u001b[?25l  Downloading https://files.pythonhosted.org/packages/ff/75/3982bac5076d0ce6d23103c03840fcaec90c533409f9d82c19f54512a38a/plotly-3.10.0-py2.py3-none-any.whl (41.5MB)\n",
      "\u001b[K     |████████████████████████████████| 41.5MB 9.5MB/s eta 0:00:01\n",
      "\u001b[?25hRequirement already satisfied: decorator>=4.0.6 in /usr/local/lib/python3.6/dist-packages (from plotly) (4.4.0)\n",
      "Requirement already satisfied: pytz in /usr/lib/python3/dist-packages (from plotly) (2018.3)\n",
      "Requirement already satisfied: nbformat>=4.2 in /usr/local/lib/python3.6/dist-packages (from plotly) (4.4.0)\n",
      "Requirement already satisfied: six in /usr/lib/python3/dist-packages (from plotly) (1.11.0)\n",
      "Requirement already satisfied: requests in /usr/lib/python3/dist-packages (from plotly) (2.18.4)\n",
      "Collecting retrying>=1.3.3 (from plotly)\n",
      "  Downloading https://files.pythonhosted.org/packages/44/ef/beae4b4ef80902f22e3af073397f079c96969c69b2c7d52a57ea9ae61c9d/retrying-1.3.3.tar.gz\n",
      "Requirement already satisfied: jupyter-core in /usr/local/lib/python3.6/dist-packages (from nbformat>=4.2->plotly) (4.4.0)\n",
      "Requirement already satisfied: ipython-genutils in /usr/local/lib/python3.6/dist-packages (from nbformat>=4.2->plotly) (0.2.0)\n",
      "Requirement already satisfied: traitlets>=4.1 in /usr/local/lib/python3.6/dist-packages (from nbformat>=4.2->plotly) (4.3.2)\n",
      "Requirement already satisfied: jsonschema!=2.5.0,>=2.4 in /usr/local/lib/python3.6/dist-packages (from nbformat>=4.2->plotly) (3.0.1)\n",
      "Requirement already satisfied: attrs>=17.4.0 in /usr/local/lib/python3.6/dist-packages (from jsonschema!=2.5.0,>=2.4->nbformat>=4.2->plotly) (19.1.0)\n",
      "Requirement already satisfied: setuptools in /usr/lib/python3/dist-packages (from jsonschema!=2.5.0,>=2.4->nbformat>=4.2->plotly) (39.0.1)\n",
      "Requirement already satisfied: pyrsistent>=0.14.0 in /usr/local/lib/python3.6/dist-packages (from jsonschema!=2.5.0,>=2.4->nbformat>=4.2->plotly) (0.15.2)\n",
      "Building wheels for collected packages: retrying\n",
      "  Building wheel for retrying (setup.py) ... \u001b[?25ldone\n",
      "\u001b[?25h  Stored in directory: /home/gutmanlab/.cache/pip/wheels/d7/a9/33/acc7b709e2a35caa7d4cae442f6fe6fbf2c43f80823d46460c\n",
      "Successfully built retrying\n",
      "Installing collected packages: retrying, plotly\n",
      "Successfully installed plotly-3.10.0 retrying-1.3.3\n",
      "Note: you may need to restart the kernel to use updated packages.\n"
     ]
    }
   ],
   "source": [
    "pip install plotly --user"
   ]
  },
  {
   "cell_type": "code",
   "execution_count": 32,
   "metadata": {},
   "outputs": [],
   "source": [
    "from sklearn.preprocessing import StandardScaler\n",
    "X_std = StandardScaler().fit_transform(X1)\n"
   ]
  },
  {
   "cell_type": "code",
   "execution_count": 33,
   "metadata": {},
   "outputs": [
    {
     "name": "stdout",
     "output_type": "stream",
     "text": [
      "Covariance matrix \n",
      "[[ 1.00671141 -0.12253463  0.37611049]\n",
      " [-0.12253463  1.00671141  0.3521706 ]\n",
      " [ 0.37611049  0.3521706   1.00671141]]\n"
     ]
    }
   ],
   "source": [
    "import numpy as np\n",
    "mean_vec = np.mean(X_std, axis=0)\n",
    "cov_mat = (X_std - mean_vec).T.dot((X_std - mean_vec)) / (X_std.shape[0]-1)\n",
    "print('Covariance matrix \\n%s' %cov_mat)"
   ]
  },
  {
   "cell_type": "code",
   "execution_count": 34,
   "metadata": {},
   "outputs": [
    {
     "name": "stdout",
     "output_type": "stream",
     "text": [
      "NumPy covariance matrix: \n",
      "[[ 1.00671141 -0.12253463  0.37611049]\n",
      " [-0.12253463  1.00671141  0.3521706 ]\n",
      " [ 0.37611049  0.3521706   1.00671141]]\n"
     ]
    }
   ],
   "source": [
    "print('NumPy covariance matrix: \\n%s' %np.cov(X_std.T))"
   ]
  },
  {
   "cell_type": "code",
   "execution_count": 35,
   "metadata": {},
   "outputs": [
    {
     "name": "stdout",
     "output_type": "stream",
     "text": [
      "Eigenvectors \n",
      "[[ 0.53986511  0.68033476  0.49567155]\n",
      " [ 0.51723703 -0.73269024  0.44230179]\n",
      " [-0.66408698 -0.01759638  0.74744822]]\n",
      "\n",
      "Eigenvalues \n",
      "[0.42665997 1.12894791 1.46452634]\n"
     ]
    }
   ],
   "source": [
    "cov_mat = np.cov(X_std.T)\n",
    "\n",
    "eig_vals, eig_vecs = np.linalg.eig(cov_mat)\n",
    "\n",
    "print('Eigenvectors \\n%s' %eig_vecs)\n",
    "print('\\nEigenvalues \\n%s' %eig_vals)"
   ]
  },
  {
   "cell_type": "code",
   "execution_count": 39,
   "metadata": {},
   "outputs": [
    {
     "name": "stdout",
     "output_type": "stream",
     "text": [
      "Eigenvectors \n",
      "[[ 0.53986511  0.68033476  0.49567155]\n",
      " [ 0.51723703 -0.73269024  0.44230179]\n",
      " [-0.66408698 -0.01759638  0.74744822]]\n",
      "\n",
      "Eigenvalues \n",
      "[0.42381557 1.12142159 1.45476283]\n"
     ]
    }
   ],
   "source": [
    "cor_mat1 = np.corrcoef(X_std.T)\n",
    "\n",
    "eig_vals, eig_vecs = np.linalg.eig(cor_mat1)\n",
    "\n",
    "print('Eigenvectors \\n%s' %eig_vecs)\n",
    "print('\\nEigenvalues \\n%s' %eig_vals)\n"
   ]
  },
  {
   "cell_type": "code",
   "execution_count": 38,
   "metadata": {},
   "outputs": [
    {
     "name": "stdout",
     "output_type": "stream",
     "text": [
      "Eigenvectors \n",
      "[[ 0.53986511  0.68033476  0.49567155]\n",
      " [ 0.51723703 -0.73269024  0.44230179]\n",
      " [-0.66408698 -0.01759638  0.74744822]]\n",
      "\n",
      "Eigenvalues \n",
      "[0.42381557 1.12142159 1.45476283]\n"
     ]
    }
   ],
   "source": [
    "cor_mat2 = np.corrcoef(X1.T)\n",
    "\n",
    "eig_vals, eig_vecs = np.linalg.eig(cor_mat2)\n",
    "\n",
    "print('Eigenvectors \\n%s' %eig_vecs)\n",
    "print('\\nEigenvalues \\n%s' %eig_vals)"
   ]
  },
  {
   "cell_type": "code",
   "execution_count": 40,
   "metadata": {},
   "outputs": [
    {
     "data": {
      "text/plain": [
       "array([[-0.49567155,  0.68033476, -0.53986511],\n",
       "       [-0.44230179, -0.73269024, -0.51723703],\n",
       "       [-0.74744822, -0.01759638,  0.66408698]])"
      ]
     },
     "execution_count": 40,
     "metadata": {},
     "output_type": "execute_result"
    }
   ],
   "source": [
    "u,s,v = np.linalg.svd(X_std.T)\n",
    "u"
   ]
  },
  {
   "cell_type": "code",
   "execution_count": 41,
   "metadata": {},
   "outputs": [
    {
     "name": "stdout",
     "output_type": "stream",
     "text": [
      "Everything ok!\n"
     ]
    }
   ],
   "source": [
    "for ev in eig_vecs:\n",
    "    np.testing.assert_array_almost_equal(1.0, np.linalg.norm(ev))\n",
    "print('Everything ok!')\n"
   ]
  },
  {
   "cell_type": "code",
   "execution_count": 42,
   "metadata": {},
   "outputs": [
    {
     "name": "stdout",
     "output_type": "stream",
     "text": [
      "Eigenvalues in descending order:\n",
      "1.4547628327748308\n",
      "1.1214215949696131\n",
      "0.42381557225555677\n"
     ]
    }
   ],
   "source": [
    "# Make a list of (eigenvalue, eigenvector) tuples\n",
    "eig_pairs = [(np.abs(eig_vals[i]), eig_vecs[:,i]) for i in range(len(eig_vals))]\n",
    "\n",
    "# Sort the (eigenvalue, eigenvector) tuples from high to low\n",
    "eig_pairs.sort()\n",
    "eig_pairs.reverse()\n",
    "\n",
    "# Visually confirm that the list is correctly sorted by decreasing eigenvalues\n",
    "print('Eigenvalues in descending order:')\n",
    "for i in eig_pairs:\n",
    "    print(i[0])"
   ]
  },
  {
   "cell_type": "code",
   "execution_count": 44,
   "metadata": {},
   "outputs": [
    {
     "name": "stdout",
     "output_type": "stream",
     "text": [
      "Matrix W:\n",
      " [[ 0.49567155  0.68033476]\n",
      " [ 0.44230179 -0.73269024]\n",
      " [ 0.74744822 -0.01759638]]\n"
     ]
    }
   ],
   "source": [
    "matrix_w = np.hstack((eig_pairs[0][1].reshape(3,1), \n",
    "                      eig_pairs[1][1].reshape(3,1)))\n",
    "\n",
    "print('Matrix W:\\n', matrix_w)\n"
   ]
  },
  {
   "cell_type": "code",
   "execution_count": 45,
   "metadata": {},
   "outputs": [],
   "source": [
    "from sklearn.decomposition import PCA as sklearnPCA\n",
    "sklearn_pca = sklearnPCA(n_components=2)\n",
    "Y_sklearn = sklearn_pca.fit_transform(X_std)"
   ]
  },
  {
   "cell_type": "code",
   "execution_count": 48,
   "metadata": {},
   "outputs": [
    {
     "data": {
      "text/plain": [
       "PCA(copy=True, iterated_power='auto', n_components=2, random_state=None,\n",
       "    svd_solver='auto', tol=0.0, whiten=False)"
      ]
     },
     "execution_count": 48,
     "metadata": {},
     "output_type": "execute_result"
    }
   ],
   "source": [
    "sklearn_pca"
   ]
  },
  {
   "cell_type": "code",
   "execution_count": 47,
   "metadata": {},
   "outputs": [
    {
     "data": {
      "text/plain": [
       "array([[-1.59583367e-01, -9.63705730e-01],\n",
       "       [-1.59583367e-01, -9.63705730e-01],\n",
       "       [-1.59583367e-01, -9.63705730e-01],\n",
       "       [-1.59583367e-01, -9.63705730e-01],\n",
       "       [-1.59583367e-01, -9.63705730e-01],\n",
       "       [-1.59583367e-01, -9.63705730e-01],\n",
       "       [-1.59583367e-01, -9.63705730e-01],\n",
       "       [-1.59583367e-01, -9.63705730e-01],\n",
       "       [-3.00534123e-03, -8.31538537e-01],\n",
       "       [ 2.10056796e-01, -1.01492040e+00],\n",
       "       [ 1.42237099e-01, -1.05079917e+00],\n",
       "       [-5.39567410e-02, -8.90569914e-01],\n",
       "       [ 1.41332657e-01, -8.85972423e-01],\n",
       "       [ 8.54728598e-01, -1.03163265e+00],\n",
       "       [ 9.89299445e-01, -1.28125700e+00],\n",
       "       [ 6.73988000e-01, -1.34442709e+00],\n",
       "       [-8.02166579e-02, -9.98204282e-01],\n",
       "       [-8.02166579e-02, -9.98204282e-01],\n",
       "       [-8.02166579e-02, -9.98204282e-01],\n",
       "       [-8.02166579e-02, -9.98204282e-01],\n",
       "       [-8.02166579e-02, -9.98204282e-01],\n",
       "       [-8.02166579e-02, -9.98204282e-01],\n",
       "       [-8.02166579e-02, -9.98204282e-01],\n",
       "       [-8.02166579e-02, -9.98204282e-01],\n",
       "       [ 8.63109223e-02, -1.02856606e+00],\n",
       "       [ 8.63109223e-02, -1.02856606e+00],\n",
       "       [ 8.63109223e-02, -1.02856606e+00],\n",
       "       [ 8.63109223e-02, -1.02856606e+00],\n",
       "       [ 8.63109223e-02, -1.02856606e+00],\n",
       "       [ 8.63109223e-02, -1.02856606e+00],\n",
       "       [ 8.63109223e-02, -1.02856606e+00],\n",
       "       [ 8.63109223e-02, -1.02856606e+00],\n",
       "       [-2.99582740e-02, -1.19615131e+00],\n",
       "       [-6.36948686e-02, -1.14984609e+00],\n",
       "       [-5.83735836e-02, -1.10262138e+00],\n",
       "       [-7.23934725e-02, -1.02365467e+00],\n",
       "       [ 6.07730451e-02, -9.43307738e-01],\n",
       "       [ 3.27332673e-02, -7.85374316e-01],\n",
       "       [ 5.11990228e-02, -7.16375272e-01],\n",
       "       [ 2.52856137e-02, -6.95520440e-01],\n",
       "       [-1.19274537e-01, -9.99123780e-01],\n",
       "       [-1.19274537e-01, -9.99123780e-01],\n",
       "       [-1.19274537e-01, -9.99123780e-01],\n",
       "       [-1.19274537e-01, -9.99123780e-01],\n",
       "       [-1.19274537e-01, -9.99123780e-01],\n",
       "       [-1.19274537e-01, -9.99123780e-01],\n",
       "       [-1.19274537e-01, -9.99123780e-01],\n",
       "       [-1.19274537e-01, -9.99123780e-01],\n",
       "       [-1.81772950e-01, -9.87777836e-01],\n",
       "       [-1.81772950e-01, -9.87777836e-01],\n",
       "       [-1.81772950e-01, -9.87777836e-01],\n",
       "       [-1.81772950e-01, -9.87777836e-01],\n",
       "       [-1.81772950e-01, -9.87777836e-01],\n",
       "       [-1.81772950e-01, -9.87777836e-01],\n",
       "       [-1.81772950e-01, -9.87777836e-01],\n",
       "       [-1.81772950e-01, -9.87777836e-01],\n",
       "       [-3.33212093e-01, -7.15000872e-01],\n",
       "       [-3.33212093e-01, -7.15000872e-01],\n",
       "       [-2.70713681e-01, -7.26346817e-01],\n",
       "       [-2.70713681e-01, -7.26346817e-01],\n",
       "       [-2.70713681e-01, -7.26346817e-01],\n",
       "       [-2.08215269e-01, -7.37692762e-01],\n",
       "       [-2.08215269e-01, -7.37692762e-01],\n",
       "       [-2.08215269e-01, -7.37692762e-01],\n",
       "       [-1.77209820e+00,  7.19855225e-01],\n",
       "       [-1.90783292e+00,  8.13560005e-01],\n",
       "       [ 8.71697162e-01,  2.85847572e-01],\n",
       "       [ 2.00814928e+00,  1.12619856e-01],\n",
       "       [-3.43127688e-01,  8.89537538e-01],\n",
       "       [-6.61681370e-01,  1.55007794e+00],\n",
       "       [ 1.17272171e+00,  1.73100851e+00],\n",
       "       [ 1.25115495e+00,  1.92542242e+00],\n",
       "       [ 2.41639476e+00, -6.80544580e-01],\n",
       "       [ 2.14175764e+00,  1.55993666e-01],\n",
       "       [-2.59963450e+00,  1.31389919e+00],\n",
       "       [ 1.39600288e+00,  8.35121103e-01],\n",
       "       [ 1.28279352e+00,  3.01544811e-01],\n",
       "       [-7.13934197e-01,  3.17850641e-02],\n",
       "       [-3.67186670e-01,  5.70242775e-01],\n",
       "       [ 8.49304412e-01,  7.10375422e-01],\n",
       "       [-1.55222105e-01,  1.29564722e-01],\n",
       "       [-2.10541279e+00,  4.59832461e-01],\n",
       "       [-1.97080220e+00,  9.25964776e-01],\n",
       "       [ 1.52028592e+00,  6.46331326e-01],\n",
       "       [-2.43927460e+00,  1.27296803e+00],\n",
       "       [ 5.52452694e-02,  9.37367844e-01],\n",
       "       [ 1.69976731e+00,  9.68668512e-01],\n",
       "       [ 2.76849507e+00,  5.94099709e-01],\n",
       "       [-1.08549998e-01,  1.27988656e+00],\n",
       "       [ 5.21824182e-01,  1.86532279e+00],\n",
       "       [ 7.57509481e-01,  1.64224510e+00],\n",
       "       [ 2.72946621e+00,  5.29094503e-01],\n",
       "       [ 4.51848404e-01,  3.80043048e-01],\n",
       "       [-1.73846272e+00,  1.56526509e+00],\n",
       "       [ 1.03341654e+00,  1.57600649e+00],\n",
       "       [ 1.62832984e+00,  1.59209674e+00],\n",
       "       [ 2.36079680e+00,  3.14105817e-01],\n",
       "       [ 5.03905634e-01,  7.23165417e-01],\n",
       "       [-9.75453404e-01,  1.70723092e+00],\n",
       "       [ 1.16321055e-01,  2.09992127e+00],\n",
       "       [ 2.29577738e-01,  1.72548377e+00],\n",
       "       [ 1.69779432e+00,  8.12113368e-01],\n",
       "       [ 1.62403047e-01,  1.20403192e+00],\n",
       "       [-7.49842014e-01,  1.87623024e+00],\n",
       "       [ 3.34529646e-01,  6.97713094e-01],\n",
       "       [-3.14021830e-01,  2.99938438e-01],\n",
       "       [-2.88048978e+00,  6.44269004e-01],\n",
       "       [-1.22463830e-01,  1.97323333e+00],\n",
       "       [ 3.17836180e-01,  1.98691672e+00],\n",
       "       [-8.35095396e-02,  2.11282034e+00],\n",
       "       [-4.21079341e-01,  1.37390719e+00],\n",
       "       [-8.70702196e-01,  1.88110778e+00],\n",
       "       [ 1.83649177e+00,  1.41539756e+00],\n",
       "       [-2.50105097e+00,  1.47720666e+00],\n",
       "       [-9.21719903e-01,  1.92345301e+00],\n",
       "       [ 2.31363622e+00,  1.75933616e+00],\n",
       "       [ 1.01131982e+00,  6.33424497e-01],\n",
       "       [ 2.77057343e+00, -2.85530357e-01],\n",
       "       [ 5.16414048e+00, -9.14516139e-01],\n",
       "       [-1.59770011e+00, -2.43970734e-01],\n",
       "       [-7.22547509e-01,  8.63237063e-01],\n",
       "       [-2.06549022e+00, -4.19831460e-01],\n",
       "       [-2.36094988e+00,  9.99542988e-02],\n",
       "       [-1.99106927e+00, -4.37151234e-01],\n",
       "       [-1.75031386e+00, -9.06955724e-01],\n",
       "       [-1.48143091e+00, -7.63854899e-02],\n",
       "       [-6.06193709e-01,  8.55176097e-02],\n",
       "       [-2.55407316e+00,  6.74034888e-01],\n",
       "       [ 1.31808782e+00, -3.68365423e-01],\n",
       "       [ 3.39726576e-01,  9.74485835e-01],\n",
       "       [ 8.82188822e-01,  1.42697831e+00],\n",
       "       [ 9.68077977e-01,  1.55833314e+00],\n",
       "       [ 2.31182911e+00,  1.19147196e+00],\n",
       "       [ 7.48483472e-02,  1.97941974e+00],\n",
       "       [ 5.23836234e-01,  1.08706933e+00],\n",
       "       [ 2.42190918e+00, -2.11196931e-01],\n",
       "       [ 6.28754182e-01, -1.38271078e+00],\n",
       "       [-2.53691640e+00,  9.07542897e-01],\n",
       "       [-3.26457455e-01, -1.06183315e+00],\n",
       "       [-1.40658710e+00, -9.37315566e-01],\n",
       "       [-1.44880015e+00, -4.06781697e-01],\n",
       "       [-8.06699022e-01, -1.00248981e+00],\n",
       "       [-1.09967508e+00,  2.88548943e-01],\n",
       "       [-6.99599292e-01, -6.07654311e-01],\n",
       "       [ 1.70290071e-01,  3.24157356e-01],\n",
       "       [ 7.74393608e-01,  2.21168381e-02],\n",
       "       [-1.49493796e-01,  9.30154793e-01],\n",
       "       [-8.11216298e-01,  1.32773909e+00],\n",
       "       [-2.24167643e+00,  7.82767484e-01],\n",
       "       [ 4.30262298e-01,  5.21588952e-02]])"
      ]
     },
     "execution_count": 47,
     "metadata": {},
     "output_type": "execute_result"
    }
   ],
   "source": [
    "Y_sklearn"
   ]
  },
  {
   "cell_type": "code",
   "execution_count": 49,
   "metadata": {},
   "outputs": [
    {
     "name": "stderr",
     "output_type": "stream",
     "text": [
      "/usr/local/lib/python3.6/dist-packages/ipykernel_launcher.py:7: FutureWarning:\n",
      "\n",
      "elementwise comparison failed; returning scalar instead, but in the future will perform elementwise comparison\n",
      "\n",
      "/usr/local/lib/python3.6/dist-packages/ipykernel_launcher.py:8: FutureWarning:\n",
      "\n",
      "elementwise comparison failed; returning scalar instead, but in the future will perform elementwise comparison\n",
      "\n"
     ]
    },
    {
     "ename": "AttributeError",
     "evalue": "module 'numpy' has no attribute 'plot'",
     "output_type": "error",
     "traceback": [
      "\u001b[0;31m---------------------------------------------------------------------------\u001b[0m",
      "\u001b[0;31mAttributeError\u001b[0m                            Traceback (most recent call last)",
      "\u001b[0;32m<ipython-input-49-2ef6ad7e15bd>\u001b[0m in \u001b[0;36m<module>\u001b[0;34m\u001b[0m\n\u001b[1;32m     24\u001b[0m )\n\u001b[1;32m     25\u001b[0m \u001b[0mfig\u001b[0m \u001b[0;34m=\u001b[0m \u001b[0mdict\u001b[0m\u001b[0;34m(\u001b[0m\u001b[0mdata\u001b[0m\u001b[0;34m=\u001b[0m\u001b[0mdata\u001b[0m\u001b[0;34m,\u001b[0m \u001b[0mlayout\u001b[0m\u001b[0;34m=\u001b[0m\u001b[0mlayout\u001b[0m\u001b[0;34m)\u001b[0m\u001b[0;34m\u001b[0m\u001b[0;34m\u001b[0m\u001b[0m\n\u001b[0;32m---> 26\u001b[0;31m \u001b[0mnp\u001b[0m\u001b[0;34m.\u001b[0m\u001b[0mplot\u001b[0m\u001b[0;34m(\u001b[0m\u001b[0mfig\u001b[0m\u001b[0;34m,\u001b[0m \u001b[0mfilename\u001b[0m\u001b[0;34m=\u001b[0m\u001b[0;34m'pca-scikitlearn'\u001b[0m\u001b[0;34m)\u001b[0m\u001b[0;34m\u001b[0m\u001b[0;34m\u001b[0m\u001b[0m\n\u001b[0m",
      "\u001b[0;31mAttributeError\u001b[0m: module 'numpy' has no attribute 'plot'"
     ]
    }
   ],
   "source": [
    "data = []\n",
    "\n",
    "for name, col in zip(('0', '1', '2'), colors.values()):\n",
    "\n",
    "    trace = dict(\n",
    "        type='scatter',\n",
    "        x=Y_sklearn[y==name,0],\n",
    "        y=Y_sklearn[y==name,1],\n",
    "        mode='markers',\n",
    "        name=name,\n",
    "        marker=dict(\n",
    "            color=col,\n",
    "            size=12,\n",
    "            line=dict(\n",
    "                color='rgba(217, 217, 217, 0.14)',\n",
    "                width=0.5),\n",
    "            opacity=0.8)\n",
    "    )\n",
    "    data.append(trace)\n",
    "\n",
    "layout = dict(\n",
    "        xaxis=dict(title='PC1', showline=False),\n",
    "        yaxis=dict(title='PC2', showline=False)\n",
    ")\n",
    "fig = dict(data=data, layout=layout)\n",
    "np.plot(fig, filename='pca-scikitlearn')"
   ]
  },
  {
   "cell_type": "code",
   "execution_count": null,
   "metadata": {},
   "outputs": [],
   "source": []
  }
 ],
 "metadata": {
  "kernelspec": {
   "display_name": "Python 3",
   "language": "python",
   "name": "python3"
  },
  "language_info": {
   "codemirror_mode": {
    "name": "ipython",
    "version": 3
   },
   "file_extension": ".py",
   "mimetype": "text/x-python",
   "name": "python",
   "nbconvert_exporter": "python",
   "pygments_lexer": "ipython3",
   "version": "3.6.7"
  }
 },
 "nbformat": 4,
 "nbformat_minor": 2
}
