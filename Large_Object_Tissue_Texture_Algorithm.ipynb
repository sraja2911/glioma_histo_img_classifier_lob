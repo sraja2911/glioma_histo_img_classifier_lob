{
 "cells": [
  {
   "cell_type": "code",
   "execution_count": null,
   "metadata": {},
   "outputs": [],
   "source": [
    "from __future__ import print_function\n",
    "%matplotlib inline\n",
    "\n",
    "from sklearn import cluster\n",
    "import histomicstk as htk\n",
    "\n",
    "import numpy as np\n",
    "import scipy as sp\n",
    "\n",
    "import skimage.io\n",
    "import skimage.measure\n",
    "import skimage.color\n",
    "\n",
    "\n",
    "import matplotlib.pyplot as plt\n",
    "import matplotlib.patches as mpatches\n",
    "\n",
    "import cv2\n",
    "import numpy as np\n",
    "import math\n",
    "\n",
    "#Some nice default configuration for plots\n",
    "plt.rcParams['figure.figsize'] = 15, 15\n",
    "plt.rcParams['image.cmap'] = 'gray'\n",
    "titlesize = 24"
   ]
  },
  {
   "cell_type": "code",
   "execution_count": null,
   "metadata": {},
   "outputs": [],
   "source": [
    "def circle_fit(x_coords,y_coords,pixel_len):\n",
    "    # Pre-processing for Circle Fitting Algorithm for Histological objects\n",
    "    x1 = np.array(x_coords) # Array of x-coordinates \n",
    "    y1 = np.array(y_coords) # Array of y-coordinates\n",
    "\n",
    "    # Apply transformation on x,y co-ordinates\n",
    "    x2 = x1.reshape(1, pixel_len)\n",
    "    y2 = y1.reshape(1, pixel_len)\n",
    "\n",
    "    # Mean value of x co-ordinates\n",
    "    sum_x=0\n",
    "    for i in range(pixel_len):\n",
    "        sum_x=sum_x+x2[0,i]\n",
    "    x_mean=sum_x/(pixel_len -1)\n",
    "\n",
    "    # Mean value of y co-ordinates\n",
    "    sum_y=0\n",
    "    for i in range(pixel_len):\n",
    "        sum_y=sum_y+y2[0,i]\n",
    "    y_mean=sum_y/(pixel_len - 1)\n",
    "    \n",
    "    # Circle Fitting Algorithm using linear algebra    \n",
    "    u=[]\n",
    "    v=[]\n",
    "    Suv  = 0\n",
    "    Suu  = 0\n",
    "    Svv  = 0\n",
    "    Suuv = 0\n",
    "    Suvv = 0\n",
    "    Suuu = 0\n",
    "    Svvv = 0\n",
    "\n",
    "    # calculation of the reduced coordinates\n",
    "    for i in range(pixel_len):\n",
    "            u.append((x2[0,i] - x_mean))\n",
    "            v.append((y2[0,i] - y_mean))\n",
    "\n",
    "    # linear system defining the center (uc, vc) in reduced coordinates:\n",
    "    #    Suu * uc +  Suv * vc = (Suuu + Suvv)/2\n",
    "    #    Suv * uc +  Svv * vc = (Suuv + Svvv)/2\n",
    "    for i in range(pixel_len):\n",
    "        Suv  = Suv + (u[i]*v[i])\n",
    "        Suu  = Suu+(u[i]*u[i])\n",
    "        Svv  = Svv+(v[i]*v[i])\n",
    "        Suuv = Suuv+(u[i]*u[i]*v[i])\n",
    "        Suvv = Suvv+(u[i]* v[i]**2)\n",
    "        Suuu = Suuu+(u[i]**3)\n",
    "        Svvv = Svvv+(v[i]**3)\n",
    "\n",
    "    # Solving the linear system\n",
    "    A = np.array([ [ Suu, Suv ], [Suv, Svv]])\n",
    "    B = np.array([ Suuu + Suvv, Svvv + Suuv ])/2.0\n",
    "    uc, vc = np.linalg.solve(A, B)\n",
    "\n",
    "    xc_1 = x_mean + uc\n",
    "    yc_1 = y_mean + vc\n",
    "\n",
    "    # Calcuating Radius\n",
    "    alpha = uc**2 + vc**2 +((Suu+Svv)/(pixel_len - 1))\n",
    "    radius=math.sqrt(alpha)\n",
    "    \n",
    "    return xc_1, yc_1,radius "
   ]
  },
  {
   "cell_type": "code",
   "execution_count": null,
   "metadata": {},
   "outputs": [],
   "source": [
    "inputImageFile = ('/media/raj/Raj1_5/10ktiles/train/gbm/TCGA-02-0001-01Z-00-DX2_20x_4768_25216_256x256.png')  # H&E.png\n",
    "\n",
    "imInput = skimage.io.imread(inputImageFile)[:, :, :3]\n",
    "\n",
    "plt.imshow(imInput)\n",
    "_ = plt.title('Input Image', fontsize=16)"
   ]
  },
  {
   "cell_type": "code",
   "execution_count": null,
   "metadata": {},
   "outputs": [],
   "source": [
    "# Converting 3D image data into 2D data for k-means clustering\n",
    "x, y, z = imInput.shape\n",
    "image_2d = imInput.reshape(x*y, z)\n",
    "image_2d.shape"
   ]
  },
  {
   "cell_type": "code",
   "execution_count": null,
   "metadata": {},
   "outputs": [],
   "source": [
    "# Applying K-means clusters on the given image\n",
    "# As the input is image object, the clusters are color intensity\n",
    "# Based on pixel (colored) distances from the respective cluster_centers\n",
    "kmeans_cluster_00 = cluster.KMeans(n_clusters=3)\n",
    "kmeans_cluster_00.fit(image_2d)\n",
    "cluster_centers_00 = kmeans_cluster_00.cluster_centers_\n",
    "cluster_labels_00 = kmeans_cluster_00.labels_"
   ]
  },
  {
   "cell_type": "code",
   "execution_count": null,
   "metadata": {},
   "outputs": [],
   "source": [
    "cluster_labels_00.shape"
   ]
  },
  {
   "cell_type": "code",
   "execution_count": null,
   "metadata": {},
   "outputs": [],
   "source": [
    "# Each row represents respective cluster# \n",
    "# Each column in each row represents color intensity (RGB)\n",
    "# For Eg, in this case, 3 clusters with their RGB values\n",
    "# Cluster#0 is clustered with (243.01990705, 229.31279562, 233.74852959)\n",
    "cluster_centers_00"
   ]
  },
  {
   "cell_type": "code",
   "execution_count": null,
   "metadata": {},
   "outputs": [],
   "source": [
    "cluster_labels_00"
   ]
  },
  {
   "cell_type": "code",
   "execution_count": null,
   "metadata": {},
   "outputs": [],
   "source": [
    "cluster_labels1=np.zeros((256,256))"
   ]
  },
  {
   "cell_type": "code",
   "execution_count": null,
   "metadata": {},
   "outputs": [],
   "source": [
    "cluster_labels1= cluster_labels.reshape(256, 256)"
   ]
  },
  {
   "cell_type": "code",
   "execution_count": null,
   "metadata": {},
   "outputs": [],
   "source": [
    "cluster_labels1.shape"
   ]
  },
  {
   "cell_type": "code",
   "execution_count": null,
   "metadata": {},
   "outputs": [],
   "source": [
    "imOutput=cluster_centers_00[cluster_labels_00].reshape(x, y, z)"
   ]
  },
  {
   "cell_type": "code",
   "execution_count": null,
   "metadata": {},
   "outputs": [],
   "source": [
    "plt.figure(figsize = (15,8))\n",
    "plt.imshow((imOutput * 255).astype(np.uint8))"
   ]
  },
  {
   "cell_type": "code",
   "execution_count": null,
   "metadata": {},
   "outputs": [],
   "source": [
    "imOutput.shape, imInput.shape"
   ]
  },
  {
   "cell_type": "code",
   "execution_count": null,
   "metadata": {},
   "outputs": [],
   "source": [
    "imOutput.size"
   ]
  },
  {
   "cell_type": "markdown",
   "metadata": {},
   "source": [
    "# Finding Largest Circle Object of Tissue component  (LOT)  - Procedure"
   ]
  },
  {
   "cell_type": "markdown",
   "metadata": {},
   "source": [
    "# Finding LOT for first cluster (Cluster0 of 1st run of k-means)"
   ]
  },
  {
   "cell_type": "code",
   "execution_count": null,
   "metadata": {},
   "outputs": [],
   "source": [
    "# Adding up three cluster_positions with their x,y coordinates\n",
    "clust_00_x=[]\n",
    "clust_00_y=[]\n",
    "clust_01_x=[]\n",
    "clust_01_y=[]\n",
    "clust_02_x=[]\n",
    "clust_02_y=[]\n",
    "for i in range(0,255):\n",
    "       for j in range(0,255):\n",
    "        if (cluster_labels1[i,j] == 0): clust_00_x.append([i]),clust_00_y.append([j])\n",
    "        if (cluster_labels1[i,j] == 1): clust_01_x.append([i]),clust_01_y.append([j])\n",
    "        if (cluster_labels1[i,j] == 2): clust_02_x.append([i]),clust_02_y.append([j])\n",
    "z=len(clust_00_x)+len(clust_01_x)+len(clust_02_x)\n",
    "z"
   ]
  },
  {
   "cell_type": "code",
   "execution_count": null,
   "metadata": {},
   "outputs": [],
   "source": [
    "len(clust_00_x),len(clust_01_x),len(clust_02_x)"
   ]
  },
  {
   "cell_type": "code",
   "execution_count": null,
   "metadata": {},
   "outputs": [],
   "source": [
    "# Combining x,y coordinates for cluster0\n",
    "cluster_00_xy = np.vstack((cluster_00_x, cluster_00_y)).T "
   ]
  },
  {
   "cell_type": "code",
   "execution_count": null,
   "metadata": {},
   "outputs": [],
   "source": [
    "# Identifying image positions/pixels matching nearest cluster0 intenstity values \n",
    "cluster_00_points = np.where(imInput ==(243, 229, 233)) #[243.01990705, 229.31279562, 233.74852959] Cluster#0 values"
   ]
  },
  {
   "cell_type": "code",
   "execution_count": null,
   "metadata": {},
   "outputs": [],
   "source": [
    "# Splitting up image positios/pixels of cluster_00_points into another 3 clusters\n",
    "# k-means clustering on points distance from cluster_center\n",
    "# As the input is pixel co-ordinates, clusters are based pixel distance from cluster_center\n",
    "cluster_00_0x=[]\n",
    "cluster_00_1x=[]\n",
    "cluster_00_2x=[]\n",
    "cluster_00_0y=[]\n",
    "cluster_00_1y=[]\n",
    "cluster_00_2y=[]\n",
    "for i in range(0,3442):\n",
    "        if (cluster_00_points[2][i] == 0): cluster_00_0x.append(cluster_00_points[0][i]), cluster_00_0y.append(cluster_00_points[1][i])\n",
    "        if (cluster_00_points[2][i] == 1): cluster_00_1x.append(cluster_00_points[0][i]), cluster_00_1y.append(cluster_00_points[1][i])\n",
    "        if (cluster_00_points[2][i] == 2): cluster_00_2x.append(cluster_00_points[0][i]), cluster_00_2y.append(cluster_00_points[1][i])  "
   ]
  },
  {
   "cell_type": "code",
   "execution_count": null,
   "metadata": {},
   "outputs": [],
   "source": [
    "# Combining x,y coordinates for first cluster of cluster00\n",
    "cluster_00_0_xy = np.vstack((cluster_00_0x, cluster_00_0y)).T "
   ]
  },
  {
   "cell_type": "code",
   "execution_count": null,
   "metadata": {},
   "outputs": [],
   "source": [
    "kmeans_cluster_00_1 = cluster.KMeans(n_clusters=3)\n",
    "kmeans_cluster_00_1.fit(cluster_00_0_xy)\n",
    "cluster_00_1_centers= kmeans_cluster_00_1.cluster_centers_\n",
    "cluster_00_1_labels= kmeans_cluster_00_1.labels_"
   ]
  },
  {
   "cell_type": "code",
   "execution_count": null,
   "metadata": {},
   "outputs": [],
   "source": [
    "cluster_00_1_centers"
   ]
  },
  {
   "cell_type": "code",
   "execution_count": null,
   "metadata": {},
   "outputs": [],
   "source": [
    "# Identifying image positions/pixels matching nearest cluster0 intenstity values \n",
    "cluster_00_1_points = np.where(imInput ==()) #[243.01990705, 229.31279562, 233.74852959] Cluster#0 values"
   ]
  },
  {
   "cell_type": "code",
   "execution_count": null,
   "metadata": {},
   "outputs": [],
   "source": [
    "# Splitting up cluster_00_0_points into another 3 clusters \n",
    "# First cluster from cluster0(Image)->cluster0(coordinates)\n",
    "# k-means clustering on points distance from cluster_center\n",
    "# As the input is pixel co-ordinates, clusters are based pixel distance from cluster_center\n",
    "cluster_00_0_0x=[]\n",
    "cluster_00_0_1x=[]\n",
    "cluster_00_0_2x=[]\n",
    "cluster_00_0_0y=[]\n",
    "cluster_00_0_1y=[]\n",
    "cluster_00_0_2y=[]\n",
    "for i in range(0,3442):\n",
    "        if (cluster_00_1_points[2][i] == 0): cluster_00_0_0x.append(cluster_00_1_points[0][i]), cluster_00_0_0y.append(cluster_00_1_points[1][i])\n",
    "        if (cluster_00_1_points[2][i] == 1): cluster_00_0_1x.append(cluster_00_1_points[0][i]), cluster_00_0_1y.append(cluster_00_1_points[1][i])\n",
    "        if (cluster_00_1_points[2][i] == 2): cluster_00_0_2x.append(cluster_00_1_points[0][i]), cluster_00_0_2y.append(cluster_00_1_points[1][i])  "
   ]
  },
  {
   "cell_type": "code",
   "execution_count": null,
   "metadata": {},
   "outputs": [],
   "source": [
    "# Combining x,y coordinates for first cluster of cluster00\n",
    "cluster_00_0_0_xy = np.vstack((cluster_00_0_0x, cluster_00_0_0y)).T "
   ]
  },
  {
   "cell_type": "code",
   "execution_count": null,
   "metadata": {},
   "outputs": [],
   "source": [
    "! pip install circle-fit\n",
    "import circle_fit as cf"
   ]
  },
  {
   "cell_type": "code",
   "execution_count": null,
   "metadata": {},
   "outputs": [],
   "source": [
    "# Applying Circle-fit algorithm on each cluster\n",
    "xc_00,yc_00,r_00,_ = cf.least_squares_circle((cluster_00_xy))\n",
    "xc_00_0,yc_00_0,r_00_0,_ = cf.least_squares_circle((cluster_00_0_xy))\n",
    "xc_00_0_0,yc_00_0_0,r_00_0_0,_ = cf.least_squares_circle((cluster_00_0_0_xy))"
   ]
  },
  {
   "cell_type": "code",
   "execution_count": null,
   "metadata": {},
   "outputs": [],
   "source": [
    "# Drawing Circles for each cluster\n",
    "inputImageFile = ('/media/raj/Raj1_5/10ktiles/train/gbm/TCGA-02-0001-01Z-00-DX2_20x_4768_25216_256x256.png')  # H&E.png\n",
    "imOrig = skimage.io.imread(inputImageFile)[:, :, :3]\n",
    "\n",
    "imInput = imOrig.copy()\n",
    "\n",
    "cv2.circle(imInput,(int(xc_00),int(yc_00)),int(r_00),3)\n",
    "cv2.circle(imInput,(int(xc_00_0),int(yc_00_0)),int(r_00_0),3)\n",
    "cv2.circle(imInput,(int(xc_00_0_0),int(yc_00_0_0)),int(r_00_0_0),3)\n",
    "\n",
    "cv2.imwrite('/home/raj/Downloads/clustered_TCGA-02-0001-01Z-00-DX2_20x_4768_25216_256x256.png',\n",
    "            cv2.cvtColor(imInput, cv2.COLOR_RGB2BGR))\n",
    "           \n",
    "im = cv2.imread('/home/raj/Downloads/clustered_TCGA-02-0001-01Z-00-DX2_20x_4768_25216_256x256.png')\n",
    "\n",
    "plt.imshow(cv2.cvtColor(im, cv2.COLOR_BGR2RGB))\n",
    "plt.show()"
   ]
  },
  {
   "cell_type": "code",
   "execution_count": null,
   "metadata": {},
   "outputs": [],
   "source": []
  },
  {
   "cell_type": "code",
   "execution_count": null,
   "metadata": {},
   "outputs": [],
   "source": []
  },
  {
   "cell_type": "code",
   "execution_count": null,
   "metadata": {},
   "outputs": [],
   "source": []
  },
  {
   "cell_type": "code",
   "execution_count": null,
   "metadata": {},
   "outputs": [],
   "source": [
    "np.shape(cluster_0_points)r"
   ]
  },
  {
   "cell_type": "code",
   "execution_count": null,
   "metadata": {},
   "outputs": [],
   "source": [
    "# First Row represents, x-coordinates of position, Second row represents y-coordinates\n",
    "# Third row represents respective cluster Number\n",
    "# For Eg, the first columun value (0,136,0) represents, (0,136) position in the image with cluster#0\n",
    "cluster_0_points"
   ]
  },
  {
   "cell_type": "code",
   "execution_count": null,
   "metadata": {},
   "outputs": [],
   "source": [
    "# Cluster#0 intensity values [243.01990705, 229.31279562, 233.74852959]\n",
    "# cluster_0, cluster_0, cluster_1, cluster_0\n",
    "# Position's Intensity values closely matches with respective cluster's intensity values\n",
    "imInput[0,136], imInput[0,138], imInput[255,198], imInput[255,236] "
   ]
  },
  {
   "cell_type": "code",
   "execution_count": null,
   "metadata": {},
   "outputs": [],
   "source": [
    "# Identifying image positions/pixels matching nearest cluster1 intenstity values \n",
    "cluster_1_points = np.where(imInput ==(211, 127, 163)) #[211.21876855, 127.25825318, 163.44356371] Cluster#1 values"
   ]
  },
  {
   "cell_type": "code",
   "execution_count": null,
   "metadata": {},
   "outputs": [],
   "source": [
    "cluster_1_points"
   ]
  },
  {
   "cell_type": "code",
   "execution_count": null,
   "metadata": {},
   "outputs": [],
   "source": [
    "# Cluster#1 intensity values [211.21876855, 127.25825318, 163.44356371]\n",
    "# cluster_0, cluster_1, cluster_2\n",
    "# Position's Intensity values closely matches with respective cluster's intensity values\n",
    "imInput[0,33], imInput[0,56], imInput[255,226] "
   ]
  },
  {
   "cell_type": "code",
   "execution_count": null,
   "metadata": {},
   "outputs": [],
   "source": [
    "# Identifying image positions/pixels matching nearest cluster2 intenstity values \n",
    "cluster_2_points = np.where(imInput ==(142, 71, 121)) #[142.47274174,  71.00358138, 121.60684441] Cluster#2 values"
   ]
  },
  {
   "cell_type": "code",
   "execution_count": null,
   "metadata": {},
   "outputs": [],
   "source": [
    "cluster_2_points"
   ]
  },
  {
   "cell_type": "code",
   "execution_count": null,
   "metadata": {},
   "outputs": [],
   "source": [
    "# Cluster#1 intensity values [142.47274174,  71.00358138, 121.60684441]\n",
    "# cluster_0, , cluster_1, cluster_2\n",
    "# Position's Intensity values closely matches with respective cluster's intensity values\n",
    "imInput[0,19],imInput[1,0], imInput[0,204]"
   ]
  },
  {
   "cell_type": "code",
   "execution_count": null,
   "metadata": {},
   "outputs": [],
   "source": [
    "print(np.shape(cluster_0_points))\n",
    "print(np.shape(cluster_1_points))\n",
    "print(np.shape(cluster_2_points))"
   ]
  },
  {
   "cell_type": "code",
   "execution_count": null,
   "metadata": {},
   "outputs": [],
   "source": [
    "cluster_0_points[0].shape, cluster_1_points[0].shape, cluster_2_points[0].shape"
   ]
  },
  {
   "cell_type": "code",
   "execution_count": null,
   "metadata": {},
   "outputs": [],
   "source": []
  },
  {
   "cell_type": "code",
   "execution_count": null,
   "metadata": {},
   "outputs": [],
   "source": [
    "#Splitting up image positios/pixels of cluster_1_points into another 3 clusters based on clusteral values \n",
    "cluster_1_0x=[]\n",
    "cluster_1_1x=[]\n",
    "cluster_1_2x=[]\n",
    "cluster_1_0y=[]\n",
    "cluster_1_1y=[]\n",
    "cluster_1_2y=[]\n",
    "for i in range(0,2326):\n",
    "        if (cluster_1_points[2][i] == 0): cluster_1_0x.append(cluster_1_points[0][i]), cluster_1_0y.append(cluster_1_points[1][i])\n",
    "        if (cluster_1_points[2][i] == 1): cluster_1_1x.append(cluster_1_points[0][i]), cluster_1_1y.append(cluster_1_points[1][i])\n",
    "        if (cluster_1_points[2][i] == 2): cluster_1_2x.append(cluster_1_points[0][i]), cluster_1_2y.append(cluster_1_points[1][i])  "
   ]
  },
  {
   "cell_type": "code",
   "execution_count": null,
   "metadata": {},
   "outputs": [],
   "source": [
    "#Splitting up image positios/pixels of cluster_2_points into another 3 clusters based on clusteral values \n",
    "cluster_2_0x=[]\n",
    "cluster_2_1x=[]\n",
    "cluster_2_2x=[]\n",
    "cluster_2_0y=[]\n",
    "cluster_2_1y=[]\n",
    "cluster_2_2y=[]\n",
    "for i in range(0,377):\n",
    "        if (cluster_2_points[2][i] == 0): cluster_2_0x.append(cluster_2_points[0][i]), cluster_2_0y.append(cluster_2_points[1][i])\n",
    "        if (cluster_2_points[2][i] == 1): cluster_2_1x.append(cluster_2_points[0][i]), cluster_2_1y.append(cluster_2_points[1][i])\n",
    "        if (cluster_2_points[2][i] == 2): cluster_2_2x.append(cluster_2_points[0][i]), cluster_2_2y.append(cluster_2_points[1][i])  "
   ]
  },
  {
   "cell_type": "markdown",
   "metadata": {},
   "source": [
    "### start"
   ]
  },
  {
   "cell_type": "code",
   "execution_count": null,
   "metadata": {},
   "outputs": [],
   "source": [
    "# Cluster_0_0 Circle (Largest Object Circle) generation\n",
    "cluste_0_0_len=len(cluster_0_0x)\n",
    "cluster_0_0_x, cluster_0_0_y, cluster_0_0_radius = circle_fit(cluster_0_0x, cluster_0_0y, cluste_0_0_len)\n",
    "\n",
    "inputImageFile = ('/media/raj/Raj1_5/10ktiles/train/gbm/TCGA-02-0001-01Z-00-DX2_20x_4768_25216_256x256.png')  # H&E.png\n",
    "imOrig = skimage.io.imread(inputImageFile)[:, :, :3]\n",
    "\n",
    "imInput = imOrig.copy()\n",
    "cv2.circle(imInput,(int(round(cluster_0_0_x)),int(round(cluster_0_0_y))),int(round(cluster_0_0_radius)), 3)           \n",
    "cv2.imwrite('/home/raj/Downloads/cluster_0_0_TCGA-02-0001-01Z-00-DX2_20x_4768_25216_256x256.png',\n",
    "            cv2.cvtColor(imInput, cv2.COLOR_RGB2BGR))\n",
    "           \n",
    "im = cv2.imread('/home/raj/Downloads/cluster_0_0_TCGA-02-0001-01Z-00-DX2_20x_4768_25216_256x256.png')\n",
    "\n",
    "plt.imshow(cv2.cvtColor(im, cv2.COLOR_BGR2RGB))\n",
    "plt.show()"
   ]
  },
  {
   "cell_type": "code",
   "execution_count": null,
   "metadata": {},
   "outputs": [],
   "source": [
    "# Cluster_0_1 Circle (Largest Object Circle) generation\n",
    "cluste_0_1_len=len(cluster_0_1x)\n",
    "cluster_0_1_x, cluster_0_1_y, cluster_0_1_radius = circle_fit(cluster_0_1x, cluster_0_1y, cluste_0_1_len)\n",
    "\n",
    "inputImageFile = ('/media/raj/Raj1_5/10ktiles/train/gbm/TCGA-02-0001-01Z-00-DX2_20x_4768_25216_256x256.png')  # H&E.png\n",
    "imOrig = skimage.io.imread(inputImageFile)[:, :, :3]\n",
    "\n",
    "imInput = imOrig.copy()\n",
    "cv2.circle(imInput,(int(round(cluster_0_1_x)),int(round(cluster_0_1_y))),int(round(cluster_0_1_radius)), 3)           \n",
    "cv2.imwrite('/home/raj/Downloads/cluster_0_1_TCGA-02-0001-01Z-00-DX2_20x_4768_25216_256x256.png',\n",
    "            cv2.cvtColor(imInput, cv2.COLOR_RGB2BGR))           \n",
    "\n",
    "im = cv2.imread('/home/raj/Downloads/cluster_0_1_TCGA-02-0001-01Z-00-DX2_20x_4768_25216_256x256.png')\n",
    "plt.imshow(cv2.cvtColor(im, cv2.COLOR_BGR2RGB))\n",
    "plt.show()"
   ]
  },
  {
   "cell_type": "code",
   "execution_count": null,
   "metadata": {},
   "outputs": [],
   "source": [
    "# Cluster_0_2 Circle (Largest Object Circle) generation\n",
    "cluste_0_2_len=len(cluster_0_2x)\n",
    "cluster_0_2_x, cluster_0_2_y, cluster_0_2_radius = circle_fit(cluster_0_2x, cluster_0_2y, cluste_0_2_len)\n",
    "\n",
    "inputImageFile = ('/media/raj/Raj1_5/10ktiles/train/gbm/TCGA-02-0001-01Z-00-DX2_20x_4768_25216_256x256.png')  # H&E.png\n",
    "imOrig = skimage.io.imread(inputImageFile)[:, :, :3]\n",
    "\n",
    "imInput = imOrig.copy()\n",
    "cv2.circle(imInput,(int(round(cluster_0_2_x)),int(round(cluster_0_2_y))),int(round(cluster_0_2_radius)), 3)           \n",
    "cv2.imwrite('/home/raj/Downloads/cluster_0_2_TCGA-02-0001-01Z-00-DX2_20x_4768_25216_256x256.png',\n",
    "            cv2.cvtColor(imInput, cv2.COLOR_RGB2BGR))           \n",
    "\n",
    "im = cv2.imread('/home/raj/Downloads/cluster_0_2_TCGA-02-0001-01Z-00-DX2_20x_4768_25216_256x256.png')\n",
    "plt.imshow(cv2.cvtColor(im, cv2.COLOR_BGR2RGB))\n",
    "plt.show()"
   ]
  },
  {
   "cell_type": "code",
   "execution_count": null,
   "metadata": {},
   "outputs": [],
   "source": [
    "# Cluster_1_0 Circle (Largest Object Circle) generation\n",
    "cluste_1_0_len=len(cluster_1_0x)\n",
    "cluster_1_0_x, cluster_1_0_y, cluster_1_0_radius = circle_fit(cluster_1_0x, cluster_1_0y, cluste_1_0_len)\n",
    "\n",
    "inputImageFile = ('/media/raj/Raj1_5/10ktiles/train/gbm/TCGA-02-0001-01Z-00-DX2_20x_4768_25216_256x256.png')  # H&E.png\n",
    "imOrig = skimage.io.imread(inputImageFile)[:, :, :3]\n",
    "\n",
    "imInput = imOrig.copy()\n",
    "cv2.circle(imInput,(int(round(cluster_1_0_x)),int(round(cluster_1_0_y))),int(round(cluster_1_0_radius)), 3)           \n",
    "cv2.imwrite('/home/raj/Downloads/cluster_1_0_TCGA-02-0001-01Z-00-DX2_20x_4768_25216_256x256.png',\n",
    "            cv2.cvtColor(imInput, cv2.COLOR_RGB2BGR))\n",
    "           \n",
    "im = cv2.imread('/home/raj/Downloads/cluster_1_0_TCGA-02-0001-01Z-00-DX2_20x_4768_25216_256x256.png')\n",
    "\n",
    "plt.imshow(cv2.cvtColor(im, cv2.COLOR_BGR2RGB))\n",
    "plt.show()"
   ]
  },
  {
   "cell_type": "code",
   "execution_count": null,
   "metadata": {},
   "outputs": [],
   "source": [
    "# Cluster_1_1 Circle (Largest Object Circle) generation\n",
    "cluste_1_1_len=len(cluster_1_1x)\n",
    "cluster_1_1_x, cluster_1_1_y, cluster_1_1_radius = circle_fit(cluster_1_1x, cluster_1_1y, cluste_1_1_len)\n",
    "\n",
    "inputImageFile = ('/media/raj/Raj1_5/10ktiles/train/gbm/TCGA-02-0001-01Z-00-DX2_20x_4768_25216_256x256.png')  # H&E.png\n",
    "imOrig = skimage.io.imread(inputImageFile)[:, :, :3]\n",
    "\n",
    "imInput = imOrig.copy()\n",
    "cv2.circle(imInput,(int(round(cluster_1_1_x)),int(round(cluster_1_1_y))),int(round(cluster_1_1_radius)), 3)           \n",
    "cv2.imwrite('/home/raj/Downloads/cluster_1_1_TCGA-02-0001-01Z-00-DX2_20x_4768_25216_256x256.png',\n",
    "            cv2.cvtColor(imInput, cv2.COLOR_RGB2BGR))\n",
    "           \n",
    "im = cv2.imread('/home/raj/Downloads/cluster_1_1_TCGA-02-0001-01Z-00-DX2_20x_4768_25216_256x256.png')\n",
    "\n",
    "plt.imshow(cv2.cvtColor(im, cv2.COLOR_BGR2RGB))\n",
    "plt.show()"
   ]
  },
  {
   "cell_type": "code",
   "execution_count": null,
   "metadata": {},
   "outputs": [],
   "source": [
    "# Cluster_1_2 Circle (Largest Object Circle) generation\n",
    "cluste_1_2_len=len(cluster_1_2x)\n",
    "cluster_1_2_x, cluster_1_2_y, cluster_1_2_radius = circle_fit(cluster_1_2x, cluster_1_2y, cluste_1_2_len)\n",
    "\n",
    "inputImageFile = ('/media/raj/Raj1_5/10ktiles/train/gbm/TCGA-02-0001-01Z-00-DX2_20x_4768_25216_256x256.png')  # H&E.png\n",
    "imOrig = skimage.io.imread(inputImageFile)[:, :, :3]\n",
    "\n",
    "imInput = imOrig.copy()\n",
    "cv2.circle(imInput,(int(round(cluster_1_2_x)),int(round(cluster_1_2_y))),int(round(cluster_1_2_radius)), 3)           \n",
    "cv2.imwrite('/home/raj/Downloads/cluster_1_2_TCGA-02-0001-01Z-00-DX2_20x_4768_25216_256x256.png',\n",
    "            cv2.cvtColor(imInput, cv2.COLOR_RGB2BGR))\n",
    "           \n",
    "im = cv2.imread('/home/raj/Downloads/cluster_1_2_TCGA-02-0001-01Z-00-DX2_20x_4768_25216_256x256.png')\n",
    "\n",
    "plt.imshow(cv2.cvtColor(im, cv2.COLOR_BGR2RGB))\n",
    "plt.show()"
   ]
  },
  {
   "cell_type": "code",
   "execution_count": null,
   "metadata": {},
   "outputs": [],
   "source": [
    "# Cluster_2_0 Circle (Largest Object Circle) generation\n",
    "cluste_2_0_len=len(cluster_2_0x)\n",
    "cluster_2_0_x, cluster_2_0_y, cluster_2_0_radius = circle_fit(cluster_2_0x, cluster_2_0y, cluste_2_0_len)\n",
    "\n",
    "inputImageFile = ('/media/raj/Raj1_5/10ktiles/train/gbm/TCGA-02-0001-01Z-00-DX2_20x_4768_25216_256x256.png')  # H&E.png\n",
    "imOrig = skimage.io.imread(inputImageFile)[:, :, :3]\n",
    "\n",
    "imInput = imOrig.copy()\n",
    "cv2.circle(imInput,(int(round(cluster_2_0_x)),int(round(cluster_2_0_y))),int(round(cluster_2_0_radius)), 3)           \n",
    "cv2.imwrite('/home/raj/Downloads/cluster_2_0_TCGA-02-0001-01Z-00-DX2_20x_4768_25216_256x256.png',\n",
    "            cv2.cvtColor(imInput, cv2.COLOR_RGB2BGR))\n",
    "           \n",
    "im = cv2.imread('/home/raj/Downloads/cluster_2_0_TCGA-02-0001-01Z-00-DX2_20x_4768_25216_256x256.png')\n",
    "\n",
    "plt.imshow(cv2.cvtColor(im, cv2.COLOR_BGR2RGB))\n",
    "plt.show()"
   ]
  },
  {
   "cell_type": "code",
   "execution_count": null,
   "metadata": {},
   "outputs": [],
   "source": [
    "# Cluster_2_1 Circle (Largest Object Circle) generation\n",
    "cluste_2_1_len=len(cluster_2_1x)\n",
    "cluster_2_1_x, cluster_2_1_y, cluster_2_1_radius = circle_fit(cluster_2_1x, cluster_2_1y, cluste_2_1_len)\n",
    "\n",
    "inputImageFile = ('/media/raj/Raj1_5/10ktiles/train/gbm/TCGA-02-0001-01Z-00-DX2_20x_4768_25216_256x256.png')  # H&E.png\n",
    "imOrig = skimage.io.imread(inputImageFile)[:, :, :3]\n",
    "\n",
    "imInput = imOrig.copy()\n",
    "cv2.circle(imInput,(int(round(cluster_2_1_x)),int(round(cluster_2_1_y))),int(round(cluster_2_1_radius)), 3)           \n",
    "cv2.imwrite('/home/raj/Downloads/cluster_2_1_TCGA-02-0001-01Z-00-DX2_20x_4768_25216_256x256.png',\n",
    "            cv2.cvtColor(imInput, cv2.COLOR_RGB2BGR))\n",
    "           \n",
    "im = cv2.imread('/home/raj/Downloads/cluster_2_1_TCGA-02-0001-01Z-00-DX2_20x_4768_25216_256x256.png')\n",
    "\n",
    "plt.imshow(cv2.cvtColor(im, cv2.COLOR_BGR2RGB))\n",
    "plt.show()"
   ]
  },
  {
   "cell_type": "code",
   "execution_count": null,
   "metadata": {},
   "outputs": [],
   "source": [
    "# Cluster_2_2 Circle (Largest Object Circle) generation\n",
    "cluste_2_2_len=len(cluster_2_2x)\n",
    "cluster_2_2_x, cluster_2_2_y, cluster_2_2_radius = circle_fit(cluster_2_2x, cluster_2_2y, cluste_2_2_len)\n",
    "\n",
    "inputImageFile = ('/media/raj/Raj1_5/10ktiles/train/gbm/TCGA-02-0001-01Z-00-DX2_20x_4768_25216_256x256.png')  # H&E.png\n",
    "imOrig = skimage.io.imread(inputImageFile)[:, :, :3]\n",
    "\n",
    "imInput = imOrig.copy()\n",
    "cv2.circle(imInput,(int(round(cluster_2_2_x)),int(round(cluster_2_2_y))),int(round(cluster_2_2_radius)), 3)           \n",
    "cv2.imwrite('/home/raj/Downloads/cluster_2_2_TCGA-02-0001-01Z-00-DX2_20x_4768_25216_256x256.png',\n",
    "            cv2.cvtColor(imInput, cv2.COLOR_RGB2BGR))\n",
    "           \n",
    "im = cv2.imread('/home/raj/Downloads/cluster_2_2_TCGA-02-0001-01Z-00-DX2_20x_4768_25216_256x256.png')\n",
    "\n",
    "plt.imshow(cv2.cvtColor(im, cv2.COLOR_BGR2RGB))\n",
    "plt.show()"
   ]
  },
  {
   "cell_type": "code",
   "execution_count": null,
   "metadata": {},
   "outputs": [],
   "source": [
    "fig=plt.figure(figsize=(10,10))\n",
    "\n",
    "ax1 = fig.add_subplot(3,3,1)\n",
    "ax1.set_title(\"Cluster0\")\n",
    "im1 = cv2.imread('/home/raj/Downloads/cluster_0_0_TCGA-02-0001-01Z-00-DX2_20x_4768_25216_256x256.png')\n",
    "ax1.imshow(cv2.cvtColor(im1, cv2.COLOR_BGR2RGB))\n",
    "\n",
    "ax1 = fig.add_subplot(3,3,2)\n",
    "ax1.set_title(\"Cluster1\")\n",
    "im1 = cv2.imread('/home/raj/Downloads/cluster_0_1_TCGA-02-0001-01Z-00-DX2_20x_4768_25216_256x256.png')\n",
    "ax1.imshow(cv2.cvtColor(im1, cv2.COLOR_BGR2RGB))\n",
    "\n",
    "ax1 = fig.add_subplot(3,3,3)\n",
    "ax1.set_title(\"Cluster2\")\n",
    "im1 = cv2.imread('/home/raj/Downloads/cluster_0_2_TCGA-02-0001-01Z-00-DX2_20x_4768_25216_256x256.png')\n",
    "ax1.imshow(cv2.cvtColor(im1, cv2.COLOR_BGR2RGB))\n",
    "\n",
    "ax1 = fig.add_subplot(3,3,4)\n",
    "ax1.set_title(\"Cluster3\")\n",
    "im1 = cv2.imread('/home/raj/Downloads/cluster_1_0_TCGA-02-0001-01Z-00-DX2_20x_4768_25216_256x256.png')\n",
    "ax1.imshow(cv2.cvtColor(im1, cv2.COLOR_BGR2RGB))\n",
    "\n",
    "ax1 = fig.add_subplot(3,3,5)\n",
    "ax1.set_title(\"Cluster4\")\n",
    "im1 = cv2.imread('/home/raj/Downloads/cluster_1_1_TCGA-02-0001-01Z-00-DX2_20x_4768_25216_256x256.png')\n",
    "ax1.imshow(cv2.cvtColor(im1, cv2.COLOR_BGR2RGB))\n",
    "\n",
    "ax1 = fig.add_subplot(3,3,6)\n",
    "ax1.set_title(\"Cluster5\")\n",
    "im1 = cv2.imread('/home/raj/Downloads/cluster_1_2_TCGA-02-0001-01Z-00-DX2_20x_4768_25216_256x256.png')\n",
    "ax1.imshow(cv2.cvtColor(im1, cv2.COLOR_BGR2RGB))\n",
    "\n",
    "ax1 = fig.add_subplot(3,3,7)\n",
    "ax1.set_title(\"Cluster6\")\n",
    "im1 = cv2.imread('/home/raj/Downloads/cluster_2_0_TCGA-02-0001-01Z-00-DX2_20x_4768_25216_256x256.png')\n",
    "ax1.imshow(cv2.cvtColor(im1, cv2.COLOR_BGR2RGB))\n",
    "\n",
    "ax1 = fig.add_subplot(3,3,8)\n",
    "ax1.set_title(\"Cluster7\")\n",
    "im1 = cv2.imread('/home/raj/Downloads/cluster_2_1_TCGA-02-0001-01Z-00-DX2_20x_4768_25216_256x256.png')\n",
    "ax1.imshow(cv2.cvtColor(im1, cv2.COLOR_BGR2RGB))\n",
    "\n",
    "ax1 = fig.add_subplot(3,3,9)\n",
    "ax1.set_title(\"Cluster8\")\n",
    "im1 = cv2.imread('/home/raj/Downloads/cluster_2_2_TCGA-02-0001-01Z-00-DX2_20x_4768_25216_256x256.png')\n",
    "ax1.imshow(cv2.cvtColor(im1, cv2.COLOR_BGR2RGB))\n",
    "plt.show()"
   ]
  },
  {
   "cell_type": "markdown",
   "metadata": {},
   "source": [
    "## Using python package circle-fit"
   ]
  },
  {
   "cell_type": "code",
   "execution_count": null,
   "metadata": {},
   "outputs": [],
   "source": [
    "! pip install circle-fit"
   ]
  },
  {
   "cell_type": "code",
   "execution_count": null,
   "metadata": {},
   "outputs": [],
   "source": [
    "import circle_fit as cf"
   ]
  },
  {
   "cell_type": "code",
   "execution_count": null,
   "metadata": {},
   "outputs": [],
   "source": [
    "# Cluster_0_0 Circle (Largest Object Circle) generation\n",
    "combined2_2 = np.vstack((cluster_2_2x, cluster_2_2y)).T\n",
    "xc_22,yc_22,r_22,_ = cf.least_squares_circle((combined2_2))\n",
    "\n",
    "inputImageFile = ('/media/raj/Raj1_5/10ktiles/train/gbm/TCGA-02-0001-01Z-00-DX2_20x_4768_25216_256x256.png')  # H&E.png\n",
    "imOrig = skimage.io.imread(inputImageFile)[:, :, :3]\n",
    "\n",
    "imInput = imOrig.copy()\n",
    "cv2.circle(imInput,(int(xc_22),int(yc_22)),int(r_22),3)\n",
    "#cv2.circle(imInput,(int(round(cluster_0_0_x)),int(round(cluster_0_0_y))),int(round(cluster_0_0_radius)), 3)           \n",
    "cv2.imwrite('/home/raj/Downloads/cluster_cf_2_2_TCGA-02-0001-01Z-00-DX2_20x_4768_25216_256x256.png',\n",
    "            cv2.cvtColor(imInput, cv2.COLOR_RGB2BGR))\n",
    "           \n",
    "im = cv2.imread('/home/raj/Downloads/cluster_cf_2_2_TCGA-02-0001-01Z-00-DX2_20x_4768_25216_256x256.png')\n",
    "\n",
    "plt.imshow(cv2.cvtColor(im, cv2.COLOR_BGR2RGB))\n",
    "plt.show()"
   ]
  },
  {
   "cell_type": "code",
   "execution_count": null,
   "metadata": {},
   "outputs": [],
   "source": [
    "fig=plt.figure(figsize=(10,10))\n",
    "\n",
    "ax1 = fig.add_subplot(3,3,1)\n",
    "ax1.set_title(\"Cluster0\")\n",
    "im1 = cv2.imread('/home/raj/Downloads/cluster_cf_0_0_TCGA-02-0001-01Z-00-DX2_20x_4768_25216_256x256.png')\n",
    "ax1.imshow(cv2.cvtColor(im1, cv2.COLOR_BGR2RGB))\n",
    "\n",
    "ax1 = fig.add_subplot(3,3,2)\n",
    "ax1.set_title(\"Cluster1\")\n",
    "im1 = cv2.imread('/home/raj/Downloads/cluster_cf_0_1_TCGA-02-0001-01Z-00-DX2_20x_4768_25216_256x256.png')\n",
    "ax1.imshow(cv2.cvtColor(im1, cv2.COLOR_BGR2RGB))\n",
    "\n",
    "ax1 = fig.add_subplot(3,3,3)\n",
    "ax1.set_title(\"Cluster2\")\n",
    "im1 = cv2.imread('/home/raj/Downloads/cluster_cf_0_2_TCGA-02-0001-01Z-00-DX2_20x_4768_25216_256x256.png')\n",
    "ax1.imshow(cv2.cvtColor(im1, cv2.COLOR_BGR2RGB))\n",
    "\n",
    "ax1 = fig.add_subplot(3,3,4)\n",
    "ax1.set_title(\"Cluster3\")\n",
    "im1 = cv2.imread('/home/raj/Downloads/cluster_cf_1_0_TCGA-02-0001-01Z-00-DX2_20x_4768_25216_256x256.png')\n",
    "ax1.imshow(cv2.cvtColor(im1, cv2.COLOR_BGR2RGB))\n",
    "\n",
    "ax1 = fig.add_subplot(3,3,5)\n",
    "ax1.set_title(\"Cluster4\")\n",
    "im1 = cv2.imread('/home/raj/Downloads/cluster_cf_1_1_TCGA-02-0001-01Z-00-DX2_20x_4768_25216_256x256.png')\n",
    "ax1.imshow(cv2.cvtColor(im1, cv2.COLOR_BGR2RGB))\n",
    "\n",
    "ax1 = fig.add_subplot(3,3,6)\n",
    "ax1.set_title(\"Cluster5\")\n",
    "im1 = cv2.imread('/home/raj/Downloads/cluster_cf_1_2_TCGA-02-0001-01Z-00-DX2_20x_4768_25216_256x256.png')\n",
    "ax1.imshow(cv2.cvtColor(im1, cv2.COLOR_BGR2RGB))\n",
    "\n",
    "ax1 = fig.add_subplot(3,3,7)\n",
    "ax1.set_title(\"Cluster6\")\n",
    "im1 = cv2.imread('/home/raj/Downloads/cluster_cf_2_0_TCGA-02-0001-01Z-00-DX2_20x_4768_25216_256x256.png')\n",
    "ax1.imshow(cv2.cvtColor(im1, cv2.COLOR_BGR2RGB))\n",
    "\n",
    "ax1 = fig.add_subplot(3,3,8)\n",
    "ax1.set_title(\"Cluster7\")\n",
    "im1 = cv2.imread('/home/raj/Downloads/cluster_cf_2_1_TCGA-02-0001-01Z-00-DX2_20x_4768_25216_256x256.png')\n",
    "ax1.imshow(cv2.cvtColor(im1, cv2.COLOR_BGR2RGB))\n",
    "\n",
    "ax1 = fig.add_subplot(3,3,9)\n",
    "ax1.set_title(\"Cluster8\")\n",
    "im1 = cv2.imread('/home/raj/Downloads/cluster_cf_2_2_TCGA-02-0001-01Z-00-DX2_20x_4768_25216_256x256.png')\n",
    "ax1.imshow(cv2.cvtColor(im1, cv2.COLOR_BGR2RGB))\n",
    "plt.show()"
   ]
  },
  {
   "cell_type": "code",
   "execution_count": null,
   "metadata": {},
   "outputs": [],
   "source": []
  }
 ],
 "metadata": {
  "kernelspec": {
   "display_name": "Py3 Opencv HistomicsTK",
   "language": "python",
   "name": "py3opencv"
  },
  "language_info": {
   "codemirror_mode": {
    "name": "ipython",
    "version": 3
   },
   "file_extension": ".py",
   "mimetype": "text/x-python",
   "name": "python",
   "nbconvert_exporter": "python",
   "pygments_lexer": "ipython3",
   "version": "3.6.7"
  }
 },
 "nbformat": 4,
 "nbformat_minor": 2
}
