{
 "cells": [
  {
   "cell_type": "code",
   "execution_count": null,
   "metadata": {},
   "outputs": [],
   "source": [
    "from __future__ import print_function\n",
    "%matplotlib inline\n",
    "\n",
    "from sklearn import cluster\n",
    "import histomicstk as htk\n",
    "\n",
    "import numpy as np\n",
    "import scipy as sp\n",
    "\n",
    "import skimage.io\n",
    "import skimage.measure\n",
    "import skimage.color\n",
    "\n",
    "\n",
    "import matplotlib.pyplot as plt\n",
    "import matplotlib.patches as mpatches\n",
    "\n",
    "import cv2\n",
    "import numpy as np\n",
    "import math\n",
    "\n",
    "#Some nice default configuration for plots\n",
    "plt.rcParams['figure.figsize'] = 15, 15\n",
    "plt.rcParams['image.cmap'] = 'gray'\n",
    "titlesize = 24"
   ]
  },
  {
   "cell_type": "code",
   "execution_count": null,
   "metadata": {},
   "outputs": [],
   "source": [
    "def circle_fit(x_coords,y_coords,pixel_len):\n",
    "    # Pre-processing for Circle Fitting Algorithm for Histological objects\n",
    "    x1 = np.array(x_coords) # Array of x-coordinates \n",
    "    y1 = np.array(y_coords) # Array of y-coordinates\n",
    "\n",
    "    # Apply transformation on x,y co-ordinates\n",
    "    x2 = x1.reshape(1, pixel_len)\n",
    "    y2 = y1.reshape(1, pixel_len)\n",
    "\n",
    "    # Mean value of x co-ordinates\n",
    "    sum_x=0\n",
    "    for i in range(pixel_len):\n",
    "        sum_x=sum_x+x2[0,i]\n",
    "    x_mean=sum_x/(pixel_len -1)\n",
    "\n",
    "    # Mean value of y co-ordinates\n",
    "    sum_y=0\n",
    "    for i in range(pixel_len):\n",
    "        sum_y=sum_y+y2[0,i]\n",
    "    y_mean=sum_y/(pixel_len - 1)\n",
    "    \n",
    "    # Circle Fitting Algorithm using linear algebra    \n",
    "    u=[]\n",
    "    v=[]\n",
    "    Suv  = 0\n",
    "    Suu  = 0\n",
    "    Svv  = 0\n",
    "    Suuv = 0\n",
    "    Suvv = 0\n",
    "    Suuu = 0\n",
    "    Svvv = 0\n",
    "\n",
    "    # calculation of the reduced coordinates\n",
    "    for i in range(pixel_len):\n",
    "            u.append((x2[0,i] - x_mean))\n",
    "            v.append((y2[0,i] - y_mean))\n",
    "\n",
    "    # linear system defining the center (uc, vc) in reduced coordinates:\n",
    "    #    Suu * uc +  Suv * vc = (Suuu + Suvv)/2\n",
    "    #    Suv * uc +  Svv * vc = (Suuv + Svvv)/2\n",
    "    for i in range(pixel_len):\n",
    "        Suv  = Suv + (u[i]*v[i])\n",
    "        Suu  = Suu+(u[i]*u[i])\n",
    "        Svv  = Svv+(v[i]*v[i])\n",
    "        Suuv = Suuv+(u[i]*u[i]*v[i])\n",
    "        Suvv = Suvv+(u[i]* v[i]**2)\n",
    "        Suuu = Suuu+(u[i]**3)\n",
    "        Svvv = Svvv+(v[i]**3)\n",
    "\n",
    "    # Solving the linear system\n",
    "    A = np.array([ [ Suu, Suv ], [Suv, Svv]])\n",
    "    B = np.array([ Suuu + Suvv, Svvv + Suuv ])/2.0\n",
    "    uc, vc = np.linalg.solve(A, B)\n",
    "\n",
    "    xc_1 = x_mean + uc\n",
    "    yc_1 = y_mean + vc\n",
    "\n",
    "    # Calcuating Radius\n",
    "    alpha = uc**2 + vc**2 +((Suu+Svv)/(pixel_len - 1))\n",
    "    radius=math.sqrt(alpha)\n",
    "    \n",
    "    return xc_1, yc_1,radius "
   ]
  },
  {
   "cell_type": "code",
   "execution_count": null,
   "metadata": {},
   "outputs": [],
   "source": [
    "inputImageFile = ('/media/raj/Raj1_5/10ktiles/train/gbm/TCGA-02-0001-01Z-00-DX2_20x_4768_25216_256x256.png')  # H&E.png\n",
    "\n",
    "imInput = skimage.io.imread(inputImageFile)[:, :, :3]\n",
    "\n",
    "plt.imshow(imInput)\n",
    "_ = plt.title('Input Image', fontsize=16)"
   ]
  },
  {
   "cell_type": "markdown",
   "metadata": {},
   "source": [
    "### K Means Cluster Analysis"
   ]
  },
  {
   "cell_type": "code",
   "execution_count": null,
   "metadata": {},
   "outputs": [],
   "source": [
    "# Converting 3D image data into 2D data for k-means clustering\n",
    "x, y, z = imInput.shape\n",
    "image_2d = imInput.reshape(x*y, z)\n",
    "image_2d.shape"
   ]
  },
  {
   "cell_type": "code",
   "execution_count": null,
   "metadata": {},
   "outputs": [],
   "source": [
    "# Applying K-means clusters on the given image\n",
    "# As the input is image object, the clusters are color intensity\n",
    "# Based on pixel (colored) distances from the respective cluster_centers\n",
    "kmeans_cluster_00 = cluster.KMeans(n_clusters=3)\n",
    "kmeans_cluster_00.fit(image_2d)\n",
    "cluster_centers_00 = kmeans_cluster_00.cluster_centers_\n",
    "cluster_labels_00 = kmeans_cluster_00.labels_"
   ]
  },
  {
   "cell_type": "code",
   "execution_count": null,
   "metadata": {},
   "outputs": [],
   "source": [
    "cluster_labels_00"
   ]
  },
  {
   "cell_type": "code",
   "execution_count": null,
   "metadata": {},
   "outputs": [],
   "source": [
    "cluster_centers_00"
   ]
  },
  {
   "cell_type": "code",
   "execution_count": null,
   "metadata": {},
   "outputs": [],
   "source": [
    "kmeans_cluster_00.cluster_centers_[:,0]"
   ]
  },
  {
   "cell_type": "code",
   "execution_count": null,
   "metadata": {},
   "outputs": [],
   "source": [
    "kmeans_cluster_00.cluster_centers_[:,1]"
   ]
  },
  {
   "cell_type": "code",
   "execution_count": null,
   "metadata": {},
   "outputs": [],
   "source": [
    "kmeans_cluster_00.cluster_centers_[:,2]"
   ]
  },
  {
   "cell_type": "code",
   "execution_count": null,
   "metadata": {},
   "outputs": [],
   "source": [
    "white = 0\n",
    "purple = 0\n",
    "pink = 0\n",
    "for i in range (0,65535):\n",
    "    if (cluster_labels_00[i] == 0): white=white+1\n",
    "    if (cluster_labels_00[i] == 1): pink=pink+1\n",
    "    if (cluster_labels_00[i] == 2): purple=purple+1\n",
    "\n",
    "print (purple, white, pink)"
   ]
  },
  {
   "cell_type": "code",
   "execution_count": null,
   "metadata": {},
   "outputs": [],
   "source": [
    "from matplotlib.ticker import FormatStrFormatter\n",
    "\n",
    "data = cluster_labels_00\n",
    "fig, ax = plt.subplots()\n",
    "counts, bins, patches = ax.hist(data, facecolor='yellow', edgecolor='gray')\n",
    "# Set the ticks to be at the edges of the bins.\n",
    "ax.set_xticks(bins)\n",
    "ax.set_title('k-means cluster centers of histo image')\n",
    "ax.set_ylabel('# of image Pixels')\n",
    "ax.set_xlabel('Bin:White Pixels                      Bin:Pink Pixels                Bin:Purple Pixels  ')\n",
    "\n",
    "plt.show()"
   ]
  },
  {
   "cell_type": "code",
   "execution_count": null,
   "metadata": {},
   "outputs": [],
   "source": [
    "plt.xlabel= \"Red\"\n",
    "plt.ylabel= \"Green\"\n",
    "plt.scatter(image_2d[:,0],image_2d[:,1],image_2d[:,2], c=kmeans_cluster_00.labels_, cmap='rainbow') \n",
    "plt.scatter(kmeans_cluster_00.cluster_centers_[:,0],kmeans_cluster_00.cluster_centers_[:,1],kmeans_cluster_00.cluster_centers_[:,2], color='black')"
   ]
  },
  {
   "cell_type": "code",
   "execution_count": null,
   "metadata": {},
   "outputs": [],
   "source": [
    "# To run the silhouette analysis\n",
    "from sklearn.cluster import KMeans\n",
    "from sklearn.metrics import silhouette_samples, silhouette_score\n",
    "\n",
    "for i, k in enumerate([2, 3, 4]):\n",
    "    fig, (ax1, ax2) = plt.subplots(1, 2)\n",
    "    fig.set_size_inches(18, 7)\n",
    "    \n",
    "    # Run the Kmeans algorithm\n",
    "    km = KMeans(n_clusters=k)\n",
    "    labels = km.fit_predict(image_2d)\n",
    "    centroids = km.cluster_centers_\n",
    "\n",
    "    # Get silhouette samples\n",
    "    silhouette_vals = silhouette_samples(image_2d, labels)\n",
    "\n",
    "    # Silhouette plot\n",
    "    y_ticks = []\n",
    "    y_lower, y_upper = 0, 0\n",
    "    for i, cluster in enumerate(np.unique(labels)):\n",
    "        cluster_silhouette_vals = silhouette_vals[labels == cluster]\n",
    "        cluster_silhouette_vals.sort()\n",
    "        y_upper += len(cluster_silhouette_vals)\n",
    "        ax1.barh(range(y_lower, y_upper), cluster_silhouette_vals, edgecolor='none', height=1)\n",
    "        ax1.text(-0.03, (y_lower + y_upper) / 2, str(i + 1))\n",
    "        y_lower += len(cluster_silhouette_vals)\n",
    "\n",
    "    # Get the average silhouette score and plot it\n",
    "    avg_score = np.mean(silhouette_vals)\n",
    "    ax1.axvline(avg_score, linestyle='--', linewidth=2, color='green')\n",
    "    ax1.set_yticks([])\n",
    "    ax1.set_xlim([-0.1, 1])\n",
    "    ax1.set_xlabel('Silhouette coefficient values')\n",
    "    ax1.set_ylabel('Cluster labels')\n",
    "    ax1.set_title('Silhouette plot for the various clusters', y=1.02);\n",
    "    \n",
    "    # Scatter plot of data colored with labels\n",
    "    ax2.scatter(image_2d[:, 0], image_2d[:, 1], c=labels)\n",
    "    #ax2.scatter(centroids[:, 0], centroids[:, 1], marker='*', c='r', s=250)\n",
    "    ax2.scatter(centroids[:, 0], centroids[:, 1], centroids[:, 2], marker='*', c='r')\n",
    "    ax2.set_xlim([-2, 2])\n",
    "    ax2.set_xlim([-2, 2])\n",
    "    ax2.set_xlabel('Eruption time in mins')\n",
    "    ax2.set_ylabel('Waiting time to next eruption')\n",
    "    ax2.set_title('Visualization of clustered data', y=1.02)\n",
    "    ax2.set_aspect('equal')\n",
    "    plt.tight_layout()\n",
    "    plt.suptitle(f'Silhouette analysis using k = {k}',\n",
    "                 fontsize=16, fontweight='semibold', y=1.05);"
   ]
  },
  {
   "cell_type": "markdown",
   "metadata": {},
   "source": [
    "#### Purple, Pink White Pixels - Extraction"
   ]
  },
  {
   "cell_type": "code",
   "execution_count": null,
   "metadata": {},
   "outputs": [],
   "source": [
    "# Load reference image for normalization\n",
    "ref_image_file = ('/media/raj/Raj1_5/10ktiles/train/gbm/TCGA-02-0001-01Z-00-DX2_20x_4768_25216_256x256.png')  # L1.png\n",
    "\n",
    "im_reference = skimage.io.imread(ref_image_file)[:, :, :3]\n",
    "\n",
    "# get mean and stddev of reference image in lab space\n",
    "mean_ref, std_ref = htk.preprocessing.color_conversion.lab_mean_std(im_reference)\n",
    "\n",
    "# perform reinhard color normalization\n",
    "im_nmzd = htk.preprocessing.color_normalization.reinhard(imInput, mean_ref, std_ref)\n",
    "\n",
    "# Display results\n",
    "plt.figure(figsize=(20, 10))\n",
    "\n",
    "plt.subplot(1, 2, 1)\n",
    "plt.imshow(im_reference)\n",
    "_ = plt.title('Reference Image', fontsize=titlesize)\n",
    "\n",
    "plt.subplot(1, 2, 2)\n",
    "plt.imshow(im_nmzd)\n",
    "_ = plt.title('Normalized Input Image', fontsize=titlesize)"
   ]
  },
  {
   "cell_type": "code",
   "execution_count": null,
   "metadata": {},
   "outputs": [],
   "source": [
    "# create stain to color map using HistomicsTK\n",
    "stain_color_map = htk.preprocessing.color_deconvolution.stain_color_map\n",
    "print('stain_color_map:', stain_color_map, sep='\\n')\n",
    "\n",
    "# specify stains of input image\n",
    "stains = ['hematoxylin',  # nuclei stain\n",
    "          'eosin',        # cytoplasm stain\n",
    "          'null']         # set to null if input contains only two stains\n",
    "\n",
    "# create stain matrix\n",
    "W = np.array([stain_color_map[st] for st in stains]).T\n",
    "\n",
    "# perform standard color deconvolution\n",
    "imDeconvolved = htk.preprocessing.color_deconvolution.color_deconvolution(im_nmzd, W)\n",
    "\n",
    "# Display results\n",
    "for i in 0, 1:\n",
    "    plt.figure()\n",
    "    plt.imshow(imDeconvolved.Stains[:, :, i])\n",
    "    _ = plt.title(stains[i], fontsize=titlesize)"
   ]
  },
  {
   "cell_type": "code",
   "execution_count": null,
   "metadata": {},
   "outputs": [],
   "source": [
    "# Calculating Purple, Pink, White Pixels' - x,y co-ordinates\n",
    "# Purple pixel:Cell Nuclie Material, \n",
    "# Pink Pixel:Stroma, Stomal cells’ cytoplasams, mucin-poor epithelial cells’s cytoplasms\n",
    "# White pixels - Lumina, mucin-rich epithelial cells’s cytoplasms\n",
    "def pixel_obj_gen(img_shape,imDecon_stains):  \n",
    "    # Calculating hematoxylin average\n",
    "    h_avg = np.average(imDecon_stains.Stains[:, :, 0])\n",
    "\n",
    "    # Calculating Eosin average\n",
    "    e_avg = np.average(imDecon_stains.Stains[:, :, 1])\n",
    "    \n",
    "    purple_pixel = []\n",
    "    pink_pixel = []\n",
    "    white_pixel = []\n",
    "    purple_x = []\n",
    "    purple_y = []\n",
    "    pink_x = []\n",
    "    pink_y = []\n",
    "    white_x = []\n",
    "    white_y = []\n",
    "    for i in range(0,img_shape[0]):\n",
    "          for j in range(0,img_shape[1]):\n",
    "                h_p = imDecon_stains.Stains[i,j,0] \n",
    "                e_p = imDecon_stains.Stains[i,j,1]\n",
    "                if h_p <= h_avg: purple_pixel.append([i,j,h_p,e_p]),purple_x.append([i]),purple_y.append([j])\n",
    "                if (h_p > h_avg and e_p <= e_avg): pink_pixel.append([i,j,h_p,e_p]),pink_x.append([i]),pink_y.append([j])\n",
    "                if (h_p > h_avg and e_p > e_avg): white_pixel.append([i,j,h_p,e_p]),white_x.append([i]),white_y.append([j])\n",
    "    return purple_pixel, purple_x, purple_y, pink_pixel, pink_x, pink_y, white_pixel, white_x, white_y"
   ]
  },
  {
   "cell_type": "code",
   "execution_count": null,
   "metadata": {},
   "outputs": [],
   "source": [
    "img_shape = imInput.shape\n",
    "imDecon_stains = imDeconvolved  \n",
    "\n",
    "purple_pixel, purple_x, purple_y, pink_pixel, pink_x, pink_y, white_pixel, white_x, white_y = pixel_obj_gen(img_shape,imDecon_stains)"
   ]
  },
  {
   "cell_type": "code",
   "execution_count": null,
   "metadata": {},
   "outputs": [],
   "source": [
    "len(purple_pixel), len(white_pixel), len(pink_pixel)"
   ]
  },
  {
   "cell_type": "code",
   "execution_count": null,
   "metadata": {},
   "outputs": [],
   "source": [
    "#### To display Purple images\n",
    "stain_color_map = htk.preprocessing.color_deconvolution.stain_color_map\n",
    "print('stain_color_map:', stain_color_map, sep='\\n')\n",
    "\n",
    "# specify stains of input image\n",
    "stains = ['hematoxylin',  # nuclei stain\n",
    "          'eosin',        # cytoplasm stain\n",
    "          'null']         # set to null if input contains only two stains\n",
    "\n",
    "# create stain matrix\n",
    "W = np.array([stain_color_map[st] for st in stains]).T\n",
    "\n",
    "# perform standard color deconvolution\n",
    "imDeconvolved_Purple = htk.preprocessing.color_deconvolution.color_deconvolution(im_nmzd, W)\n",
    "\n",
    "# Calculating hematoxylin average\n",
    "h_avg = np.average(imDeconvolved_Purple.Stains[:, :, 0])\n",
    "\n",
    "for i in range(0,255):\n",
    "    for j in range(0,255):\n",
    "        if(imDeconvolved_Purple.Stains[i,j,0]>h_avg):imPurple[i,j,:]=0\n",
    "            \n",
    "plt.imshow(imPurple)\n",
    "_ = plt.title('Purple Image', fontsize=16)"
   ]
  },
  {
   "cell_type": "code",
   "execution_count": null,
   "metadata": {},
   "outputs": [],
   "source": [
    "plt.imshow(imOrig)\n",
    "_ = plt.title('Original Image', fontsize=16)"
   ]
  },
  {
   "cell_type": "code",
   "execution_count": null,
   "metadata": {},
   "outputs": [],
   "source": [
    "#### To display White images\n",
    "stain_color_map = htk.preprocessing.color_deconvolution.stain_color_map\n",
    "print('stain_color_map:', stain_color_map, sep='\\n')\n",
    "\n",
    "# specify stains of input image\n",
    "stains = ['hematoxylin',  # nuclei stain\n",
    "          'eosin',        # cytoplasm stain\n",
    "          'null']         # set to null if input contains only two stains\n",
    "\n",
    "# create stain matrix\n",
    "W = np.array([stain_color_map[st] for st in stains]).T\n",
    "\n",
    "# perform standard color deconvolution\n",
    "imDeconvolved_white = htk.preprocessing.color_deconvolution.color_deconvolution(im_nmzd, W)\n",
    "\n",
    "# Calculating hematoxylin average\n",
    "h_avg = np.average(imDeconvolved_white.Stains[:, :, 0])\n",
    "\n",
    "# Calculating Eosin average\n",
    "e_avg = np.average(imDeconvolved_white.Stains[:, :, 1])\n",
    "\n",
    "for i in range(0,255):\n",
    "    for j in range(0,255):\n",
    "        if(imDeconvolved_white.Stains[i,j,0]<=h_avg and  imDeconvolved_white.Stains[i,j,1] <= e_avg): imWhite[i,j,:]=0                   \n",
    "\n",
    "\n",
    "            plt.imshow(imWhite)\n",
    "_ = plt.title('White Image', fontsize=16)"
   ]
  },
  {
   "cell_type": "code",
   "execution_count": null,
   "metadata": {},
   "outputs": [],
   "source": [
    "#### To display Pink images\n",
    "stain_color_map = htk.preprocessing.color_deconvolution.stain_color_map\n",
    "print('stain_color_map:', stain_color_map, sep='\\n')\n",
    "\n",
    "# specify stains of input image\n",
    "stains = ['hematoxylin',  # nuclei stain\n",
    "          'eosin',        # cytoplasm stain\n",
    "          'null']         # set to null if input contains only two stains\n",
    "\n",
    "# create stain matrix\n",
    "W = np.array([stain_color_map[st] for st in stains]).T\n",
    "\n",
    "# perform standard color deconvolution\n",
    "imDeconvolved_Pink = htk.preprocessing.color_deconvolution.color_deconvolution(im_nmzd, W)\n",
    "\n",
    "# Calculating hematoxylin average\n",
    "h_avg = np.average(imDeconvolved_Pink.Stains[:, :, 0])\n",
    "\n",
    "# Calculating Eosin average\n",
    "e_avg = np.average(imDeconvolved_Pink.Stains[:, :, 1])\n",
    "\n",
    "for i in range(0,255):\n",
    "    for j in range(0,255):\n",
    "        if(imDeconvolved_Pink.Stains[i,j,0]<=h_avg and imDeconvolved_Pink.Stains[i,j,1] > e_avg): imPink[i,j,:]=0        \n",
    "        \n",
    "plt.imshow(imPink)\n",
    "_ = plt.title('Pink Image', fontsize=16)"
   ]
  },
  {
   "cell_type": "code",
   "execution_count": null,
   "metadata": {},
   "outputs": [],
   "source": [
    "plt.imshow(imOrig)\n",
    "_ = plt.title('Original Image', fontsize=16)"
   ]
  },
  {
   "cell_type": "code",
   "execution_count": null,
   "metadata": {},
   "outputs": [],
   "source": [
    "#### Pixels count with their colors and H&E stain values\n",
    "pink_x=[]\n",
    "pink_y=[]\n",
    "pink_h=[]\n",
    "pink_e=[]\n",
    "purple_x=[]\n",
    "purple_y=[]\n",
    "purple_h=[]\n",
    "white_x=[]\n",
    "white_y=[]\n",
    "white_h=[]\n",
    "white_e=[]\n",
    "\n",
    "for i in range(0,256):\n",
    "   for j in range(0,256):\n",
    "       if(imDeconvolved_Purple.Stains[i,j,0]<=h_avg):purple_x.append(i),purple_y.append(j),purple_h.append(imDeconvolved_Purple.Stains[i,j,0])\n",
    "       if(imDeconvolved_Pink.Stains[i,j,0]>h_avg and  imDeconvolved_Pink.Stains[i,j,1] <= e_avg):pink_x.append(i),pink_y.append(j),pink_h.append(imDeconvolved_Pink.Stains[i,j,0]),pink_e.append(imDeconvolved_Pink.Stains[i,j,1])\n",
    "       if(imDeconvolved_white.Stains[i,j,0]>h_avg and  imDeconvolved_white.Stains[i,j,1] > e_avg):white_x.append(i),white_y.append(j),white_h.append(imDeconvolved_white.Stains[i,j,0]),white_e.append(imDeconvolved_white.Stains[i,j,1])\n",
    "        \n",
    "len(pink_x), len(pink_y), len(white_x), len(white_y), len(purple_x), len(purple_y)"
   ]
  },
  {
   "cell_type": "code",
   "execution_count": null,
   "metadata": {},
   "outputs": [],
   "source": []
  },
  {
   "cell_type": "markdown",
   "metadata": {},
   "source": [
    "#### Histologic Circular Objects identification "
   ]
  },
  {
   "cell_type": "code",
   "execution_count": null,
   "metadata": {},
   "outputs": [],
   "source": []
  },
  {
   "cell_type": "code",
   "execution_count": null,
   "metadata": {},
   "outputs": [],
   "source": []
  },
  {
   "cell_type": "code",
   "execution_count": null,
   "metadata": {},
   "outputs": [],
   "source": []
  },
  {
   "cell_type": "code",
   "execution_count": null,
   "metadata": {},
   "outputs": [],
   "source": []
  },
  {
   "cell_type": "code",
   "execution_count": null,
   "metadata": {},
   "outputs": [],
   "source": []
  },
  {
   "cell_type": "code",
   "execution_count": null,
   "metadata": {},
   "outputs": [],
   "source": []
  },
  {
   "cell_type": "code",
   "execution_count": null,
   "metadata": {},
   "outputs": [],
   "source": []
  },
  {
   "cell_type": "code",
   "execution_count": null,
   "metadata": {},
   "outputs": [],
   "source": []
  },
  {
   "cell_type": "code",
   "execution_count": null,
   "metadata": {},
   "outputs": [],
   "source": []
  },
  {
   "cell_type": "code",
   "execution_count": null,
   "metadata": {},
   "outputs": [],
   "source": []
  },
  {
   "cell_type": "code",
   "execution_count": null,
   "metadata": {},
   "outputs": [],
   "source": []
  },
  {
   "cell_type": "code",
   "execution_count": null,
   "metadata": {},
   "outputs": [],
   "source": []
  },
  {
   "cell_type": "code",
   "execution_count": null,
   "metadata": {},
   "outputs": [],
   "source": []
  },
  {
   "cell_type": "markdown",
   "metadata": {},
   "source": [
    "#### Purple, Pink White Pixels - Extraction through Color Normalization, Image De-convolution"
   ]
  },
  {
   "cell_type": "code",
   "execution_count": null,
   "metadata": {},
   "outputs": [],
   "source": [
    "inputImageFile = ('/media/raj/Raj1_5/10ktiles/train/gbm/TCGA-02-0001-01Z-00-DX2_20x_4768_25216_256x256.png') \n",
    "imInput = skimage.io.imread(inputImageFile)[:, :, :3]\n",
    "\n",
    "# get mean and stddev of reference image in lab space\n",
    "mean_ref, std_ref = htk.preprocessing.color_conversion.lab_mean_std(imInput)\n",
    "\n",
    "# perform reinhard color normalization\n",
    "im_nmzd = htk.preprocessing.color_normalization.reinhard(imInput, mean_ref, std_ref)\n",
    "\n",
    "# Display results\n",
    "plt.figure(figsize=(20, 10))\n",
    "\n",
    "plt.subplot(1, 2, 1)\n",
    "plt.imshow(imInput)\n",
    "_ = plt.title('Reference Image', fontsize=titlesize)\n",
    "\n",
    "plt.subplot(1, 2, 2)\n",
    "plt.imshow(im_nmzd)\n",
    "_ = plt.title('Normalized Input Image', fontsize=titlesize)"
   ]
  },
  {
   "cell_type": "code",
   "execution_count": null,
   "metadata": {},
   "outputs": [],
   "source": [
    "# create stain to color map\n",
    "stainColorMap = {\n",
    "    'hematoxylin': [0.65, 0.70, 0.29],\n",
    "    'eosin':       [0.07, 0.99, 0.11],\n",
    "    'dab':         [0.27, 0.57, 0.78],\n",
    "    'null':        [0.0, 0.0, 0.0]\n",
    "}\n",
    "\n",
    "# specify stains of input image\n",
    "stain_1 = 'hematoxylin'   # nuclei stain\n",
    "stain_2 = 'eosin'         # cytoplasm stain\n",
    "stain_3 = 'null'          # set to null of input contains only two stains\n",
    "\n",
    "# create stain matrix\n",
    "W = np.array([stainColorMap[stain_1],\n",
    "              stainColorMap[stain_2],\n",
    "              stainColorMap[stain_3]]).T\n",
    "\n",
    "# perform standard color deconvolution\n",
    "im_stains = htk.preprocessing.color_deconvolution.color_deconvolution(im_nmzd, W).Stains\n",
    "\n",
    "# Display results\n",
    "plt.figure(figsize=(20, 10))\n",
    "\n",
    "plt.subplot(1, 2, 1)\n",
    "plt.imshow(im_stains[:, :, 0])\n",
    "plt.title(stain_1, fontsize=titlesize)\n",
    "\n",
    "plt.subplot(1, 2, 2)\n",
    "plt.imshow(im_stains[:, :, 1])\n",
    "_ = plt.title(stain_2, fontsize=titlesize)"
   ]
  },
  {
   "cell_type": "code",
   "execution_count": null,
   "metadata": {},
   "outputs": [],
   "source": [
    "# Calculating Purple, Pink, White Pixels' - x,y co-ordinates\n",
    "# Purple pixel:Cell Nuclie Material, \n",
    "# Pink Pixel:Stroma, Stomal cells’ cytoplasams, mucin-poor epithelial cells’s cytoplasms\n",
    "# White pixels - Lumina, mucin-rich epithelial cells’s cytoplasms\n",
    "def pixel_obj_gen1(img_shape,imDecon_stains):  \n",
    "    # Calculating hematoxylin average\n",
    "    h_avg = np.average(im_stains[:, :, 0])\n",
    "\n",
    "    # Calculating Eosin average\n",
    "    e_avg = np.average(im_stains[:, :, 1])\n",
    "    \n",
    "    purple_pixel = []\n",
    "    pink_pixel = []\n",
    "    white_pixel = []\n",
    "    purple_x = []\n",
    "    purple_y = []\n",
    "    pink_x = []\n",
    "    pink_y = []\n",
    "    white_x = []\n",
    "    white_y = []\n",
    "    for i in range(0,img_shape[0]):\n",
    "          for j in range(0,img_shape[1]):\n",
    "                h_p = imDecon_stains[i,j,0] \n",
    "                e_p = imDecon_stains[i,j,1]\n",
    "                if h_p <= h_avg: purple_pixel.append([i,j,h_p,e_p]),purple_x.append([i]),purple_y.append([j])\n",
    "                if (h_p > h_avg and e_p <= e_avg): pink_pixel.append([i,j,h_p,e_p]),pink_x.append([i]),pink_y.append([j])\n",
    "                if (h_p > h_avg and e_p > e_avg): white_pixel.append([i,j,h_p,e_p]),white_x.append([i]),white_y.append([j])\n",
    "    return purple_pixel, purple_x, purple_y, pink_pixel, pink_x, pink_y, white_pixel, white_x, white_y"
   ]
  },
  {
   "cell_type": "code",
   "execution_count": null,
   "metadata": {},
   "outputs": [],
   "source": [
    "img_shape = imInput.shape\n",
    "imDecon_stains = im_stains\n",
    "purple_pixel, purple_x, purple_y, pink_pixel, pink_x, pink_y, white_pixel, white_x, white_y = pixel_obj_gen1(img_shape,imDecon_stains)"
   ]
  },
  {
   "cell_type": "code",
   "execution_count": null,
   "metadata": {},
   "outputs": [],
   "source": [
    "len(purple_pixel), len(white_pixel), len(pink_pixel)"
   ]
  },
  {
   "cell_type": "markdown",
   "metadata": {},
   "source": [
    "#### Segment Nuclei"
   ]
  },
  {
   "cell_type": "code",
   "execution_count": null,
   "metadata": {},
   "outputs": [],
   "source": [
    "# get nuclei/hematoxylin channel\n",
    "im_nuclei_stain = im_stains[:, :, 0]\n",
    "\n",
    "# segment foreground\n",
    "foreground_threshold = 60\n",
    "\n",
    "im_fgnd_mask = sp.ndimage.morphology.binary_fill_holes(\n",
    "    im_nuclei_stain < foreground_threshold)\n",
    "\n",
    "# run adaptive multi-scale LoG filter\n",
    "min_radius = 10\n",
    "max_radius = 15\n",
    "\n",
    "im_log_max, im_sigma_max = htk.filters.shape.cdog(\n",
    "    im_nuclei_stain, im_fgnd_mask,\n",
    "    sigma_min=min_radius * np.sqrt(2),\n",
    "    sigma_max=max_radius * np.sqrt(2)\n",
    ")\n",
    "\n",
    "# detect and segment nuclei using local maximum clustering\n",
    "local_max_search_radius = 10\n",
    "\n",
    "im_nuclei_seg_mask, seeds, maxima = htk.segmentation.nuclear.max_clustering(\n",
    "    im_log_max, im_fgnd_mask, local_max_search_radius)\n",
    "\n",
    "# filter out small objects\n",
    "min_nucleus_area = 80\n",
    "\n",
    "im_nuclei_seg_mask = htk.segmentation.label.area_open(\n",
    "    im_nuclei_seg_mask, min_nucleus_area).astype(np.int)\n",
    "\n",
    "# compute nuclei properties\n",
    "objProps = skimage.measure.regionprops(im_nuclei_seg_mask)\n",
    "\n",
    "print ('Number of nuclei = ', len(objProps))\n",
    "\n",
    "# Display results\n",
    "plt.figure(figsize=(20, 10))\n",
    "\n",
    "plt.subplot(1, 2, 1)\n",
    "plt.imshow(skimage.color.label2rgb(im_nuclei_seg_mask, imInput, bg_label=0), origin='lower')\n",
    "plt.title('Nuclei segmentation mask overlay', fontsize=titlesize)\n",
    "\n",
    "plt.subplot(1, 2, 2)\n",
    "plt.imshow( imInput )\n",
    "plt.xlim([0, imInput.shape[1]])\n",
    "plt.ylim([0, imInput.shape[0]])\n",
    "plt.title('Nuclei bounding boxes', fontsize=titlesize)\n",
    "\n",
    "for i in range(len(objProps)):\n",
    "\n",
    "    c = [objProps[i].centroid[1], objProps[i].centroid[0], 0]\n",
    "    width = objProps[i].bbox[3] - objProps[i].bbox[1] + 1\n",
    "    height = objProps[i].bbox[2] - objProps[i].bbox[0] + 1\n",
    "\n",
    "    cur_bbox = {\n",
    "        \"type\":        \"rectangle\",\n",
    "        \"center\":      c,\n",
    "        \"width\":       width,\n",
    "        \"height\":      height,\n",
    "    }\n",
    "\n",
    "    plt.plot(c[0], c[1], 'g+')\n",
    "    mrect = mpatches.Rectangle([c[0] - 0.5 * width, c[1] - 0.5 * height] ,\n",
    "                               width, height, fill=False, ec='g', linewidth=2)\n",
    "    plt.gca().add_patch(mrect)"
   ]
  },
  {
   "cell_type": "markdown",
   "metadata": {},
   "source": [
    "### PCA Analysis for the intended image"
   ]
  },
  {
   "cell_type": "code",
   "execution_count": null,
   "metadata": {},
   "outputs": [],
   "source": [
    "from sklearn.decomposition import PCA\n",
    "import pandas as pd"
   ]
  },
  {
   "cell_type": "code",
   "execution_count": null,
   "metadata": {},
   "outputs": [],
   "source": [
    "pca = PCA(n_components=1)\n",
    "pca.fit(image_2d)\n",
    "X_pca = pca.transform(image_2d)\n",
    "print(\"original shape:   \",image_2d.shape)\n",
    "print(\"transformed shape:\", X_pca.shape)"
   ]
  },
  {
   "cell_type": "code",
   "execution_count": null,
   "metadata": {},
   "outputs": [],
   "source": [
    "c1=np.asarray(cluster_labels_00)\n",
    "c2=c1.reshape(65536,1)\n",
    "c2.shape"
   ]
  },
  {
   "cell_type": "code",
   "execution_count": null,
   "metadata": {},
   "outputs": [],
   "source": [
    "result = np.concatenate((image_2d,X_pca),axis=1)\n",
    "result1= np.concatenate((X_pca,c2),axis=1)\n",
    "print(result1)"
   ]
  },
  {
   "cell_type": "code",
   "execution_count": null,
   "metadata": {},
   "outputs": [],
   "source": [
    "np.savetxt('/home/raj/Downloads/image_2d_Xpca.csv', result1,delimiter=',')"
   ]
  },
  {
   "cell_type": "code",
   "execution_count": null,
   "metadata": {},
   "outputs": [],
   "source": [
    "result1.shape"
   ]
  },
  {
   "cell_type": "code",
   "execution_count": null,
   "metadata": {},
   "outputs": [],
   "source": [
    "result2=result1.reshape(256,256,2)"
   ]
  },
  {
   "cell_type": "code",
   "execution_count": null,
   "metadata": {},
   "outputs": [],
   "source": [
    "result2[0,0,1]"
   ]
  },
  {
   "cell_type": "code",
   "execution_count": null,
   "metadata": {},
   "outputs": [],
   "source": [
    "cluster_centers_00"
   ]
  },
  {
   "cell_type": "code",
   "execution_count": null,
   "metadata": {},
   "outputs": [],
   "source": [
    "### create 3 clusters (Purple, White, Pink) with their x,y coordinates and PCA values of each point\n",
    "clust_W_x=[]\n",
    "clust_W_y=[]\n",
    "clust_W_pca=[]\n",
    "clust_Pu_x=[]\n",
    "clust_Pu_y=[]\n",
    "clust_Pu_pca=[]\n",
    "clust_Pk_x=[]\n",
    "clust_Pk_y=[]\n",
    "clust_Pk_pca=[]\n",
    "for i in range(0,256):\n",
    "    for j in range(0,256):\n",
    "        if(result2[i,j,1]==0):clust_W_x.append(i), clust_W_y.append(j),clust_W_pca.append(result2[i,j,0])\n",
    "        if(result2[i,j,1]==1):clust_Pk_x.append(i), clust_Pk_y.append(j),clust_Pk_pca.append(result2[i,j,0])\n",
    "        if(result2[i,j,1]==2):clust_Pu_x.append(i), clust_Pu_y.append(j),clust_Pu_pca.append(result2[i,j,0])  "
   ]
  },
  {
   "cell_type": "code",
   "execution_count": null,
   "metadata": {},
   "outputs": [],
   "source": [
    "clust_W_xy_pca=np.vstack((clust_W_x, clust_W_y,clust_W_pca)).T\n",
    "clust_Pu_xy_pca=np.vstack((clust_Pu_x, clust_Pu_y,clust_Pu_pca)).T\n",
    "clust_Pk_xy_pca=np.vstack((clust_Pk_x, clust_Pk_y,clust_Pk_pca)).T"
   ]
  },
  {
   "cell_type": "code",
   "execution_count": null,
   "metadata": {},
   "outputs": [],
   "source": [
    "clust_W_xy_pca.shape, clust_Pu_xy_pca.shape, clust_Pk_xy_pca.shape"
   ]
  },
  {
   "cell_type": "code",
   "execution_count": null,
   "metadata": {},
   "outputs": [],
   "source": [
    "X_new = pca.inverse_transform(X_pca)\n",
    "plt.scatter(image_2d[:, 0], image_2d[:, 1], alpha=0.2)\n",
    "plt.scatter(X_new[:, 0], X_new[:, 1], alpha=0.8)\n",
    "plt.axis('equal')"
   ]
  },
  {
   "cell_type": "code",
   "execution_count": null,
   "metadata": {},
   "outputs": [],
   "source": [
    "np.savetxt('/home/raj/Downloads/clust_W_xy_pca.csv', clust_W_xy_pca,delimiter=',')\n",
    "np.savetxt('/home/raj/Downloads/clust_Pu_xy_pca.csv', clust_Pu_xy_pca,delimiter=',')\n",
    "np.savetxt('/home/raj/Downloads/clust_Pk_xy_pca.csv', clust_Pk_xy_pca,delimiter=',')"
   ]
  },
  {
   "cell_type": "code",
   "execution_count": null,
   "metadata": {},
   "outputs": [],
   "source": [
    "min(clust_W_pca), max(clust_W_pca), max(clust_W_pca) - min (clust_W_pca)"
   ]
  },
  {
   "cell_type": "code",
   "execution_count": null,
   "metadata": {},
   "outputs": [],
   "source": [
    "min(clust_Pu_pca), max(clust_Pu_pca), max(clust_Pu_pca) - min (clust_Pu_pca),"
   ]
  },
  {
   "cell_type": "code",
   "execution_count": null,
   "metadata": {},
   "outputs": [],
   "source": [
    "min(clust_Pk_pca), max(clust_Pk_pca), max(clust_Pk_pca) - min (clust_Pk_pca)"
   ]
  },
  {
   "cell_type": "code",
   "execution_count": null,
   "metadata": {},
   "outputs": [],
   "source": [
    "### Sort by PCA values in the cluster_W, cluster_Pu, cluster_Pk\n",
    "from operator import itemgetter\n",
    "sorted_clust_W = sorted(clust_W_xy_pca, key=itemgetter(2))\n",
    "sorted_clust_Pu = sorted(clust_Pu_xy_pca, key=itemgetter(2))\n",
    "sorted_clust_Pk = sorted(clust_Pk_xy_pca, key=itemgetter(2))"
   ]
  },
  {
   "cell_type": "code",
   "execution_count": null,
   "metadata": {},
   "outputs": [],
   "source": [
    "sorted_clust_Pk"
   ]
  },
  {
   "cell_type": "markdown",
   "metadata": {},
   "source": [
    "#### Draw Circles on different components (White, Purple, Pink)"
   ]
  },
  {
   "cell_type": "code",
   "execution_count": null,
   "metadata": {},
   "outputs": [],
   "source": [
    "#### Draw circles, for each point in white, Purple, pink clusters with\n",
    "#### Their x, y coordinates and range (Factor of max - min PCA)"
   ]
  },
  {
   "cell_type": "code",
   "execution_count": null,
   "metadata": {},
   "outputs": [],
   "source": [
    "def first_factor(n):\n",
    "    for num in range(2,n):\n",
    "        if n % num == 0:\n",
    "            return num"
   ]
  },
  {
   "cell_type": "code",
   "execution_count": null,
   "metadata": {},
   "outputs": [],
   "source": [
    "def pt_ranges(clust_W_pca_max, clust_W_pca_min, clust_W_x):\n",
    "    clust_W_pca_max = clust_W_pca_max\n",
    "    clust_W_pca_min = clust_W_pca_min\n",
    "    clust_W_x = clust_W_x\n",
    "    pt_ranges = []\n",
    "    \n",
    "    factor = first_factor(int(clust_W_pca_max) - int(clust_W_pca_min))\n",
    "    pt_ranges.append(clust_W_pca_min)        \n",
    "        \n",
    "    for i in np.arange(clust_W_pca_min, clust_W_pca_max-1, factor):        \n",
    "        pt_range = i + factor\n",
    "        pt_ranges.append(pt_range)\n",
    "        #clust_W_pca_min = pt_range\n",
    "        \n",
    "    return pt_ranges"
   ]
  },
  {
   "cell_type": "code",
   "execution_count": null,
   "metadata": {},
   "outputs": [],
   "source": [
    "factor = first_factor(int(max(clust_W_pca) - min(clust_W_pca)))\n",
    "factor"
   ]
  },
  {
   "cell_type": "code",
   "execution_count": null,
   "metadata": {},
   "outputs": [],
   "source": [
    "clust_W_pca_max = max(clust_W_pca)\n",
    "clust_W_pca_min = min(clust_W_pca)\n",
    "pt_ranges_w = pt_ranges(clust_W_pca_max, clust_W_pca_min, clust_W_x)"
   ]
  },
  {
   "cell_type": "code",
   "execution_count": null,
   "metadata": {},
   "outputs": [],
   "source": [
    "#### To find the circle-fit coordinates with only one pt_range\n",
    "def circle_fit_pts(clust_W_x, clust_W_y, clust_W_pca, pt_range):    \n",
    "    circle_fit_pts_x = []\n",
    "    circle_fit_pts_y = []\n",
    "    pt_range = pt_range        \n",
    "    \n",
    "    for i in range(0, len(clust_W_x)):\n",
    "        if clust_W_pca[i] <= pt_range: circle_fit_pts_x.append(clust_W_x[i]), circle_fit_pts_y.append(clust_W_y[i])\n",
    "            \n",
    "    x_center, y_center, radius = circle_fit(circle_fit_pts_x, circle_fit_pts_y, len(circle_fit_pts_x))\n",
    "    return x_center, y_center, radius"
   ]
  },
  {
   "cell_type": "markdown",
   "metadata": {},
   "source": [
    "# Drawing Circles for white cluster"
   ]
  },
  {
   "cell_type": "code",
   "execution_count": null,
   "metadata": {},
   "outputs": [],
   "source": [
    "x_center_W = []\n",
    "y_center_W = []\n",
    "radius_W = []\n",
    "\n",
    "for pt_range in pt_ranges_w:\n",
    "    x_center_w, y_center_w, radius_w = circle_fit_pts(clust_W_x, clust_W_y, clust_W_pca, pt_range)\n",
    "    x_center_W.append(x_center_w), y_center_W.append(y_center_w), radius_W.append(radius_w)\n",
    "    #print (x_center, y_center, radius)\n",
    "    \n",
    "center_W =np.vstack((x_center_W, y_center_W, radius_W)).T\n",
    "np.savetxt('/home/raj/Downloads/center_w.csv', center_W, delimiter=',')"
   ]
  },
  {
   "cell_type": "code",
   "execution_count": null,
   "metadata": {},
   "outputs": [],
   "source": [
    "# Drawing Circles for white cluster\n",
    "inputImageFile = ('/media/raj/Raj1_5/10ktiles/train/gbm/TCGA-02-0001-01Z-00-DX2_20x_4768_25216_256x256.png')  # H&E.png\n",
    "imOrig = skimage.io.imread(inputImageFile)[:, :, :3]\n",
    "\n",
    "imInput = imOrig.copy()\n",
    "\n",
    "for pt_range in pt_ranges_w:\n",
    "    x_center_w, y_center_w, radius_w = circle_fit_pts(clust_W_x, clust_W_y, clust_W_pca, pt_range)\n",
    "    if ((not math.isnan(x_center_w)) or (not math.isnan(y_center_w)) or (not math.isnan(radius_w))):\n",
    "        cv2.circle(imInput,(int(x_center_w),int(y_center_w)),int(radius_w),3)\n",
    "        cv2.imwrite('/home/raj/Downloads/white_clustered_TCGA-02-0001-01Z-00-DX2_20x_4768_25216_256x256.png',\n",
    "            cv2.cvtColor(imInput, cv2.COLOR_RGB2BGR))\n",
    "           \n",
    "im = cv2.imread('/home/raj/Downloads/white_clustered_TCGA-02-0001-01Z-00-DX2_20x_4768_25216_256x256.png')\n",
    "plt.imshow(cv2.cvtColor(im, cv2.COLOR_BGR2RGB))\n",
    "plt.show()"
   ]
  },
  {
   "cell_type": "markdown",
   "metadata": {},
   "source": [
    "# Drawing Circles for Purple cluster"
   ]
  },
  {
   "cell_type": "code",
   "execution_count": null,
   "metadata": {},
   "outputs": [],
   "source": [
    "factor = first_factor(int(max(clust_Pu_pca) - min(clust_Pu_pca)))\n",
    "factor\n",
    "\n",
    "clust_Pu_pca_max = max(clust_Pu_pca)\n",
    "clust_Pu_pca_min = min(clust_Pu_pca)\n",
    "\n",
    "pt_ranges_pu = pt_ranges(clust_Pu_pca_max, clust_Pu_pca_min, clust_Pu_x)"
   ]
  },
  {
   "cell_type": "code",
   "execution_count": null,
   "metadata": {},
   "outputs": [],
   "source": [
    "x_center_Pu = []\n",
    "y_center_Pu = []\n",
    "radius_Pu = []\n",
    "\n",
    "for pt_range in pt_ranges_pu:\n",
    "    x_center_pu, y_center_pu, radius_pu = circle_fit_pts(clust_Pu_x, clust_Pu_y, clust_Pu_pca, pt_range)\n",
    "    x_center_Pu.append(x_center_pu), y_center_Pu.append(y_center_pu), radius_Pu.append(radius_pu)    \n",
    "    \n",
    "center_pu =np.vstack((x_center_pu, y_center_pu, radius_pu)).T\n",
    "np.savetxt('/home/raj/Downloads/center_pu.csv', center_pu, delimiter=',')"
   ]
  },
  {
   "cell_type": "code",
   "execution_count": null,
   "metadata": {},
   "outputs": [],
   "source": [
    "# Drawing Circles for purple cluster\n",
    "inputImageFile = ('/media/raj/Raj1_5/10ktiles/train/gbm/TCGA-02-0001-01Z-00-DX2_20x_4768_25216_256x256.png')  # H&E.png\n",
    "imOrig = skimage.io.imread(inputImageFile)[:, :, :3]\n",
    "\n",
    "imInput = imOrig.copy()\n",
    "\n",
    "for pt_range_pu in pt_ranges_pu:\n",
    "    x_center_pu, y_center_pu, radius_pu = circle_fit_pts(clust_Pu_x, clust_Pu_y, clust_Pu_pca, pt_range_pu)\n",
    "    if ((not math.isnan(x_center_pu)) or (not math.isnan(y_center_pu)) or (not math.isnan(radius_pu))):\n",
    "        cv2.circle(imInput,(int(x_center_pu),int(y_center_pu)),int(radius_pu),3)\n",
    "        cv2.imwrite('/home/raj/Downloads/purple_clustered_TCGA-02-0001-01Z-00-DX2_20x_4768_25216_256x256.png',\n",
    "            cv2.cvtColor(imInput, cv2.COLOR_RGB2BGR))\n",
    "           \n",
    "im = cv2.imread('/home/raj/Downloads/purple_clustered_TCGA-02-0001-01Z-00-DX2_20x_4768_25216_256x256.png')\n",
    "plt.imshow(cv2.cvtColor(im, cv2.COLOR_BGR2RGB))\n",
    "plt.show()"
   ]
  },
  {
   "cell_type": "markdown",
   "metadata": {},
   "source": [
    "### Drawing Circles for Pink cluster"
   ]
  },
  {
   "cell_type": "code",
   "execution_count": null,
   "metadata": {},
   "outputs": [],
   "source": [
    "factor = first_factor(int(max(clust_Pk_pca) - min(clust_Pk_pca)))\n",
    "factor\n",
    "\n",
    "clust_Pk_pca_max = max(clust_Pk_pca)\n",
    "clust_Pk_pca_min = min(clust_Pk_pca)\n",
    "pt_ranges_pk = pt_ranges(clust_Pk_pca_max, clust_Pk_pca_min, clust_Pk_x)"
   ]
  },
  {
   "cell_type": "code",
   "execution_count": null,
   "metadata": {},
   "outputs": [],
   "source": [
    "x_center_Pk = []\n",
    "y_center_Pk = []\n",
    "radius_Pk = []\n",
    "\n",
    "for pt_range in pt_ranges_pk:\n",
    "    x_center_pk, y_center_pk, radius_pk = circle_fit_pts(clust_Pk_x, clust_Pk_y, clust_Pk_pca, pt_range)\n",
    "    x_center_Pk.append(x_center_pk), y_center_Pk.append(y_center_pk), radius_Pk.append(radius_pk)    \n",
    "    \n",
    "center_pk =np.vstack((x_center_pk, y_center_pk, radius_pk)).T\n",
    "np.savetxt('/home/raj/Downloads/center_pk.csv', center_pk, delimiter=',')"
   ]
  },
  {
   "cell_type": "code",
   "execution_count": null,
   "metadata": {},
   "outputs": [],
   "source": [
    "# Drawing Circles for pink cluster\n",
    "inputImageFile = ('/media/raj/Raj1_5/10ktiles/train/gbm/TCGA-02-0001-01Z-00-DX2_20x_4768_25216_256x256.png')  # H&E.png\n",
    "imOrig = skimage.io.imread(inputImageFile)[:, :, :3]\n",
    "\n",
    "imInput = imOrig.copy()\n",
    "\n",
    "for pt_range_pk in pt_ranges_pk:\n",
    "    x_center_pk, y_center_pk, radius_pk = circle_fit_pts(clust_Pk_x, clust_Pk_y, clust_Pk_pca, pt_range_pk)\n",
    "    if ((not math.isnan(x_center_pk)) or (not math.isnan(y_center_pk)) or (not math.isnan(radius_pk))):\n",
    "        cv2.circle(imInput,(int(x_center_pk),int(y_center_pk)),int(radius_pk),3)\n",
    "        cv2.imwrite('/home/raj/Downloads/pink_clustered_TCGA-02-0001-01Z-00-DX2_20x_4768_25216_256x256.png',\n",
    "            cv2.cvtColor(imInput, cv2.COLOR_RGB2BGR))\n",
    "           \n",
    "im = cv2.imread('/home/raj/Downloads/pink_clustered_TCGA-02-0001-01Z-00-DX2_20x_4768_25216_256x256.png')\n",
    "plt.imshow(cv2.cvtColor(im, cv2.COLOR_BGR2RGB))\n",
    "plt.show()"
   ]
  },
  {
   "cell_type": "code",
   "execution_count": null,
   "metadata": {},
   "outputs": [],
   "source": []
  },
  {
   "cell_type": "code",
   "execution_count": null,
   "metadata": {},
   "outputs": [],
   "source": []
  },
  {
   "cell_type": "code",
   "execution_count": null,
   "metadata": {},
   "outputs": [],
   "source": []
  },
  {
   "cell_type": "code",
   "execution_count": null,
   "metadata": {},
   "outputs": [],
   "source": []
  },
  {
   "cell_type": "code",
   "execution_count": null,
   "metadata": {},
   "outputs": [],
   "source": [
    "clust_W_pca_min = min(clust_W_pca)\n",
    "clust_W_pca_max = max(clust_W_pca) \n",
    "\n",
    "pt_ranges = pt_ranges(clust_W_pca_max, clust_W_pca_min, clust_W_x)"
   ]
  },
  {
   "cell_type": "code",
   "execution_count": null,
   "metadata": {},
   "outputs": [],
   "source": []
  },
  {
   "cell_type": "code",
   "execution_count": null,
   "metadata": {},
   "outputs": [],
   "source": []
  },
  {
   "cell_type": "code",
   "execution_count": null,
   "metadata": {},
   "outputs": [],
   "source": [
    "x_centers, y_centers, radius_s = circle_fit_pts(clust_W_x, clust_W_y, clust_W_pca, pt_ranges)"
   ]
  },
  {
   "cell_type": "code",
   "execution_count": null,
   "metadata": {},
   "outputs": [],
   "source": [
    "#### Drawing circles for white_cluster\n",
    "x_center, y_center, radius = circle_fit_pts(clust_W_x, clust_W_y, pt_ranges)"
   ]
  },
  {
   "cell_type": "code",
   "execution_count": null,
   "metadata": {},
   "outputs": [],
   "source": [
    "xc1,yc1,r1"
   ]
  },
  {
   "cell_type": "code",
   "execution_count": null,
   "metadata": {},
   "outputs": [],
   "source": [
    "#### To find the circle-fit coordinates  \n",
    "def circle_fit_pts(clust_W_x, clust_W_y, clust_W_pca, pt_ranges):    \n",
    "    circle_fit_pts_x = []\n",
    "    circle_fit_pts_y = []\n",
    "    pt_ranges = pt_ranges\n",
    "    x_centers = []\n",
    "    y_centers = []\n",
    "    radius_s = []\n",
    "    clust_W_pca = clust_W_pca\n",
    "    \n",
    "    for pt_range in pt_ranges:        \n",
    "        for i in range (0, len(clust_W_x)):\n",
    "            if clust_W_pca[i] <= pt_range: circle_fit_pts_x.append(clust_W_x[i]), circle_fit_pts_y.append(clust_W_y[i])\n",
    "            \n",
    "        x_center, y_center, radius = circle_fit(circle_fit_pts_x, circle_fit_pts_y, len(circle_fit_pts_x))\n",
    "        x_centers.append(x_center), y_centers.append(y_center), radius_s.append(radius)        \n",
    "    \n",
    "    return x_centers, y_centers, radius_s"
   ]
  },
  {
   "cell_type": "code",
   "execution_count": null,
   "metadata": {},
   "outputs": [],
   "source": []
  },
  {
   "cell_type": "code",
   "execution_count": null,
   "metadata": {},
   "outputs": [],
   "source": []
  },
  {
   "cell_type": "code",
   "execution_count": null,
   "metadata": {},
   "outputs": [],
   "source": [
    "# !pip install circle-fit\n",
    "import circle_fit as cf"
   ]
  },
  {
   "cell_type": "code",
   "execution_count": null,
   "metadata": {},
   "outputs": [],
   "source": [
    "### circle_fit(x_coords,y_coords,pixel_len)\n",
    "### xc_00_0_0,yc_00_0_0,r_00_0_0,_ = cf.least_squares_circle((cluster_00_0_0xy))"
   ]
  },
  {
   "cell_type": "code",
   "execution_count": null,
   "metadata": {},
   "outputs": [],
   "source": [
    "# Combining x,y coordinates for White Cluster, Purple Cluster, Pink Cluster\n",
    "clust_W_xy = np.vstack((clust_W_x, clust_W_y)).T\n",
    "clust_Pu_xy = np.vstack((clust_Pu_x, clust_Pu_y)).T\n",
    "clust_Pk_xy = np.vstack((clust_Pk_x, clust_Pk_y)).T"
   ]
  },
  {
   "cell_type": "code",
   "execution_count": null,
   "metadata": {},
   "outputs": [],
   "source": [
    "clust_W_xy.shape, clust_Pu_xy.shape, clust_Pk_xy.shape"
   ]
  },
  {
   "cell_type": "code",
   "execution_count": null,
   "metadata": {},
   "outputs": [],
   "source": [
    "W_xc,W_yc,W_r,_ = cf.least_squares_circle((clust_W_xy))"
   ]
  },
  {
   "cell_type": "code",
   "execution_count": null,
   "metadata": {},
   "outputs": [],
   "source": [
    "W_xc,W_yc,W_r"
   ]
  },
  {
   "cell_type": "code",
   "execution_count": null,
   "metadata": {},
   "outputs": [],
   "source": [
    "# Drawing Circles for white cluster\n",
    "inputImageFile = ('/media/raj/Raj1_5/10ktiles/train/gbm/TCGA-02-0001-01Z-00-DX2_20x_4768_25216_256x256.png')  # H&E.png\n",
    "imOrig = skimage.io.imread(inputImageFile)[:, :, :3]\n",
    "\n",
    "imInput = imOrig.copy()\n",
    "cv2.circle(imInput,(int(W_xc),int(W_yc)),int(W_r),3)\n",
    "\n",
    "cv2.imwrite('/home/raj/Downloads/white_clustered_TCGA-02-0001-01Z-00-DX2_20x_4768_25216_256x256.png',\n",
    "            cv2.cvtColor(imInput, cv2.COLOR_RGB2BGR))\n",
    "           \n",
    "im = cv2.imread('/home/raj/Downloads/white_clustered_TCGA-02-0001-01Z-00-DX2_20x_4768_25216_256x256.png')\n",
    "\n",
    "plt.imshow(cv2.cvtColor(im, cv2.COLOR_BGR2RGB))\n",
    "plt.show()"
   ]
  },
  {
   "cell_type": "code",
   "execution_count": null,
   "metadata": {},
   "outputs": [],
   "source": []
  },
  {
   "cell_type": "code",
   "execution_count": null,
   "metadata": {},
   "outputs": [],
   "source": []
  },
  {
   "cell_type": "code",
   "execution_count": null,
   "metadata": {},
   "outputs": [],
   "source": []
  },
  {
   "cell_type": "code",
   "execution_count": null,
   "metadata": {},
   "outputs": [],
   "source": []
  },
  {
   "cell_type": "code",
   "execution_count": null,
   "metadata": {},
   "outputs": [],
   "source": []
  },
  {
   "cell_type": "code",
   "execution_count": null,
   "metadata": {},
   "outputs": [],
   "source": [
    "# To save the image data into csv file to do PCA\n",
    "cluster_labels4d=tuple(zip(*zip(*image_2d),cluster_labels_00))\n",
    "np.savetxt('/home/raj/Downloads/kmeans_data.csv', cluster_labels4d, delimiter=',')\n",
    "np.savetxt('/home/raj/Downloads/df1.csv', image_2d, delimiter=',')\n",
    "np.savetxt('/home/raj/Downloads/df1_cluster_labels.csv', cluster_labels_00, delimiter=',')"
   ]
  },
  {
   "cell_type": "code",
   "execution_count": null,
   "metadata": {},
   "outputs": [],
   "source": []
  },
  {
   "cell_type": "code",
   "execution_count": null,
   "metadata": {},
   "outputs": [],
   "source": []
  },
  {
   "cell_type": "code",
   "execution_count": null,
   "metadata": {},
   "outputs": [],
   "source": []
  },
  {
   "cell_type": "code",
   "execution_count": null,
   "metadata": {},
   "outputs": [],
   "source": []
  },
  {
   "cell_type": "code",
   "execution_count": null,
   "metadata": {},
   "outputs": [],
   "source": []
  },
  {
   "cell_type": "code",
   "execution_count": null,
   "metadata": {},
   "outputs": [],
   "source": []
  },
  {
   "cell_type": "code",
   "execution_count": null,
   "metadata": {},
   "outputs": [],
   "source": []
  },
  {
   "cell_type": "code",
   "execution_count": null,
   "metadata": {},
   "outputs": [],
   "source": []
  },
  {
   "cell_type": "code",
   "execution_count": null,
   "metadata": {},
   "outputs": [],
   "source": []
  },
  {
   "cell_type": "code",
   "execution_count": null,
   "metadata": {},
   "outputs": [],
   "source": [
    "# To generate white (Cluster0), purple (cluster1), pink (cluster2) object coordinates - 2D\n",
    "cluster_labels1=np.zeros((256,256))\n",
    "cluster_labels1= cluster_labels_00.reshape(256, 256)\n",
    "white=[]\n",
    "purple=[]\n",
    "pink=[]\n",
    "\n",
    "for i in range(0,255):\n",
    "    for j in range(0,255):        \n",
    "        if (cluster_labels1[i,j] == 0): white.append([i,j])\n",
    "        if (cluster_labels1[i,j] == 1): purple.append([i,j])\n",
    "        if (cluster_labels1[i,j] == 2): pink.append([i,j])"
   ]
  },
  {
   "cell_type": "code",
   "execution_count": null,
   "metadata": {},
   "outputs": [],
   "source": [
    "cluster_labels_00[0], cluster_labels_00[1], cluster_labels_00[2]"
   ]
  },
  {
   "cell_type": "code",
   "execution_count": null,
   "metadata": {},
   "outputs": [],
   "source": [
    "# To generate white (Cluster0), purple (cluster1), pink (cluster2) object positions\n",
    "w = []\n",
    "pur = []\n",
    "pink = []\n",
    "\n",
    "for i in range(0,65535):\n",
    "    if (cluster_labels_00[i] == 0): w.append(i)\n",
    "    if (cluster_labels_00[i] == 1): pur.append(i)\n",
    "    if (cluster_labels_00[i] == 2): pink.append(i)    "
   ]
  },
  {
   "cell_type": "code",
   "execution_count": null,
   "metadata": {},
   "outputs": [],
   "source": [
    "white[500],  w[500],white[1500],  w[1500], white[300],  w[300]"
   ]
  },
  {
   "cell_type": "code",
   "execution_count": null,
   "metadata": {},
   "outputs": [],
   "source": [
    "# To identify/order all points which have least distance among themselves in a cluster\n",
    "import math\n",
    "pt_dist_coords = []\n",
    "ld_pt = 0.0\n",
    "ld_pt_coords = [0,0]\n",
    "\n",
    "for i in range(0,255):\n",
    "    for j in range(0,255):\n",
    "        x_coords_sq = (white[i+1][0] - white[i][0])**2\n",
    "        y_coords_sq = (white[j+1][1] - white[j][1])**2\n",
    "        pt_dist = math.sqrt(x_coords_sq+y_coords_sq)\n",
    "        \n",
    "        if pt_dist < ld_pt:\n",
    "            ld_pt_coords = [i,j]\n",
    "            ld_pt = pt_dist            \n",
    "        else: \n",
    "            pt_dist_coords.append([i,j])\n",
    "        \n",
    "#sorted_list = sorted(pt_dist_coords, key=lambda x: x[2])"
   ]
  },
  {
   "cell_type": "code",
   "execution_count": null,
   "metadata": {},
   "outputs": [],
   "source": [
    "sorted_list"
   ]
  },
  {
   "cell_type": "code",
   "execution_count": null,
   "metadata": {},
   "outputs": [],
   "source": [
    "ld_pt"
   ]
  },
  {
   "cell_type": "code",
   "execution_count": null,
   "metadata": {},
   "outputs": [],
   "source": []
  },
  {
   "cell_type": "code",
   "execution_count": null,
   "metadata": {},
   "outputs": [],
   "source": []
  },
  {
   "cell_type": "markdown",
   "metadata": {},
   "source": [
    "#### Image Pixels color predicition from Kmeans cluster_centers"
   ]
  },
  {
   "cell_type": "code",
   "execution_count": null,
   "metadata": {},
   "outputs": [],
   "source": [
    "cluster_points =kmeans_cluster_00.predict(image_2d)"
   ]
  },
  {
   "cell_type": "code",
   "execution_count": null,
   "metadata": {},
   "outputs": [],
   "source": [
    "cluster_2 = np.where(cluster_points == 2)\n",
    "cluster_2"
   ]
  },
  {
   "cell_type": "code",
   "execution_count": null,
   "metadata": {},
   "outputs": [],
   "source": [
    "cluster_1 = np.where(cluster_points == 1)\n",
    "cluster_1"
   ]
  },
  {
   "cell_type": "code",
   "execution_count": null,
   "metadata": {},
   "outputs": [],
   "source": [
    "cluster_0 = np.where(cluster_points == 0)\n",
    "cluster_0"
   ]
  },
  {
   "cell_type": "code",
   "execution_count": null,
   "metadata": {},
   "outputs": [],
   "source": [
    "cluster_1[0][0], image_2d[37,:]"
   ]
  },
  {
   "cell_type": "code",
   "execution_count": null,
   "metadata": {},
   "outputs": [],
   "source": [
    "cluster_labels_00[0]"
   ]
  },
  {
   "cell_type": "code",
   "execution_count": null,
   "metadata": {},
   "outputs": [],
   "source": [
    "image_2d[0,:],image_2d[1,:],image_2d[11,:], image_2d[37,:], image_2d[38,:],image_2d[39,:],image_2d[2,:], image_2d[3,:], image_2d[4,:]"
   ]
  },
  {
   "cell_type": "code",
   "execution_count": null,
   "metadata": {},
   "outputs": [],
   "source": [
    "cluster_labels_00"
   ]
  },
  {
   "cell_type": "code",
   "execution_count": null,
   "metadata": {},
   "outputs": [],
   "source": []
  },
  {
   "cell_type": "code",
   "execution_count": null,
   "metadata": {},
   "outputs": [],
   "source": [
    "cluster_labels_00"
   ]
  },
  {
   "cell_type": "code",
   "execution_count": null,
   "metadata": {},
   "outputs": [],
   "source": [
    "# Each row represents respective cluster# \n",
    "# Each column in each row represents color intensity (RGB)\n",
    "# For Eg, in this case, 3 clusters with their RGB values\n",
    "# Cluster#0 is clustered with (243.01990705, 229.31279562, 233.74852959)\n",
    "cluster_centers_00"
   ]
  },
  {
   "cell_type": "code",
   "execution_count": null,
   "metadata": {},
   "outputs": [],
   "source": [
    "from matplotlib.ticker import FormatStrFormatter\n",
    "\n",
    "data = cluster_labels_00\n",
    "fig, ax = plt.subplots()\n",
    "counts, bins, patches = ax.hist(data, facecolor='yellow', edgecolor='gray')\n",
    "ax.set_title('k-means cluster centers of histo image')\n",
    "ax.set_ylabel('# of image Pixels')\n",
    "ax.set_xlabel('White-Like                         Purple-Like               Pink-Like Pixels')\n",
    "\n",
    "plt.show()"
   ]
  },
  {
   "cell_type": "code",
   "execution_count": null,
   "metadata": {},
   "outputs": [],
   "source": [
    "white = 0\n",
    "purple = 0\n",
    "pink = 0\n",
    "for i in range (0,65535):\n",
    "    if (cluster_labels_00[i] == 0): white=white+1\n",
    "    if (cluster_labels_00[i] == 1): purple=purple+1\n",
    "    if (cluster_labels_00[i] == 2): pink=pink+1\n",
    "\n",
    "print (white, purple, pink)"
   ]
  },
  {
   "cell_type": "code",
   "execution_count": null,
   "metadata": {},
   "outputs": [],
   "source": [
    "plt.scatter(image_2d[:,0],image_2d[:,1],image_2d[:,2], c=kmeans_cluster_00.labels_, cmap='rainbow') \n",
    "plt.scatter(kmeans_cluster_00.cluster_centers_[:,0],kmeans_cluster_00.cluster_centers_[:,1],kmeans_cluster_00.cluster_centers_[:,2], color='black')  "
   ]
  },
  {
   "cell_type": "code",
   "execution_count": null,
   "metadata": {},
   "outputs": [],
   "source": [
    "# To get the IDs of the points/samples that are inside each cluster\n",
    "def ClusterIndicesNumpy(clustNum, labels_array): #numpy \n",
    "    return np.where(labels_array == clustNum)[0]"
   ]
  },
  {
   "cell_type": "code",
   "execution_count": null,
   "metadata": {},
   "outputs": [],
   "source": [
    "ClusterIndicesNumpy(0, cluster_labels_00), ClusterIndicesNumpy(1, cluster_labels_00), ClusterIndicesNumpy(2, cluster_labels_00)"
   ]
  },
  {
   "cell_type": "code",
   "execution_count": null,
   "metadata": {},
   "outputs": [],
   "source": [
    "#To calculate the linear distance between cluster points\n",
    "white_pixel_datapoints = ClusterIndicesNumpy(0, cluster_labels_00)"
   ]
  },
  {
   "cell_type": "code",
   "execution_count": null,
   "metadata": {},
   "outputs": [],
   "source": [
    "def pointsCoordinates(currentdata, datasize):\n",
    "    datalength = datasize - 1 # Python array starts at 0\n",
    "    ptcoord = []\n",
    "    for eachpt in (currentdata):\n",
    "        if eachpt < 255 : ptcoord.append (0, eachpt)"
   ]
  },
  {
   "cell_type": "code",
   "execution_count": null,
   "metadata": {},
   "outputs": [],
   "source": [
    "wh_2d = np.reshape(white_pixel_datapoints, (-1,2))"
   ]
  },
  {
   "cell_type": "code",
   "execution_count": null,
   "metadata": {},
   "outputs": [],
   "source": [
    "wh_2d"
   ]
  },
  {
   "cell_type": "code",
   "execution_count": null,
   "metadata": {},
   "outputs": [],
   "source": []
  },
  {
   "cell_type": "code",
   "execution_count": null,
   "metadata": {},
   "outputs": [],
   "source": []
  },
  {
   "cell_type": "code",
   "execution_count": null,
   "metadata": {},
   "outputs": [],
   "source": []
  },
  {
   "cell_type": "code",
   "execution_count": null,
   "metadata": {},
   "outputs": [],
   "source": []
  },
  {
   "cell_type": "code",
   "execution_count": null,
   "metadata": {},
   "outputs": [],
   "source": []
  },
  {
   "cell_type": "code",
   "execution_count": null,
   "metadata": {},
   "outputs": [],
   "source": [
    "#### PCA Tissue type distribution \n",
    "from sklearn.preprocessing import StandardScaler\n",
    "cluster_labels4d=tuple(zip(*zip(*image_2d),cluster_labels_00))\n",
    "np.savetxt('/home/raj/Downloads/kmeans_data.csv', cluster_labels4d, delimiter=',')\n",
    "df = pd.read_csv('/home/raj/Downloads/kmeans_data.csv',names=['Red','Green','Blue','Cluster_No'])\n",
    "\n",
    "features = ['Red','Green','Blue']\n",
    "# Separating out the features\n",
    "x = df.loc[:, features].values\n",
    "# Separating out the target\n",
    "y = df.loc[:,['Cluster_No']].values\n",
    "# Standardizing the features\n",
    "x = StandardScaler().fit_transform(x)\n",
    "\n",
    "principalComponents = pca.fit_transform(x)\n",
    "principalDf = pd.DataFrame(data = principalComponents, columns = ['PCA1'])\n",
    "finalDf = pd.concat([principalDf, df[['Cluster_No']]], axis = 1)"
   ]
  },
  {
   "cell_type": "code",
   "execution_count": null,
   "metadata": {},
   "outputs": [],
   "source": []
  },
  {
   "cell_type": "code",
   "execution_count": null,
   "metadata": {},
   "outputs": [],
   "source": []
  },
  {
   "cell_type": "markdown",
   "metadata": {},
   "source": [
    "# PCA to get the circular objects"
   ]
  },
  {
   "cell_type": "code",
   "execution_count": null,
   "metadata": {},
   "outputs": [],
   "source": [
    "from sklearn.decomposition import PCA\n",
    "import pandas as pd"
   ]
  },
  {
   "cell_type": "code",
   "execution_count": null,
   "metadata": {},
   "outputs": [],
   "source": [
    "# To save the image data into csv file to do PCA\n",
    "cluster_labels4d=tuple(zip(*zip(*image_2d),cluster_labels_00))\n",
    "np.savetxt('/home/raj/Downloads/kmeans_data.csv', cluster_labels4d, delimiter=',')\n",
    "np.savetxt('/home/raj/Downloads/df1.csv', image_2d, delimiter=',')\n",
    "np.savetxt('/home/raj/Downloads/df1_cluster_labels.csv', cluster_labels_00, delimiter=',')"
   ]
  },
  {
   "cell_type": "code",
   "execution_count": null,
   "metadata": {},
   "outputs": [],
   "source": [
    "df = pd.read_csv('/home/raj/Downloads/kmeans_data.csv',names=['Red','Green','Blue','Cluster_No'])"
   ]
  },
  {
   "cell_type": "code",
   "execution_count": null,
   "metadata": {},
   "outputs": [],
   "source": [
    "from sklearn.preprocessing import StandardScaler\n",
    "features = ['Red','Green','Blue']\n",
    "# Separating out the features\n",
    "x = df.loc[:, features].values\n",
    "# Separating out the target\n",
    "y = df.loc[:,['Cluster_No']].values\n",
    "# Standardizing the features\n",
    "x = StandardScaler().fit_transform(x)"
   ]
  },
  {
   "cell_type": "code",
   "execution_count": null,
   "metadata": {},
   "outputs": [],
   "source": [
    "x"
   ]
  },
  {
   "cell_type": "code",
   "execution_count": null,
   "metadata": {},
   "outputs": [],
   "source": [
    "y"
   ]
  },
  {
   "cell_type": "code",
   "execution_count": null,
   "metadata": {},
   "outputs": [],
   "source": [
    "from sklearn.decomposition import PCA\n",
    "pca = PCA(n_components=2)\n",
    "principalComponents = pca.fit_transform(x)\n",
    "principalDf = pd.DataFrame(data = principalComponents, columns = ['PCA1', 'PCA2'])"
   ]
  },
  {
   "cell_type": "code",
   "execution_count": null,
   "metadata": {},
   "outputs": [],
   "source": [
    "import warnings\n",
    "warnings.simplefilter(action='ignore', category=FutureWarning)"
   ]
  },
  {
   "cell_type": "code",
   "execution_count": null,
   "metadata": {},
   "outputs": [],
   "source": [
    "finalDf = pd.concat([principalDf, df[['Cluster_No']]], axis = 1)"
   ]
  },
  {
   "cell_type": "code",
   "execution_count": null,
   "metadata": {},
   "outputs": [],
   "source": [
    "fig = plt.figure(figsize = (8,8))\n",
    "ax = fig.add_subplot(1,1,1) \n",
    "ax.set_xlabel('Principal Component 1', fontsize = 15)\n",
    "ax.set_ylabel('Principal Component 2', fontsize = 15)\n",
    "ax.set_title('Tissue objects distribution-PCA', fontsize = 20)\n",
    "targets = [0,1,2]\n",
    "colors = ['w', 'purple', 'pink']\n",
    "for target, color in zip(targets,colors):\n",
    "    indicesToKeep = finalDf['Cluster_No'] == target\n",
    "    ax.scatter(finalDf.loc[indicesToKeep, 'PCA1']\n",
    "               , finalDf.loc[indicesToKeep, 'PCA2']\n",
    "               , c = color)    \n",
    "ax.legend(targets)\n",
    "ax.grid()"
   ]
  },
  {
   "cell_type": "markdown",
   "metadata": {},
   "source": [
    "# PCA for individual tissue components "
   ]
  },
  {
   "cell_type": "code",
   "execution_count": null,
   "metadata": {},
   "outputs": [],
   "source": [
    "cluster_labels_white = []\n",
    "cluster_labels_purple = []\n",
    "cluster_labels_pink = []\n",
    "\n",
    "for i in range (0,65535):\n",
    "    if (cluster_labels_00[i] == 0): cluster_labels_white.append(cluster_labels_00[i])\n",
    "    if (cluster_labels_00[i] == 1): cluster_labels_purple.append(cluster_labels_00[i]) \n",
    "    if (cluster_labels_00[i] == 2): cluster_labels_pink.append(cluster_labels_00[i]) \n",
    "\n",
    "print (len(cluster_labels_white), len(cluster_labels_purple), len(cluster_labels_pink))"
   ]
  },
  {
   "cell_type": "code",
   "execution_count": null,
   "metadata": {},
   "outputs": [],
   "source": [
    "cluster_labels4d=tuple(zip(*zip(*image_2d),cluster_labels_purple))\n",
    "np.savetxt('/home/raj/Downloads/purple_data.csv', cluster_labels4d, delimiter=',')"
   ]
  },
  {
   "cell_type": "code",
   "execution_count": null,
   "metadata": {},
   "outputs": [],
   "source": [
    "cluster_labels4d=tuple(zip(*zip(*image_2d),cluster_labels_white))\n",
    "np.savetxt('/home/raj/Downloads/white_data.csv', cluster_labels4d, delimiter=',')"
   ]
  },
  {
   "cell_type": "code",
   "execution_count": null,
   "metadata": {},
   "outputs": [],
   "source": [
    "cluster_labels4d=tuple(zip(*zip(*image_2d),cluster_labels_pink))\n",
    "np.savetxt('/home/raj/Downloads/pink_data.csv', cluster_labels4d, delimiter=',')"
   ]
  },
  {
   "cell_type": "markdown",
   "metadata": {},
   "source": [
    "# PCA on Cluster0 (White objects cluster)"
   ]
  },
  {
   "cell_type": "code",
   "execution_count": null,
   "metadata": {},
   "outputs": [],
   "source": [
    "whitedf = pd.read_csv('/home/raj/Downloads/white_data.csv',names=['Red','Green','Blue','Cluster_No'])"
   ]
  },
  {
   "cell_type": "code",
   "execution_count": null,
   "metadata": {},
   "outputs": [],
   "source": [
    "from sklearn.preprocessing import StandardScaler\n",
    "features = ['Red','Green','Blue']\n",
    "# Separating out the features\n",
    "x = whitedf.loc[:, features].values\n",
    "# Separating out the target\n",
    "y = whitedf.loc[:,['Cluster_No']].values\n",
    "# Standardizing the features\n",
    "x = StandardScaler().fit_transform(x)"
   ]
  },
  {
   "cell_type": "code",
   "execution_count": null,
   "metadata": {},
   "outputs": [],
   "source": [
    "x, y"
   ]
  },
  {
   "cell_type": "code",
   "execution_count": null,
   "metadata": {},
   "outputs": [],
   "source": [
    "from sklearn.decomposition import PCA\n",
    "pca = PCA(n_components=2)\n",
    "principalComponents = pca.fit_transform(x)\n",
    "principalDf = pd.DataFrame(data = principalComponents, columns = ['PCA1', 'PCA2'])"
   ]
  },
  {
   "cell_type": "code",
   "execution_count": null,
   "metadata": {},
   "outputs": [],
   "source": [
    "finalDf = pd.concat([principalDf, df[['Cluster_No']]], axis = 1)"
   ]
  },
  {
   "cell_type": "code",
   "execution_count": null,
   "metadata": {},
   "outputs": [],
   "source": [
    "fig = plt.figure(figsize = (8,8))\n",
    "ax = fig.add_subplot(1,1,1) \n",
    "ax.set_xlabel('Principal Component 1', fontsize = 15)\n",
    "ax.set_ylabel('Principal Component 2', fontsize = 15)\n",
    "ax.set_title('Colored Tissue objects distribution-PCA', fontsize = 20)\n",
    "targets = [0,1,2]\n",
    "colors = ['r', 'g', 'b']\n",
    "for target, color in zip(targets,colors):\n",
    "    indicesToKeep = finalDf['Cluster_No'] == target\n",
    "    ax.scatter(finalDf.loc[indicesToKeep, 'PCA1']\n",
    "               , finalDf.loc[indicesToKeep, 'PCA2']\n",
    "               , c = color)\n",
    "ax.legend(targets)\n",
    "ax.grid()"
   ]
  },
  {
   "cell_type": "code",
   "execution_count": null,
   "metadata": {},
   "outputs": [],
   "source": [
    "imInput.shape, image_2d.shape"
   ]
  },
  {
   "cell_type": "code",
   "execution_count": null,
   "metadata": {},
   "outputs": [],
   "source": []
  },
  {
   "cell_type": "markdown",
   "metadata": {},
   "source": [
    "# PCA Analysis followed by K-means"
   ]
  },
  {
   "cell_type": "code",
   "execution_count": null,
   "metadata": {},
   "outputs": [],
   "source": [
    "img_x = StandardScaler().fit_transform(image_2d)"
   ]
  },
  {
   "cell_type": "code",
   "execution_count": null,
   "metadata": {},
   "outputs": [],
   "source": [
    "from sklearn.decomposition import PCA\n",
    "pca = PCA(n_components=1)\n",
    "principalComponents = pca.fit_transform(img_x)\n",
    "img_principalDf = pd.DataFrame(data = principalComponents, columns = ['PCA1'])"
   ]
  },
  {
   "cell_type": "code",
   "execution_count": null,
   "metadata": {},
   "outputs": [],
   "source": [
    "principalComponents[37]"
   ]
  },
  {
   "cell_type": "markdown",
   "metadata": {},
   "source": [
    "# To do - 07/12/19\n",
    "# Create an array[cluster_img_white, principal \n",
    "# components[cluster_img_white]]\n",
    "# Find mean of principal components[cluster_img_white], low, high values\n",
    "# Draw circles iteratively using circle_fit"
   ]
  },
  {
   "cell_type": "code",
   "execution_count": null,
   "metadata": {},
   "outputs": [],
   "source": []
  },
  {
   "cell_type": "code",
   "execution_count": null,
   "metadata": {},
   "outputs": [],
   "source": []
  },
  {
   "cell_type": "code",
   "execution_count": null,
   "metadata": {},
   "outputs": [],
   "source": []
  },
  {
   "cell_type": "code",
   "execution_count": null,
   "metadata": {},
   "outputs": [],
   "source": []
  },
  {
   "cell_type": "code",
   "execution_count": null,
   "metadata": {},
   "outputs": [],
   "source": []
  },
  {
   "cell_type": "code",
   "execution_count": null,
   "metadata": {},
   "outputs": [],
   "source": []
  },
  {
   "cell_type": "code",
   "execution_count": null,
   "metadata": {},
   "outputs": [],
   "source": []
  },
  {
   "cell_type": "code",
   "execution_count": null,
   "metadata": {},
   "outputs": [],
   "source": []
  },
  {
   "cell_type": "code",
   "execution_count": null,
   "metadata": {},
   "outputs": [],
   "source": [
    "kmeans_cluster_img = cluster.KMeans(n_clusters=3)\n",
    "kmeans_cluster_img.fit(principalComponents)\n",
    "cluster_centers_img = kmeans_cluster_img.cluster_centers_\n",
    "cluster_labels_img = kmeans_cluster_img.labels_"
   ]
  },
  {
   "cell_type": "code",
   "execution_count": null,
   "metadata": {},
   "outputs": [],
   "source": [
    "cluster_labels4d=tuple(zip(*zip(*principalComponents),cluster_labels_img))\n",
    "np.savetxt('/home/raj/Downloads/kmeans_img.csv', cluster_labels4d, delimiter=',')"
   ]
  },
  {
   "cell_type": "markdown",
   "metadata": {},
   "source": [
    "# Splitting up Tissue objects"
   ]
  },
  {
   "cell_type": "code",
   "execution_count": null,
   "metadata": {},
   "outputs": [],
   "source": [
    "cluster_img_white = []\n",
    "cluster_img_purple = []\n",
    "cluster_img_pink = []\n",
    "\n",
    "for i in range (0,65535):\n",
    "    if (cluster_labels_img[i] == 0): cluster_img_white.append(i)\n",
    "    if (cluster_labels_img[i] == 1): cluster_img_purple.append(i) \n",
    "    if (cluster_labels_img[i] == 2): cluster_img_pink.append(i) \n",
    "\n",
    "print (len(cluster_img_white), len(cluster_img_purple), len(cluster_img_pink))"
   ]
  },
  {
   "cell_type": "code",
   "execution_count": null,
   "metadata": {},
   "outputs": [],
   "source": [
    "cluster_labels4d=tuple(zip(*zip(*principalComponents),cluster_img_white))\n",
    "np.savetxt('/home/raj/Downloads/white_img.csv', cluster_labels4d, delimiter=',')\n",
    "cluster_labels4d=tuple(zip(*zip(*principalComponents),cluster_img_purple))\n",
    "np.savetxt('/home/raj/Downloads/purple_img.csv', cluster_labels4d, delimiter=',')\n",
    "cluster_labels4d=tuple(zip(*zip(*image_2d),cluster_img_pink))\n",
    "np.savetxt('/home/raj/Downloads/pink_img.csv', cluster_labels4d, delimiter=',')"
   ]
  },
  {
   "cell_type": "code",
   "execution_count": null,
   "metadata": {},
   "outputs": [],
   "source": [
    "cluster_img_white"
   ]
  },
  {
   "cell_type": "code",
   "execution_count": null,
   "metadata": {},
   "outputs": [],
   "source": []
  },
  {
   "cell_type": "code",
   "execution_count": null,
   "metadata": {},
   "outputs": [],
   "source": []
  },
  {
   "cell_type": "code",
   "execution_count": null,
   "metadata": {},
   "outputs": [],
   "source": [
    "white_reshaped[0]"
   ]
  },
  {
   "cell_type": "code",
   "execution_count": null,
   "metadata": {},
   "outputs": [],
   "source": []
  },
  {
   "cell_type": "code",
   "execution_count": null,
   "metadata": {},
   "outputs": [],
   "source": []
  },
  {
   "cell_type": "code",
   "execution_count": null,
   "metadata": {},
   "outputs": [],
   "source": []
  },
  {
   "cell_type": "code",
   "execution_count": null,
   "metadata": {},
   "outputs": [],
   "source": [
    "image_2d[1,:],image_2d[2,:]"
   ]
  },
  {
   "cell_type": "code",
   "execution_count": null,
   "metadata": {},
   "outputs": [],
   "source": [
    "image_2d.shape, imInput.shape"
   ]
  },
  {
   "cell_type": "code",
   "execution_count": null,
   "metadata": {},
   "outputs": [],
   "source": [
    "img_reshaped = np.reshape(image_2d, (256,256,3))"
   ]
  },
  {
   "cell_type": "code",
   "execution_count": null,
   "metadata": {},
   "outputs": [],
   "source": [
    "import sklearn.datasets, sklearn.decomposition\n",
    "\n",
    "mu = np.mean(img_x, axis=0)\n",
    "\n",
    "pca = sklearn.decomposition.PCA()\n",
    "pca.fit(img_x)\n",
    "\n",
    "nComp = 1\n",
    "Xhat = np.dot(pca.transform(img_x)[:,:nComp], pca.components_[:nComp,:])\n",
    "Xhat += mu\n",
    "\n",
    "print(Xhat[0,])"
   ]
  },
  {
   "cell_type": "code",
   "execution_count": null,
   "metadata": {},
   "outputs": [],
   "source": [
    "Xhat.shape"
   ]
  },
  {
   "cell_type": "code",
   "execution_count": null,
   "metadata": {},
   "outputs": [],
   "source": []
  },
  {
   "cell_type": "code",
   "execution_count": null,
   "metadata": {},
   "outputs": [],
   "source": []
  },
  {
   "cell_type": "code",
   "execution_count": null,
   "metadata": {},
   "outputs": [],
   "source": []
  },
  {
   "cell_type": "code",
   "execution_count": null,
   "metadata": {},
   "outputs": [],
   "source": []
  },
  {
   "cell_type": "code",
   "execution_count": null,
   "metadata": {},
   "outputs": [],
   "source": []
  },
  {
   "cell_type": "code",
   "execution_count": null,
   "metadata": {},
   "outputs": [],
   "source": []
  },
  {
   "cell_type": "code",
   "execution_count": null,
   "metadata": {},
   "outputs": [],
   "source": [
    "cluster_labels1=np.zeros((256,256))"
   ]
  },
  {
   "cell_type": "code",
   "execution_count": null,
   "metadata": {},
   "outputs": [],
   "source": [
    "cluster_labels1= cluster_labels_00.reshape(256, 256)"
   ]
  },
  {
   "cell_type": "code",
   "execution_count": null,
   "metadata": {},
   "outputs": [],
   "source": [
    "cluster_labels1.shape"
   ]
  },
  {
   "cell_type": "code",
   "execution_count": null,
   "metadata": {},
   "outputs": [],
   "source": [
    "imOutput=cluster_centers_00[cluster_labels_00].reshape(x, y, z)"
   ]
  },
  {
   "cell_type": "code",
   "execution_count": null,
   "metadata": {},
   "outputs": [],
   "source": [
    "plt.figure(figsize = (15,8))\n",
    "plt.imshow((imOutput * 255).astype(np.uint8))"
   ]
  },
  {
   "cell_type": "code",
   "execution_count": null,
   "metadata": {},
   "outputs": [],
   "source": [
    "imOutput.shape, imInput.shape"
   ]
  },
  {
   "cell_type": "code",
   "execution_count": null,
   "metadata": {},
   "outputs": [],
   "source": [
    "imOutput.size"
   ]
  },
  {
   "cell_type": "code",
   "execution_count": null,
   "metadata": {},
   "outputs": [],
   "source": [
    "cluster_labels_00"
   ]
  },
  {
   "cell_type": "code",
   "execution_count": null,
   "metadata": {},
   "outputs": [],
   "source": [
    "import circle_fit as cf"
   ]
  },
  {
   "cell_type": "markdown",
   "metadata": {},
   "source": [
    "# Finding Largest Circle Object of Tissue component  (LOT)  - Procedure"
   ]
  },
  {
   "cell_type": "markdown",
   "metadata": {},
   "source": [
    "# Finding LOT for first cluster (Cluster0 of 1st run of k-means)"
   ]
  },
  {
   "cell_type": "code",
   "execution_count": null,
   "metadata": {},
   "outputs": [],
   "source": [
    "# Adding up three cluster_positions with their x,y coordinates\n",
    "cluster_00_x=[]\n",
    "cluster_00_y=[]\n",
    "cluster_01_x=[]\n",
    "cluster_01_y=[]\n",
    "cluster_02_x=[]\n",
    "cluster_02_y=[]\n",
    "for i in range(0,255):\n",
    "       for j in range(0,255):\n",
    "        if (cluster_labels1[i,j] == 0): cluster_00_x.append([i]),cluster_00_y.append([j])\n",
    "        if (cluster_labels1[i,j] == 1): cluster_01_x.append([i]),cluster_01_y.append([j])\n",
    "        if (cluster_labels1[i,j] == 2): cluster_02_x.append([i]),cluster_02_y.append([j])\n",
    "z=len(cluster_00_x)+len(cluster_01_x)+len(cluster_02_x)\n",
    "z"
   ]
  },
  {
   "cell_type": "code",
   "execution_count": null,
   "metadata": {},
   "outputs": [],
   "source": [
    "# Identifying image positions/pixels matching nearest cluster0 intenstity values \n",
    "cluster_00_points = np.where(imInput ==(243, 229, 234)) #[243.01990705, 229.31279562, 233.74852959] Cluster#0 values"
   ]
  },
  {
   "cell_type": "code",
   "execution_count": null,
   "metadata": {},
   "outputs": [],
   "source": [
    "len(cluster_00_points)"
   ]
  },
  {
   "cell_type": "code",
   "execution_count": null,
   "metadata": {},
   "outputs": [],
   "source": [
    "cluster_00_points"
   ]
  },
  {
   "cell_type": "code",
   "execution_count": null,
   "metadata": {},
   "outputs": [],
   "source": []
  },
  {
   "cell_type": "code",
   "execution_count": null,
   "metadata": {},
   "outputs": [],
   "source": [
    "# Splitting up image positios/pixels of cluster_00_points into another 3 clusters\n",
    "# k-means clustering on points distance from cluster_center\n",
    "# As the input is pixel co-ordinates, clusters are based pixel distance from cluster_center\n",
    "cluster_00_0x=[]\n",
    "cluster_00_1x=[]\n",
    "cluster_00_2x=[]\n",
    "cluster_00_0y=[]\n",
    "cluster_00_1y=[]\n",
    "cluster_00_2y=[]\n",
    "for i in range(0,3509):\n",
    "        if (cluster_00_points[2][i] == 0): cluster_00_0x.append(cluster_00_points[0][i]), cluster_00_0y.append(cluster_00_points[1][i])\n",
    "        if (cluster_00_points[2][i] == 1): cluster_00_1x.append(cluster_00_points[0][i]), cluster_00_1y.append(cluster_00_points[1][i])\n",
    "        if (cluster_00_points[2][i] == 2): cluster_00_2x.append(cluster_00_points[0][i]), cluster_00_2y.append(cluster_00_points[1][i])  "
   ]
  },
  {
   "cell_type": "code",
   "execution_count": null,
   "metadata": {},
   "outputs": [],
   "source": [
    "# Combining x,y coordinates for first cluster of cluster00\n",
    "cluster_00_0_xy = np.vstack((cluster_00_0x, cluster_00_0y)).T "
   ]
  },
  {
   "cell_type": "code",
   "execution_count": null,
   "metadata": {},
   "outputs": [],
   "source": [
    "np.shape(cluster_00_0_xy)"
   ]
  },
  {
   "cell_type": "code",
   "execution_count": null,
   "metadata": {},
   "outputs": [],
   "source": [
    "xc_00_0,yc_00_0,r_00_0,_ = cf.least_squares_circle((cluster_00_0_xy)) "
   ]
  },
  {
   "cell_type": "code",
   "execution_count": null,
   "metadata": {},
   "outputs": [],
   "source": [
    "len(cluster_00_0_xy),len(cluster_00_1x), len(cluster_00_2x) "
   ]
  },
  {
   "cell_type": "code",
   "execution_count": null,
   "metadata": {},
   "outputs": [],
   "source": [
    "cluster_00_0_xy[:,0]"
   ]
  },
  {
   "cell_type": "code",
   "execution_count": null,
   "metadata": {},
   "outputs": [],
   "source": [
    "cluster_00_0_xy[:,1]"
   ]
  },
  {
   "cell_type": "code",
   "execution_count": null,
   "metadata": {},
   "outputs": [],
   "source": [
    "kmeans_cluster_00_1 = cluster.KMeans(n_clusters=3)\n",
    "kmeans_cluster_00_1.fit(cluster_00_0_xy)\n",
    "cluster_00_1_centers= kmeans_cluster_00_1.cluster_centers_\n",
    "cluster_00_1_labels= kmeans_cluster_00_1.labels_"
   ]
  },
  {
   "cell_type": "code",
   "execution_count": null,
   "metadata": {},
   "outputs": [],
   "source": [
    "cluster_00_1_centers"
   ]
  },
  {
   "cell_type": "code",
   "execution_count": null,
   "metadata": {},
   "outputs": [],
   "source": [
    "cluster_00_0_xy"
   ]
  },
  {
   "cell_type": "code",
   "execution_count": null,
   "metadata": {},
   "outputs": [],
   "source": []
  },
  {
   "cell_type": "code",
   "execution_count": null,
   "metadata": {},
   "outputs": [],
   "source": []
  },
  {
   "cell_type": "code",
   "execution_count": null,
   "metadata": {},
   "outputs": [],
   "source": [
    "# Identifying image positions/pixels matching nearest cluster0 intenstity values \n",
    "cluster_00_1_points = np.where(cluster_00_0_xy ==[185,51]) #[185.4970684, 51.08338762] Cluster#00 values"
   ]
  },
  {
   "cell_type": "code",
   "execution_count": null,
   "metadata": {},
   "outputs": [],
   "source": [
    "cluster_00_1_points"
   ]
  },
  {
   "cell_type": "code",
   "execution_count": null,
   "metadata": {},
   "outputs": [],
   "source": [
    "np.shape(cluster_00_1_points)"
   ]
  },
  {
   "cell_type": "code",
   "execution_count": null,
   "metadata": {},
   "outputs": [],
   "source": [
    "# Splitting up cluster_00_0_points into another 3 clusters \n",
    "# First cluster from cluster0(Image)->cluster0(coordinates)\n",
    "# k-means clustering on points distance from cluster_center\n",
    "# As the input is pixel co-ordinates, clusters are based pixel distance from cluster_center\n",
    "cluster_00_0_0x=[]\n",
    "cluster_00_0_1x=[]\n",
    "cluster_00_0_2x=[]\n",
    "cluster_00_0_0y=[]\n",
    "cluster_00_0_1y=[]\n",
    "cluster_00_0_2y=[]\n",
    "for i in range(0,32):\n",
    "        if (cluster_00_1_points[1][i] == 0): cluster_00_0_0x.append(cluster_00_1_points[0][i]), cluster_00_0_0y.append(255)\n",
    "        if (cluster_00_1_points[1][i] == 1): cluster_00_0_1x.append(cluster_00_1_points[0][i]), cluster_00_0_1y.append(255)\n",
    "        if (cluster_00_1_points[1][i] == 2): cluster_00_0_2x.append(cluster_00_1_points[0][i]), cluster_00_0_2y.append(255)"
   ]
  },
  {
   "cell_type": "code",
   "execution_count": null,
   "metadata": {},
   "outputs": [],
   "source": [
    "# Combining x,y coordinates for first cluster of cluster00\n",
    "cluster_00_0_0xy = np.vstack((cluster_00_0_0x, cluster_00_0_0y)).T "
   ]
  },
  {
   "cell_type": "code",
   "execution_count": null,
   "metadata": {},
   "outputs": [],
   "source": [
    "cluster_00_0_0xy"
   ]
  },
  {
   "cell_type": "code",
   "execution_count": null,
   "metadata": {},
   "outputs": [],
   "source": [
    "xc_00_0_0,yc_00_0_0,r_00_0_0,_ = cf.least_squares_circle((cluster_00_0_0xy))  "
   ]
  },
  {
   "cell_type": "code",
   "execution_count": null,
   "metadata": {},
   "outputs": [],
   "source": []
  },
  {
   "cell_type": "code",
   "execution_count": null,
   "metadata": {},
   "outputs": [],
   "source": []
  },
  {
   "cell_type": "code",
   "execution_count": null,
   "metadata": {},
   "outputs": [],
   "source": []
  },
  {
   "cell_type": "code",
   "execution_count": null,
   "metadata": {},
   "outputs": [],
   "source": [
    "kmeans_cluster_00_0_1 = cluster.KMeans(n_clusters=3)\n",
    "kmeans_cluster_00_0_1.fit(cluster_00_0_0_xy)\n",
    "cluster_00_0_1_centers= kmeans_cluster_00_0_1.cluster_centers_\n",
    "cluster_00_0_1_labels= kmeans_cluster_00_0_1.labels_"
   ]
  },
  {
   "cell_type": "code",
   "execution_count": null,
   "metadata": {},
   "outputs": [],
   "source": [
    "cluster_00_0_1_centers"
   ]
  },
  {
   "cell_type": "code",
   "execution_count": null,
   "metadata": {},
   "outputs": [],
   "source": [
    "# Identifying image positions/pixels matching nearest cluster00 intenstity values \n",
    "cluster_00_0_1_points = np.where(cluster_00_0_0_xy ==(1722,0)) #[1721.5,    0. ] Cluster#00_0_0 values#xc_00,yc_00,r_00,_ = cf.least_squares_circle((cluster_00_xy)) cluster_00_xy\n",
    "xc_00_0,yc_00_0,r_00_0,_ = cf.least_squares_circle((cluster_00_0_xy)) "
   ]
  },
  {
   "cell_type": "code",
   "execution_count": null,
   "metadata": {},
   "outputs": [],
   "source": [
    "cluster_00_0_1_points"
   ]
  },
  {
   "cell_type": "code",
   "execution_count": null,
   "metadata": {},
   "outputs": [],
   "source": [
    "cluster_00_0_1_point_0=[]\n",
    "cluster_00_0_1_point_1=[]\n",
    "cluster_00_0_1_point_2=[]\n",
    "for i in range(0,22):\n",
    "           if (cluster_00_0_1_point_0 == 0): cluster_00_0_1_point_0.append(combined0_0[i])\n",
    "            if (cluster_00_0_1_point_1 == 1): cluster_00_0_1_point_1.append(combined0_0[i])\n",
    "            if (cluster_00_0_1_point_2 == 2): cluster_00_0_1_point_2.append(combined0_0[i])\n",
    "\n",
    "# Splitting up cluster_00_0_points into another 3 clusters \n",
    "# First cluster from cluster0(Image)->cluster0(coordinates)\n",
    "# k-means clustering on points distance from cluster_center\n",
    "# As the input is pixel co-ordinates, clusters are based pixel distance from cluster_center\n",
    "cluster_00_0_1_0x=[]\n",
    "cluster_00_0_1_1x=[]\n",
    "cluster_00_0_1_2x=[]\n",
    "cluster_00_0_1_0y=[]\n",
    "cluster_00_0_1_1y=[]\n",
    "cluster_00_0_1_2y=[]\n",
    "for i in range(0,22):\n",
    "        if (cluster_00_0_1_points[1][i] == 0): cluster_00_0_1_0x.append(cluster_00_1_points[0][i]), cluster_00_0_0y.append(cluster_00_1_points[1][i])\n",
    "        if (cluster_00_0_1_points[1][i] == 1): cluster_00_0_1x.append(cluster_00_1_points[0][i]), cluster_00_0_1y.append(cluster_00_1_points[1][i])\n",
    "        if (cluster_00_0_1_points[1][i] == 2): cluster_00_0_2x.append(cluster_00_1_points[0][i]), cluster_00_0_2y.append(cluster_00_1_points[1][i])  "
   ]
  },
  {
   "cell_type": "code",
   "execution_count": null,
   "metadata": {},
   "outputs": [],
   "source": []
  },
  {
   "cell_type": "code",
   "execution_count": null,
   "metadata": {},
   "outputs": [],
   "source": []
  },
  {
   "cell_type": "code",
   "execution_count": null,
   "metadata": {},
   "outputs": [],
   "source": []
  },
  {
   "cell_type": "code",
   "execution_count": null,
   "metadata": {},
   "outputs": [],
   "source": [
    "! pip install circle-fit\n",
    "import circle_fit as cf"
   ]
  },
  {
   "cell_type": "code",
   "execution_count": null,
   "metadata": {},
   "outputs": [],
   "source": [
    "# Applying Circle-fit algorithm on each cluster\n",
    "#xc_00,yc_00,r_00,_ = cf.least_squares_circle((cluster_00_xy)) cluster_00_xy\n",
    "xc_00_0,yc_00_0,r_00_0,_ = cf.least_squares_circle((cluster_00_0_xy)) \n",
    "#xc_00_0_0,yc_00_0_0,r_00_0_0,_ = cf.least_squares_circle((cluster_00_0_0_xy))  \n",
    "\n"
   ]
  },
  {
   "cell_type": "code",
   "execution_count": null,
   "metadata": {},
   "outputs": [],
   "source": [
    "# Drawing Circles for each cluster\n",
    "inputImageFile = ('/media/raj/Raj1_5/10ktiles/train/gbm/TCGA-02-0001-01Z-00-DX2_20x_4768_25216_256x256.png')  # H&E.png\n",
    "imOrig = skimage.io.imread(inputImageFile)[:, :, :3]\n",
    "\n",
    "imInput = imOrig.copy()\n",
    "cv2.circle(imInput,(int(xc_00_0),int(yc_00_0)),int(r_00_0),3)\n",
    "#cv2.circle(imInput,(int(xc_00_0_0),int(yc_00_0_0)),int(r_00_0_0),3)\n",
    "\n",
    "cv2.imwrite('/home/raj/Downloads/clustered_TCGA-02-0001-01Z-00-DX2_20x_4768_25216_256x256.png',\n",
    "            cv2.cvtColor(imInput, cv2.COLOR_RGB2BGR))\n",
    "           \n",
    "im = cv2.imread('/home/raj/Downloads/clustered_TCGA-02-0001-01Z-00-DX2_20x_4768_25216_256x256.png')\n",
    "\n",
    "plt.imshow(cv2.cvtColor(im, cv2.COLOR_BGR2RGB))\n",
    "plt.show()"
   ]
  },
  {
   "cell_type": "code",
   "execution_count": null,
   "metadata": {},
   "outputs": [],
   "source": [
    "# Drawing Circles for each cluster\n",
    "inputImageFile = ('/media/raj/Raj1_5/10ktiles/train/gbm/TCGA-02-0001-01Z-00-DX2_20x_4768_25216_256x256.png')  # H&E.png\n",
    "imOrig = skimage.io.imread(inputImageFile)[:, :, :3]\n",
    "\n",
    "imInput = imOrig.copy()\n",
    "#cv2.circle(imInput,(int(xc_00_0),int(yc_00_0)),int(r_00_0),3)\n",
    "cv2.circle(imInput,(int(xc_00_0_0),int(yc_00_0_0)),int(r_00_0_0),3)\n",
    "\n",
    "cv2.imwrite('/home/raj/Downloads/clustered_TCGA-02-0001-01Z-00-DX2_20x_4768_25216_256x256.png',\n",
    "            cv2.cvtColor(imInput, cv2.COLOR_RGB2BGR))\n",
    "           \n",
    "im = cv2.imread('/home/raj/Downloads/clustered_TCGA-02-0001-01Z-00-DX2_20x_4768_25216_256x256.png')\n",
    "\n",
    "plt.imshow(cv2.cvtColor(im, cv2.COLOR_BGR2RGB))\n",
    "plt.show()"
   ]
  },
  {
   "cell_type": "code",
   "execution_count": null,
   "metadata": {},
   "outputs": [],
   "source": []
  },
  {
   "cell_type": "code",
   "execution_count": null,
   "metadata": {},
   "outputs": [],
   "source": []
  },
  {
   "cell_type": "code",
   "execution_count": null,
   "metadata": {},
   "outputs": [],
   "source": [
    "np.shape(cluster_0_points)r"
   ]
  },
  {
   "cell_type": "code",
   "execution_count": null,
   "metadata": {},
   "outputs": [],
   "source": [
    "# First Row represents, x-coordinates of position, Second row represents y-coordinates\n",
    "# Third row represents respective cluster Number\n",
    "# For Eg, the first columun value (0,136,0) represents, (0,136) position in the image with cluster#0\n",
    "cluster_0_points"
   ]
  },
  {
   "cell_type": "code",
   "execution_count": null,
   "metadata": {},
   "outputs": [],
   "source": [
    "# Cluster#0 intensity values [243.01990705, 229.31279562, 233.74852959]\n",
    "# cluster_0, cluster_0, cluster_1, cluster_0\n",
    "# Position's Intensity values closely matches with respective cluster's intensity values\n",
    "imInput[0,136], imInput[0,138], imInput[255,198], imInput[255,236] "
   ]
  },
  {
   "cell_type": "code",
   "execution_count": null,
   "metadata": {},
   "outputs": [],
   "source": [
    "# Identifying image positions/pixels matching nearest cluster1 intenstity values \n",
    "cluster_1_points = np.where(imInput ==(211, 127, 163)) #[211.21876855, 127.25825318, 163.44356371] Cluster#1 values"
   ]
  },
  {
   "cell_type": "code",
   "execution_count": null,
   "metadata": {},
   "outputs": [],
   "source": [
    "cluster_1_points"
   ]
  },
  {
   "cell_type": "code",
   "execution_count": null,
   "metadata": {},
   "outputs": [],
   "source": [
    "# Cluster#1 intensity values [211.21876855, 127.25825318, 163.44356371]\n",
    "# cluster_0, cluster_1, cluster_2\n",
    "# Position's Intensity values closely matches with respective cluster's intensity values\n",
    "imInput[0,33], imInput[0,56], imInput[255,226] "
   ]
  },
  {
   "cell_type": "code",
   "execution_count": null,
   "metadata": {},
   "outputs": [],
   "source": [
    "# Identifying image positions/pixels matching nearest cluster2 intenstity values \n",
    "cluster_2_points = np.where(imInput ==(142, 71, 121)) #[142.47274174,  71.00358138, 121.60684441] Cluster#2 values"
   ]
  },
  {
   "cell_type": "code",
   "execution_count": null,
   "metadata": {},
   "outputs": [],
   "source": [
    "cluster_2_points"
   ]
  },
  {
   "cell_type": "code",
   "execution_count": null,
   "metadata": {},
   "outputs": [],
   "source": [
    "# Cluster#1 intensity values [142.47274174,  71.00358138, 121.60684441]\n",
    "# cluster_0, , cluster_1, cluster_2\n",
    "# Position's Intensity values closely matches with respective cluster's intensity values\n",
    "imInput[0,19],imInput[1,0], imInput[0,204]"
   ]
  },
  {
   "cell_type": "code",
   "execution_count": null,
   "metadata": {},
   "outputs": [],
   "source": [
    "print(np.shape(cluster_0_points))\n",
    "print(np.shape(cluster_1_points))\n",
    "print(np.shape(cluster_2_points))"
   ]
  },
  {
   "cell_type": "code",
   "execution_count": null,
   "metadata": {},
   "outputs": [],
   "source": [
    "cluster_0_points[0].shape, cluster_1_points[0].shape, cluster_2_points[0].shape"
   ]
  },
  {
   "cell_type": "code",
   "execution_count": null,
   "metadata": {},
   "outputs": [],
   "source": []
  },
  {
   "cell_type": "code",
   "execution_count": null,
   "metadata": {},
   "outputs": [],
   "source": [
    "#Splitting up image positios/pixels of cluster_1_points into another 3 clusters based on clusteral values \n",
    "cluster_1_0x=[]\n",
    "cluster_1_1x=[]\n",
    "cluster_1_2x=[]\n",
    "cluster_1_0y=[]\n",
    "cluster_1_1y=[]\n",
    "cluster_1_2y=[]\n",
    "for i in range(0,2326):\n",
    "        if (cluster_1_points[2][i] == 0): cluster_1_0x.append(cluster_1_points[0][i]), cluster_1_0y.append(cluster_1_points[1][i])\n",
    "        if (cluster_1_points[2][i] == 1): cluster_1_1x.append(cluster_1_points[0][i]), cluster_1_1y.append(cluster_1_points[1][i])\n",
    "        if (cluster_1_points[2][i] == 2): cluster_1_2x.append(cluster_1_points[0][i]), cluster_1_2y.append(cluster_1_points[1][i])  "
   ]
  },
  {
   "cell_type": "code",
   "execution_count": null,
   "metadata": {},
   "outputs": [],
   "source": [
    "#Splitting up image positios/pixels of cluster_2_points into another 3 clusters based on clusteral values \n",
    "cluster_2_0x=[]\n",
    "cluster_2_1x=[]\n",
    "cluster_2_2x=[]\n",
    "cluster_2_0y=[]\n",
    "cluster_2_1y=[]\n",
    "cluster_2_2y=[]\n",
    "for i in range(0,377):\n",
    "        if (cluster_2_points[2][i] == 0): cluster_2_0x.append(cluster_2_points[0][i]), cluster_2_0y.append(cluster_2_points[1][i])\n",
    "        if (cluster_2_points[2][i] == 1): cluster_2_1x.append(cluster_2_points[0][i]), cluster_2_1y.append(cluster_2_points[1][i])\n",
    "        if (cluster_2_points[2][i] == 2): cluster_2_2x.append(cluster_2_points[0][i]), cluster_2_2y.append(cluster_2_points[1][i])  "
   ]
  },
  {
   "cell_type": "markdown",
   "metadata": {},
   "source": [
    "### start"
   ]
  },
  {
   "cell_type": "code",
   "execution_count": null,
   "metadata": {},
   "outputs": [],
   "source": [
    "# Cluster_0_0 Circle (Largest Object Circle) generation\n",
    "cluste_0_0_len=len(cluster_0_0x)\n",
    "cluster_0_0_x, cluster_0_0_y, cluster_0_0_radius = circle_fit(cluster_0_0x, cluster_0_0y, cluste_0_0_len)\n",
    "\n",
    "inputImageFile = ('/media/raj/Raj1_5/10ktiles/train/gbm/TCGA-02-0001-01Z-00-DX2_20x_4768_25216_256x256.png')  # H&E.png\n",
    "imOrig = skimage.io.imread(inputImageFile)[:, :, :3]\n",
    "\n",
    "imInput = imOrig.copy()\n",
    "cv2.circle(imInput,(int(round(cluster_0_0_x)),int(round(cluster_0_0_y))),int(round(cluster_0_0_radius)), 3)           \n",
    "cv2.imwrite('/home/raj/Downloads/cluster_0_0_TCGA-02-0001-01Z-00-DX2_20x_4768_25216_256x256.png',\n",
    "            cv2.cvtColor(imInput, cv2.COLOR_RGB2BGR))\n",
    "           \n",
    "im = cv2.imread('/home/raj/Downloads/cluster_0_0_TCGA-02-0001-01Z-00-DX2_20x_4768_25216_256x256.png')\n",
    "\n",
    "plt.imshow(cv2.cvtColor(im, cv2.COLOR_BGR2RGB))\n",
    "plt.show()"
   ]
  },
  {
   "cell_type": "code",
   "execution_count": null,
   "metadata": {},
   "outputs": [],
   "source": [
    "# Cluster_0_1 Circle (Largest Object Circle) generation\n",
    "cluste_0_1_len=len(cluster_0_1x)\n",
    "cluster_0_1_x, cluster_0_1_y, cluster_0_1_radius = circle_fit(cluster_0_1x, cluster_0_1y, cluste_0_1_len)\n",
    "\n",
    "inputImageFile = ('/media/raj/Raj1_5/10ktiles/train/gbm/TCGA-02-0001-01Z-00-DX2_20x_4768_25216_256x256.png')  # H&E.png\n",
    "imOrig = skimage.io.imread(inputImageFile)[:, :, :3]\n",
    "\n",
    "imInput = imOrig.copy()\n",
    "cv2.circle(imInput,(int(round(cluster_0_1_x)),int(round(cluster_0_1_y))),int(round(cluster_0_1_radius)), 3)           \n",
    "cv2.imwrite('/home/raj/Downloads/cluster_0_1_TCGA-02-0001-01Z-00-DX2_20x_4768_25216_256x256.png',\n",
    "            cv2.cvtColor(imInput, cv2.COLOR_RGB2BGR))           \n",
    "\n",
    "im = cv2.imread('/home/raj/Downloads/cluster_0_1_TCGA-02-0001-01Z-00-DX2_20x_4768_25216_256x256.png')\n",
    "plt.imshow(cv2.cvtColor(im, cv2.COLOR_BGR2RGB))\n",
    "plt.show()"
   ]
  },
  {
   "cell_type": "code",
   "execution_count": null,
   "metadata": {},
   "outputs": [],
   "source": [
    "# Cluster_0_2 Circle (Largest Object Circle) generation\n",
    "cluste_0_2_len=len(cluster_0_2x)\n",
    "cluster_0_2_x, cluster_0_2_y, cluster_0_2_radius = circle_fit(cluster_0_2x, cluster_0_2y, cluste_0_2_len)\n",
    "\n",
    "inputImageFile = ('/media/raj/Raj1_5/10ktiles/train/gbm/TCGA-02-0001-01Z-00-DX2_20x_4768_25216_256x256.png')  # H&E.png\n",
    "imOrig = skimage.io.imread(inputImageFile)[:, :, :3]\n",
    "\n",
    "imInput = imOrig.copy()\n",
    "cv2.circle(imInput,(int(round(cluster_0_2_x)),int(round(cluster_0_2_y))),int(round(cluster_0_2_radius)), 3)           \n",
    "cv2.imwrite('/home/raj/Downloads/cluster_0_2_TCGA-02-0001-01Z-00-DX2_20x_4768_25216_256x256.png',\n",
    "            cv2.cvtColor(imInput, cv2.COLOR_RGB2BGR))           \n",
    "\n",
    "im = cv2.imread('/home/raj/Downloads/cluster_0_2_TCGA-02-0001-01Z-00-DX2_20x_4768_25216_256x256.png')\n",
    "plt.imshow(cv2.cvtColor(im, cv2.COLOR_BGR2RGB))\n",
    "plt.show()"
   ]
  },
  {
   "cell_type": "code",
   "execution_count": null,
   "metadata": {},
   "outputs": [],
   "source": [
    "# Cluster_1_0 Circle (Largest Object Circle) generation\n",
    "cluste_1_0_len=len(cluster_1_0x)\n",
    "cluster_1_0_x, cluster_1_0_y, cluster_1_0_radius = circle_fit(cluster_1_0x, cluster_1_0y, cluste_1_0_len)\n",
    "\n",
    "inputImageFile = ('/media/raj/Raj1_5/10ktiles/train/gbm/TCGA-02-0001-01Z-00-DX2_20x_4768_25216_256x256.png')  # H&E.png\n",
    "imOrig = skimage.io.imread(inputImageFile)[:, :, :3]\n",
    "\n",
    "imInput = imOrig.copy()\n",
    "cv2.circle(imInput,(int(round(cluster_1_0_x)),int(round(cluster_1_0_y))),int(round(cluster_1_0_radius)), 3)           \n",
    "cv2.imwrite('/home/raj/Downloads/cluster_1_0_TCGA-02-0001-01Z-00-DX2_20x_4768_25216_256x256.png',\n",
    "            cv2.cvtColor(imInput, cv2.COLOR_RGB2BGR))\n",
    "           \n",
    "im = cv2.imread('/home/raj/Downloads/cluster_1_0_TCGA-02-0001-01Z-00-DX2_20x_4768_25216_256x256.png')\n",
    "\n",
    "plt.imshow(cv2.cvtColor(im, cv2.COLOR_BGR2RGB))\n",
    "plt.show()"
   ]
  },
  {
   "cell_type": "code",
   "execution_count": null,
   "metadata": {},
   "outputs": [],
   "source": [
    "# Cluster_1_1 Circle (Largest Object Circle) generation\n",
    "cluste_1_1_len=len(cluster_1_1x)\n",
    "cluster_1_1_x, cluster_1_1_y, cluster_1_1_radius = circle_fit(cluster_1_1x, cluster_1_1y, cluste_1_1_len)\n",
    "\n",
    "inputImageFile = ('/media/raj/Raj1_5/10ktiles/train/gbm/TCGA-02-0001-01Z-00-DX2_20x_4768_25216_256x256.png')  # H&E.png\n",
    "imOrig = skimage.io.imread(inputImageFile)[:, :, :3]\n",
    "\n",
    "imInput = imOrig.copy()\n",
    "cv2.circle(imInput,(int(round(cluster_1_1_x)),int(round(cluster_1_1_y))),int(round(cluster_1_1_radius)), 3)           \n",
    "cv2.imwrite('/home/raj/Downloads/cluster_1_1_TCGA-02-0001-01Z-00-DX2_20x_4768_25216_256x256.png',\n",
    "            cv2.cvtColor(imInput, cv2.COLOR_RGB2BGR))\n",
    "           \n",
    "im = cv2.imread('/home/raj/Downloads/cluster_1_1_TCGA-02-0001-01Z-00-DX2_20x_4768_25216_256x256.png')\n",
    "\n",
    "plt.imshow(cv2.cvtColor(im, cv2.COLOR_BGR2RGB))\n",
    "plt.show()"
   ]
  },
  {
   "cell_type": "code",
   "execution_count": null,
   "metadata": {},
   "outputs": [],
   "source": [
    "# Cluster_1_2 Circle (Largest Object Circle) generation\n",
    "cluste_1_2_len=len(cluster_1_2x)\n",
    "cluster_1_2_x, cluster_1_2_y, cluster_1_2_radius = circle_fit(cluster_1_2x, cluster_1_2y, cluste_1_2_len)\n",
    "\n",
    "inputImageFile = ('/media/raj/Raj1_5/10ktiles/train/gbm/TCGA-02-0001-01Z-00-DX2_20x_4768_25216_256x256.png')  # H&E.png\n",
    "imOrig = skimage.io.imread(inputImageFile)[:, :, :3]\n",
    "\n",
    "imInput = imOrig.copy()\n",
    "cv2.circle(imInput,(int(round(cluster_1_2_x)),int(round(cluster_1_2_y))),int(round(cluster_1_2_radius)), 3)           \n",
    "cv2.imwrite('/home/raj/Downloads/cluster_1_2_TCGA-02-0001-01Z-00-DX2_20x_4768_25216_256x256.png',\n",
    "            cv2.cvtColor(imInput, cv2.COLOR_RGB2BGR))\n",
    "           \n",
    "im = cv2.imread('/home/raj/Downloads/cluster_1_2_TCGA-02-0001-01Z-00-DX2_20x_4768_25216_256x256.png')\n",
    "\n",
    "plt.imshow(cv2.cvtColor(im, cv2.COLOR_BGR2RGB))\n",
    "plt.show()"
   ]
  },
  {
   "cell_type": "code",
   "execution_count": null,
   "metadata": {},
   "outputs": [],
   "source": [
    "# Cluster_2_0 Circle (Largest Object Circle) generation\n",
    "cluste_2_0_len=len(cluster_2_0x)\n",
    "cluster_2_0_x, cluster_2_0_y, cluster_2_0_radius = circle_fit(cluster_2_0x, cluster_2_0y, cluste_2_0_len)\n",
    "\n",
    "inputImageFile = ('/media/raj/Raj1_5/10ktiles/train/gbm/TCGA-02-0001-01Z-00-DX2_20x_4768_25216_256x256.png')  # H&E.png\n",
    "imOrig = skimage.io.imread(inputImageFile)[:, :, :3]\n",
    "\n",
    "imInput = imOrig.copy()\n",
    "cv2.circle(imInput,(int(round(cluster_2_0_x)),int(round(cluster_2_0_y))),int(round(cluster_2_0_radius)), 3)           \n",
    "cv2.imwrite('/home/raj/Downloads/cluster_2_0_TCGA-02-0001-01Z-00-DX2_20x_4768_25216_256x256.png',\n",
    "            cv2.cvtColor(imInput, cv2.COLOR_RGB2BGR))\n",
    "           \n",
    "im = cv2.imread('/home/raj/Downloads/cluster_2_0_TCGA-02-0001-01Z-00-DX2_20x_4768_25216_256x256.png')\n",
    "\n",
    "plt.imshow(cv2.cvtColor(im, cv2.COLOR_BGR2RGB))\n",
    "plt.show()"
   ]
  },
  {
   "cell_type": "code",
   "execution_count": null,
   "metadata": {},
   "outputs": [],
   "source": [
    "# Cluster_2_1 Circle (Largest Object Circle) generation\n",
    "cluste_2_1_len=len(cluster_2_1x)\n",
    "cluster_2_1_x, cluster_2_1_y, cluster_2_1_radius = circle_fit(cluster_2_1x, cluster_2_1y, cluste_2_1_len)\n",
    "\n",
    "inputImageFile = ('/media/raj/Raj1_5/10ktiles/train/gbm/TCGA-02-0001-01Z-00-DX2_20x_4768_25216_256x256.png')  # H&E.png\n",
    "imOrig = skimage.io.imread(inputImageFile)[:, :, :3]\n",
    "\n",
    "imInput = imOrig.copy()\n",
    "cv2.circle(imInput,(int(round(cluster_2_1_x)),int(round(cluster_2_1_y))),int(round(cluster_2_1_radius)), 3)           \n",
    "cv2.imwrite('/home/raj/Downloads/cluster_2_1_TCGA-02-0001-01Z-00-DX2_20x_4768_25216_256x256.png',\n",
    "            cv2.cvtColor(imInput, cv2.COLOR_RGB2BGR))\n",
    "           \n",
    "im = cv2.imread('/home/raj/Downloads/cluster_2_1_TCGA-02-0001-01Z-00-DX2_20x_4768_25216_256x256.png')\n",
    "\n",
    "plt.imshow(cv2.cvtColor(im, cv2.COLOR_BGR2RGB))\n",
    "plt.show()"
   ]
  },
  {
   "cell_type": "code",
   "execution_count": null,
   "metadata": {},
   "outputs": [],
   "source": [
    "# Cluster_2_2 Circle (Largest Object Circle) generation\n",
    "cluste_2_2_len=len(cluster_2_2x)\n",
    "cluster_2_2_x, cluster_2_2_y, cluster_2_2_radius = circle_fit(cluster_2_2x, cluster_2_2y, cluste_2_2_len)\n",
    "\n",
    "inputImageFile = ('/media/raj/Raj1_5/10ktiles/train/gbm/TCGA-02-0001-01Z-00-DX2_20x_4768_25216_256x256.png')  # H&E.png\n",
    "imOrig = skimage.io.imread(inputImageFile)[:, :, :3]\n",
    "\n",
    "imInput = imOrig.copy()\n",
    "cv2.circle(imInput,(int(round(cluster_2_2_x)),int(round(cluster_2_2_y))),int(round(cluster_2_2_radius)), 3)           \n",
    "cv2.imwrite('/home/raj/Downloads/cluster_2_2_TCGA-02-0001-01Z-00-DX2_20x_4768_25216_256x256.png',\n",
    "            cv2.cvtColor(imInput, cv2.COLOR_RGB2BGR))\n",
    "           \n",
    "im = cv2.imread('/home/raj/Downloads/cluster_2_2_TCGA-02-0001-01Z-00-DX2_20x_4768_25216_256x256.png')\n",
    "\n",
    "plt.imshow(cv2.cvtColor(im, cv2.COLOR_BGR2RGB))\n",
    "plt.show()"
   ]
  },
  {
   "cell_type": "code",
   "execution_count": null,
   "metadata": {},
   "outputs": [],
   "source": [
    "fig=plt.figure(figsize=(10,10))\n",
    "\n",
    "ax1 = fig.add_subplot(3,3,1)\n",
    "ax1.set_title(\"Cluster0\")\n",
    "im1 = cv2.imread('/home/raj/Downloads/cluster_0_0_TCGA-02-0001-01Z-00-DX2_20x_4768_25216_256x256.png')\n",
    "ax1.imshow(cv2.cvtColor(im1, cv2.COLOR_BGR2RGB))\n",
    "\n",
    "ax1 = fig.add_subplot(3,3,2)\n",
    "ax1.set_title(\"Cluster1\")\n",
    "im1 = cv2.imread('/home/raj/Downloads/cluster_0_1_TCGA-02-0001-01Z-00-DX2_20x_4768_25216_256x256.png')\n",
    "ax1.imshow(cv2.cvtColor(im1, cv2.COLOR_BGR2RGB))\n",
    "\n",
    "ax1 = fig.add_subplot(3,3,3)\n",
    "ax1.set_title(\"Cluster2\")\n",
    "im1 = cv2.imread('/home/raj/Downloads/cluster_0_2_TCGA-02-0001-01Z-00-DX2_20x_4768_25216_256x256.png')\n",
    "ax1.imshow(cv2.cvtColor(im1, cv2.COLOR_BGR2RGB))\n",
    "\n",
    "ax1 = fig.add_subplot(3,3,4)\n",
    "ax1.set_title(\"Cluster3\")\n",
    "im1 = cv2.imread('/home/raj/Downloads/cluster_1_0_TCGA-02-0001-01Z-00-DX2_20x_4768_25216_256x256.png')\n",
    "ax1.imshow(cv2.cvtColor(im1, cv2.COLOR_BGR2RGB))\n",
    "\n",
    "ax1 = fig.add_subplot(3,3,5)\n",
    "ax1.set_title(\"Cluster4\")\n",
    "im1 = cv2.imread('/home/raj/Downloads/cluster_1_1_TCGA-02-0001-01Z-00-DX2_20x_4768_25216_256x256.png')\n",
    "ax1.imshow(cv2.cvtColor(im1, cv2.COLOR_BGR2RGB))\n",
    "\n",
    "ax1 = fig.add_subplot(3,3,6)\n",
    "ax1.set_title(\"Cluster5\")\n",
    "im1 = cv2.imread('/home/raj/Downloads/cluster_1_2_TCGA-02-0001-01Z-00-DX2_20x_4768_25216_256x256.png')\n",
    "ax1.imshow(cv2.cvtColor(im1, cv2.COLOR_BGR2RGB))\n",
    "\n",
    "ax1 = fig.add_subplot(3,3,7)\n",
    "ax1.set_title(\"Cluster6\")\n",
    "im1 = cv2.imread('/home/raj/Downloads/cluster_2_0_TCGA-02-0001-01Z-00-DX2_20x_4768_25216_256x256.png')\n",
    "ax1.imshow(cv2.cvtColor(im1, cv2.COLOR_BGR2RGB))\n",
    "\n",
    "ax1 = fig.add_subplot(3,3,8)\n",
    "ax1.set_title(\"Cluster7\")\n",
    "im1 = cv2.imread('/home/raj/Downloads/cluster_2_1_TCGA-02-0001-01Z-00-DX2_20x_4768_25216_256x256.png')\n",
    "ax1.imshow(cv2.cvtColor(im1, cv2.COLOR_BGR2RGB))\n",
    "\n",
    "ax1 = fig.add_subplot(3,3,9)\n",
    "ax1.set_title(\"Cluster8\")\n",
    "im1 = cv2.imread('/home/raj/Downloads/cluster_2_2_TCGA-02-0001-01Z-00-DX2_20x_4768_25216_256x256.png')\n",
    "ax1.imshow(cv2.cvtColor(im1, cv2.COLOR_BGR2RGB))\n",
    "plt.show()"
   ]
  },
  {
   "cell_type": "markdown",
   "metadata": {},
   "source": [
    "## Using python package circle-fit"
   ]
  },
  {
   "cell_type": "code",
   "execution_count": null,
   "metadata": {},
   "outputs": [],
   "source": [
    "! pip install circle-fit"
   ]
  },
  {
   "cell_type": "code",
   "execution_count": null,
   "metadata": {},
   "outputs": [],
   "source": [
    "import circle_fit as cf"
   ]
  },
  {
   "cell_type": "code",
   "execution_count": null,
   "metadata": {},
   "outputs": [],
   "source": [
    "# Cluster_0_0 Circle (Largest Object Circle) generation\n",
    "combined2_2 = np.vstack((cluster_2_2x, cluster_2_2y)).T\n",
    "xc_22,yc_22,r_22,_ = cf.least_squares_circle((combined2_2))\n",
    "\n",
    "inputImageFile = ('/media/raj/Raj1_5/10ktiles/train/gbm/TCGA-02-0001-01Z-00-DX2_20x_4768_25216_256x256.png')  # H&E.png\n",
    "imOrig = skimage.io.imread(inputImageFile)[:, :, :3]\n",
    "\n",
    "imInput = imOrig.copy()\n",
    "cv2.circle(imInput,(int(xc_22),int(yc_22)),int(r_22),3)\n",
    "#cv2.circle(imInput,(int(round(cluster_0_0_x)),int(round(cluster_0_0_y))),int(round(cluster_0_0_radius)), 3)           \n",
    "cv2.imwrite('/home/raj/Downloads/cluster_cf_2_2_TCGA-02-0001-01Z-00-DX2_20x_4768_25216_256x256.png',\n",
    "            cv2.cvtColor(imInput, cv2.COLOR_RGB2BGR))\n",
    "           \n",
    "im = cv2.imread('/home/raj/Downloads/cluster_cf_2_2_TCGA-02-0001-01Z-00-DX2_20x_4768_25216_256x256.png')\n",
    "\n",
    "plt.imshow(cv2.cvtColor(im, cv2.COLOR_BGR2RGB))\n",
    "plt.show()"
   ]
  },
  {
   "cell_type": "code",
   "execution_count": null,
   "metadata": {},
   "outputs": [],
   "source": [
    "fig=plt.figure(figsize=(10,10))\n",
    "\n",
    "ax1 = fig.add_subplot(3,3,1)\n",
    "ax1.set_title(\"Cluster0\")\n",
    "im1 = cv2.imread('/home/raj/Downloads/cluster_cf_0_0_TCGA-02-0001-01Z-00-DX2_20x_4768_25216_256x256.png')\n",
    "ax1.imshow(cv2.cvtColor(im1, cv2.COLOR_BGR2RGB))\n",
    "\n",
    "ax1 = fig.add_subplot(3,3,2)\n",
    "ax1.set_title(\"Cluster1\")\n",
    "im1 = cv2.imread('/home/raj/Downloads/cluster_cf_0_1_TCGA-02-0001-01Z-00-DX2_20x_4768_25216_256x256.png')\n",
    "ax1.imshow(cv2.cvtColor(im1, cv2.COLOR_BGR2RGB))\n",
    "\n",
    "ax1 = fig.add_subplot(3,3,3)\n",
    "ax1.set_title(\"Cluster2\")\n",
    "im1 = cv2.imread('/home/raj/Downloads/cluster_cf_0_2_TCGA-02-0001-01Z-00-DX2_20x_4768_25216_256x256.png')\n",
    "ax1.imshow(cv2.cvtColor(im1, cv2.COLOR_BGR2RGB))\n",
    "\n",
    "ax1 = fig.add_subplot(3,3,4)\n",
    "ax1.set_title(\"Cluster3\")\n",
    "im1 = cv2.imread('/home/raj/Downloads/cluster_cf_1_0_TCGA-02-0001-01Z-00-DX2_20x_4768_25216_256x256.png')\n",
    "ax1.imshow(cv2.cvtColor(im1, cv2.COLOR_BGR2RGB))\n",
    "\n",
    "ax1 = fig.add_subplot(3,3,5)\n",
    "ax1.set_title(\"Cluster4\")\n",
    "im1 = cv2.imread('/home/raj/Downloads/cluster_cf_1_1_TCGA-02-0001-01Z-00-DX2_20x_4768_25216_256x256.png')\n",
    "ax1.imshow(cv2.cvtColor(im1, cv2.COLOR_BGR2RGB))\n",
    "\n",
    "ax1 = fig.add_subplot(3,3,6)\n",
    "ax1.set_title(\"Cluster5\")\n",
    "im1 = cv2.imread('/home/raj/Downloads/cluster_cf_1_2_TCGA-02-0001-01Z-00-DX2_20x_4768_25216_256x256.png')\n",
    "ax1.imshow(cv2.cvtColor(im1, cv2.COLOR_BGR2RGB))\n",
    "\n",
    "ax1 = fig.add_subplot(3,3,7)\n",
    "ax1.set_title(\"Cluster6\")\n",
    "im1 = cv2.imread('/home/raj/Downloads/cluster_cf_2_0_TCGA-02-0001-01Z-00-DX2_20x_4768_25216_256x256.png')\n",
    "ax1.imshow(cv2.cvtColor(im1, cv2.COLOR_BGR2RGB))\n",
    "\n",
    "ax1 = fig.add_subplot(3,3,8)\n",
    "ax1.set_title(\"Cluster7\")\n",
    "im1 = cv2.imread('/home/raj/Downloads/cluster_cf_2_1_TCGA-02-0001-01Z-00-DX2_20x_4768_25216_256x256.png')\n",
    "ax1.imshow(cv2.cvtColor(im1, cv2.COLOR_BGR2RGB))\n",
    "\n",
    "ax1 = fig.add_subplot(3,3,9)\n",
    "ax1.set_title(\"Cluster8\")\n",
    "im1 = cv2.imread('/home/raj/Downloads/cluster_cf_2_2_TCGA-02-0001-01Z-00-DX2_20x_4768_25216_256x256.png')\n",
    "ax1.imshow(cv2.cvtColor(im1, cv2.COLOR_BGR2RGB))\n",
    "plt.show()"
   ]
  },
  {
   "cell_type": "code",
   "execution_count": null,
   "metadata": {},
   "outputs": [],
   "source": []
  }
 ],
 "metadata": {
  "kernelspec": {
   "display_name": "Py3 Opencv HistomicsTK",
   "language": "python",
   "name": "py3opencv"
  },
  "language_info": {
   "codemirror_mode": {
    "name": "ipython",
    "version": 3
   },
   "file_extension": ".py",
   "mimetype": "text/x-python",
   "name": "python",
   "nbconvert_exporter": "python",
   "pygments_lexer": "ipython3",
   "version": "3.6.7"
  }
 },
 "nbformat": 4,
 "nbformat_minor": 2
}
